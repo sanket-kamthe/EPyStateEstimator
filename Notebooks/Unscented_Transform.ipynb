{
 "cells": [
  {
   "cell_type": "code",
   "execution_count": 48,
   "metadata": {
    "collapsed": true
   },
   "outputs": [],
   "source": [
    "import numpy as np\n",
    "import autograd.numpy as anp"
   ]
  },
  {
   "cell_type": "code",
   "execution_count": 45,
   "metadata": {},
   "outputs": [],
   "source": [
    "x_mean = np.array(([[0.0], [0.0]]), dtype=np.float)\n",
    "x_sigma =np.array([[1, 0],[ 0, 1]])"
   ]
  },
  {
   "cell_type": "code",
   "execution_count": 3,
   "metadata": {},
   "outputs": [
    {
     "data": {
      "text/plain": [
       "array([[ 1.,  0.],\n",
       "       [ 0.,  1.]])"
      ]
     },
     "execution_count": 3,
     "metadata": {},
     "output_type": "execute_result"
    }
   ],
   "source": [
    "np.linalg.cholesky(x_sigma)"
   ]
  },
  {
   "cell_type": "code",
   "execution_count": 4,
   "metadata": {},
   "outputs": [],
   "source": [
    "def get_sigma_points(x_mean, x_sigma, n = 2, alpha= 0.5, beta = 2, kappa = 10):\n",
    "    sigma_points = np.zeros([n, 2 * n + 1], dtype=np.float)\n",
    "    \n",
    "    # Use Cholesky as proxy for square root of the matrix\n",
    "    L = np.linalg.cholesky(x_sigma)\n",
    "    \n",
    "    par_lambda = alpha * alpha * (n + kappa) - n\n",
    "    sqrt_n_plus_lambda = np.sqrt(n + par_lambda)\n",
    "    \n",
    "    sigma_points[:, 0:1] = x_mean\n",
    "    sigma_points[:, 1:n+1] = x_mean + sqrt_n_plus_lambda * L \n",
    "    sigma_points[:, n+1:2*n+1] = x_mean - sqrt_n_plus_lambda * L \n",
    "    \n",
    "    w_m = np.zeros([1, 2 * n + 1 ], dtype=np.float)\n",
    "    w_c = np.zeros([1, 2 * n + 1 ], dtype=np.float)\n",
    "    \n",
    "#     print(par_lambda)\n",
    "    \n",
    "    # weights w_m are for computing mean and weights w_c are\n",
    "    # used for covarince calculation\n",
    "    \n",
    "    w_m = w_m + 1 / (2* (n + par_lambda))\n",
    "    w_c = w_c + w_m\n",
    "    w_m [0, 0] = par_lambda / (n + par_lambda) \n",
    "    w_c [0, 0] = w_m[0,0] + (1 - alpha * alpha + beta)\n",
    "    \n",
    "    return sigma_points, w_m, w_c\n",
    "    \n",
    "    "
   ]
  },
  {
   "cell_type": "code",
   "execution_count": 43,
   "metadata": {},
   "outputs": [],
   "source": [
    "def f(x):\n",
    "    x = np.array(x, dtype=np.float)\n",
    "    x2 = 2 * x + 1\n",
    "    return np.sin(x2)"
   ]
  },
  {
   "cell_type": "code",
   "execution_count": 38,
   "metadata": {},
   "outputs": [],
   "source": [
    "def unscented_transform(f, x_mean, x_sigma):\n",
    "    n = 2\n",
    "    sigma_points, w_m, w_c = get_sigma_points(x_mean, x_sigma, n=n)\n",
    "    \n",
    "    transformed_points = f(sigma_points)\n",
    "    pred_mean = np.sum (np.multiply( transformed_points , w_m ) , axis=1)\n",
    "    pred_mean = pred_mean.reshape([n, 1])\n",
    "    gofx_minus_mean = f(sigma_points) - pred_mean\n",
    "    p_s = np.matmul( gofx_minus_mean, np.transpose(gofx_minus_mean))\n",
    "    #pred_sigma = np.sum(np.multiply( np.matmul( gofx_minus_mean, gofx_minus_mean.transpose()) , w_m ))\n",
    "    return pred_mean, p_s"
   ]
  },
  {
   "cell_type": "code",
   "execution_count": 46,
   "metadata": {},
   "outputs": [
    {
     "name": "stdout",
     "output_type": "stream",
     "text": [
      "1.0\n"
     ]
    }
   ],
   "source": [
    "sigma_points, w_m, w_c = get_sigma_points(x_mean, x_sigma)"
   ]
  },
  {
   "cell_type": "code",
   "execution_count": 40,
   "metadata": {},
   "outputs": [
    {
     "data": {
      "text/plain": [
       "array([[ 0.        ,  1.73205081,  0.        , -1.73205081,  0.        ],\n",
       "       [ 0.        ,  0.        ,  1.73205081,  0.        , -1.73205081]])"
      ]
     },
     "execution_count": 40,
     "metadata": {},
     "output_type": "execute_result"
    }
   ],
   "source": [
    "sigma_points"
   ]
  },
  {
   "cell_type": "code",
   "execution_count": 41,
   "metadata": {},
   "outputs": [],
   "source": [
    "sigma_list = sigma_points.T.tolist()"
   ]
  },
  {
   "cell_type": "code",
   "execution_count": 44,
   "metadata": {},
   "outputs": [
    {
     "data": {
      "text/plain": [
       "[array([ 0.84147098,  0.84147098]),\n",
       " array([-0.96933471,  0.84147098]),\n",
       " array([ 0.84147098, -0.96933471]),\n",
       " array([-0.62684015,  0.84147098]),\n",
       " array([ 0.84147098, -0.62684015])]"
      ]
     },
     "execution_count": 44,
     "metadata": {},
     "output_type": "execute_result"
    }
   ],
   "source": [
    "list(map(f, sigma_list))"
   ]
  },
  {
   "cell_type": "code",
   "execution_count": 19,
   "metadata": {},
   "outputs": [
    {
     "name": "stdout",
     "output_type": "stream",
     "text": [
      "1.0\n"
     ]
    },
    {
     "data": {
      "text/plain": [
       "(array([[ 1.],\n",
       "        [ 1.]]), array([[ 24.,   0.],\n",
       "        [  0.,  24.]]))"
      ]
     },
     "execution_count": 19,
     "metadata": {},
     "output_type": "execute_result"
    }
   ],
   "source": [
    "unscented_transform(f, x_mean, x_sigma)"
   ]
  },
  {
   "cell_type": "code",
   "execution_count": 154,
   "metadata": {},
   "outputs": [
    {
     "data": {
      "text/plain": [
       "array([[ 1.],\n",
       "       [ 1.]])"
      ]
     },
     "execution_count": 154,
     "metadata": {},
     "output_type": "execute_result"
    }
   ],
   "source": [
    "f(x_mean)"
   ]
  },
  {
   "cell_type": "code",
   "execution_count": 21,
   "metadata": {},
   "outputs": [
    {
     "data": {
      "text/plain": [
       "array([[0],\n",
       "       [0]])"
      ]
     },
     "execution_count": 21,
     "metadata": {},
     "output_type": "execute_result"
    }
   ],
   "source": [
    "x_mean"
   ]
  },
  {
   "cell_type": "code",
   "execution_count": 47,
   "metadata": {},
   "outputs": [
    {
     "name": "stdout",
     "output_type": "stream",
     "text": [
      "Collecting autograd\n",
      "  Downloading autograd-1.1.13.tar.gz\n",
      "Requirement already satisfied: numpy>=1.12 in /Users/Pontragyin/anaconda/lib/python3.6/site-packages (from autograd)\n",
      "Collecting future>=0.15.2 (from autograd)\n",
      "  Downloading future-0.16.0.tar.gz (824kB)\n",
      "\u001b[K    100% |████████████████████████████████| 829kB 657kB/s ta 0:00:01\n",
      "\u001b[?25hBuilding wheels for collected packages: autograd, future\n",
      "  Running setup.py bdist_wheel for autograd ... \u001b[?25ldone\n",
      "\u001b[?25h  Stored in directory: /Users/Pontragyin/Library/Caches/pip/wheels/00/f9/b8/3a184a1c17c0d144c43b860e9abb7657ec2d8e03e07c15853a\n",
      "  Running setup.py bdist_wheel for future ... \u001b[?25ldone\n",
      "\u001b[?25h  Stored in directory: /Users/Pontragyin/Library/Caches/pip/wheels/c2/50/7c/0d83b4baac4f63ff7a765bd16390d2ab43c93587fac9d6017a\n",
      "Successfully built autograd future\n",
      "Installing collected packages: future, autograd\n",
      "Successfully installed autograd-1.1.13 future-0.16.0\n"
     ]
    }
   ],
   "source": [
    "!pip install autograd"
   ]
  },
  {
   "cell_type": "code",
   "execution_count": null,
   "metadata": {
    "collapsed": true
   },
   "outputs": [],
   "source": []
  }
 ],
 "metadata": {
  "kernelspec": {
   "display_name": "Python 3",
   "language": "python",
   "name": "python3"
  },
  "language_info": {
   "codemirror_mode": {
    "name": "ipython",
    "version": 3
   },
   "file_extension": ".py",
   "mimetype": "text/x-python",
   "name": "python",
   "nbconvert_exporter": "python",
   "pygments_lexer": "ipython3",
   "version": "3.6.1"
  }
 },
 "nbformat": 4,
 "nbformat_minor": 2
}
