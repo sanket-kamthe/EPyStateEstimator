{
 "cells": [
  {
   "cell_type": "code",
   "execution_count": 1,
   "metadata": {
    "collapsed": true
   },
   "outputs": [],
   "source": [
    "import numpy as np\n"
   ]
  },
  {
   "cell_type": "code",
   "execution_count": 151,
   "metadata": {
    "collapsed": true
   },
   "outputs": [],
   "source": [
    "x_mean = np.array(([[0.1], [0.0]]), dtype=np.float)\n",
    "x_sigma =np.array([[1, 0],[ 0, 1]]) * 3"
   ]
  },
  {
   "cell_type": "code",
   "execution_count": 152,
   "metadata": {},
   "outputs": [
    {
     "data": {
      "text/plain": [
       "array([[ 1.73205081,  0.        ],\n",
       "       [ 0.        ,  1.73205081]])"
      ]
     },
     "execution_count": 152,
     "metadata": {},
     "output_type": "execute_result"
    }
   ],
   "source": [
    "np.linalg.cholesky(x_sigma)"
   ]
  },
  {
   "cell_type": "code",
   "execution_count": 153,
   "metadata": {
    "collapsed": true
   },
   "outputs": [],
   "source": [
    "def get_sigma_points_old(x_mean, x_sigma, n = 2, alpha= 0.5, beta = 2, kappa = 10):\n",
    "    sigma_points = np.zeros([n, 2 * n + 1], dtype=np.float)\n",
    "    \n",
    "    # Use Cholesky as proxy for square root of the matrix\n",
    "    L = np.linalg.cholesky(x_sigma)\n",
    "    \n",
    "    par_lambda = alpha * alpha * (n + kappa) - n\n",
    "    sqrt_n_plus_lambda = np.sqrt(n + par_lambda)\n",
    "    \n",
    "    sigma_points[:, 0:1] = x_mean\n",
    "    sigma_points[:, 1:n+1] = x_mean + sqrt_n_plus_lambda * L \n",
    "    sigma_points[:, n+1:2*n+1] = x_mean - sqrt_n_plus_lambda * L \n",
    "    \n",
    "    w_m = np.zeros([1, 2 * n + 1 ], dtype=np.float)\n",
    "    w_c = np.zeros([1, 2 * n + 1 ], dtype=np.float)\n",
    "    \n",
    "#     print(par_lambda)\n",
    "    \n",
    "    # weights w_m are for computing mean and weights w_c are\n",
    "    # used for covarince calculation\n",
    "    \n",
    "    w_m = w_m + 1 / (2* (n + par_lambda))\n",
    "    w_c = w_c + w_m\n",
    "    w_m [0, 0] = par_lambda / (n + par_lambda) \n",
    "    w_c [0, 0] = w_m[0,0] + (1 - alpha * alpha + beta)\n",
    "    \n",
    "    return sigma_points, w_m, w_c\n",
    "    \n",
    "    "
   ]
  },
  {
   "cell_type": "code",
   "execution_count": 154,
   "metadata": {
    "collapsed": true
   },
   "outputs": [],
   "source": [
    "def get_sigma_points(x_mean, x_sigma, n = 2, alpha= 0.5, beta = 2, kappa = 10):\n",
    "    sigma_points = np.zeros([n, 2 * n + 1], dtype=np.float)\n",
    "    \n",
    "    # Use Cholesky as proxy for square root of the matrix\n",
    "    L = np.linalg.cholesky(x_sigma)\n",
    "    \n",
    "    par_lambda = alpha * alpha * (n + kappa) - n\n",
    "    sqrt_n_plus_lambda = np.sqrt(n + par_lambda)\n",
    "    \n",
    "#     sigma_points[:, 0:1] = x_mean\n",
    "#     sigma_points[:, 1:n+1] = x_mean + sqrt_n_plus_lambda * L \n",
    "#     sigma_points[:, n+1:2*n+1] = x_mean - sqrt_n_plus_lambda * L \n",
    "    \n",
    "    sigma_points = []\n",
    "    sigma_points.append(x_mean.T)\n",
    "    gen_list=(x_mean.T + x for x in (sqrt_n_plus_lambda * L))\n",
    "    sigma_points = sigma_points + list(gen_list)\n",
    "    gen_list=(x_mean.T - x for x in (sqrt_n_plus_lambda * L))\n",
    "    sigma_points = sigma_points + list(gen_list)\n",
    "    \n",
    "    w_m = np.zeros([ 2 * n + 1, 1 ], dtype=np.float)\n",
    "    w_c = np.zeros([ 2 * n + 1, 1 ], dtype=np.float)\n",
    "    \n",
    "#     print(par_lambda)\n",
    "    \n",
    "    # weights w_m are for computing mean and weights w_c are\n",
    "    # used for covarince calculation\n",
    "    \n",
    "    w_m = w_m + 1 / (2* (n + par_lambda))\n",
    "    w_c = w_c + w_m\n",
    "    w_m [0, 0] = par_lambda / (n + par_lambda) \n",
    "    w_c [0, 0] = w_m[0,0] + (1 - alpha * alpha + beta)\n",
    "    \n",
    "    return sigma_points, w_m, w_c\n",
    "    "
   ]
  },
  {
   "cell_type": "code",
   "execution_count": 155,
   "metadata": {},
   "outputs": [],
   "source": [
    "n = 2\n",
    "alpha= 0.5\n",
    "beta = 2\n",
    "kappa = 10\n",
    "par_lambda = alpha * alpha * (n + kappa) - n\n",
    "sqrt_n_plus_lambda = np.sqrt(n + par_lambda)\n",
    "\n",
    "L = np.linalg.cholesky(x_sigma)\n",
    "sigma_points = []\n",
    "sigma_points.append(x_mean.T)\n",
    "gen_list=(x_mean.T + x for x in (sqrt_n_plus_lambda * L))\n",
    "sigma_points = sigma_points + list(gen_list)\n",
    "gen_list=(x_mean.T - x for x in (sqrt_n_plus_lambda * L))\n",
    "sigma_points = sigma_points + list(gen_list)"
   ]
  },
  {
   "cell_type": "code",
   "execution_count": 156,
   "metadata": {
    "collapsed": true
   },
   "outputs": [],
   "source": [
    "w_m = np.ones([ 2 * n + 1 , 1], dtype=np.float)\n",
    "w_c = np.zeros([1, 2 * n + 1 ], dtype=np.float)\n",
    "    \n",
    "#     print(par_lambda)\n",
    "    \n",
    "    # weights w_m are for computing mean and weights w_c are\n",
    "    # used for covarince calculation\n",
    "    \n",
    "w_m = w_m / (2* (n + par_lambda))\n",
    "w_c = w_m.copy()\n",
    "w_m_list = w_m.tolist()\n",
    "w_c_list = w_c.tolist()\n",
    "w_m_list[0] = par_lambda / (n + par_lambda) \n",
    "w_c_list[0] = w_m[0] + (1 - alpha * alpha + beta)\n",
    "    "
   ]
  },
  {
   "cell_type": "code",
   "execution_count": 157,
   "metadata": {},
   "outputs": [
    {
     "ename": "TypeError",
     "evalue": "unsupported operand type(s) for +: 'float' and 'list'",
     "output_type": "error",
     "traceback": [
      "\u001b[0;31m---------------------------------------------------------------------------\u001b[0m",
      "\u001b[0;31mTypeError\u001b[0m                                 Traceback (most recent call last)",
      "\u001b[0;32m<ipython-input-157-22bb89ce43c9>\u001b[0m in \u001b[0;36m<module>\u001b[0;34m()\u001b[0m\n\u001b[0;32m----> 1\u001b[0;31m \u001b[0msum\u001b[0m\u001b[0;34m(\u001b[0m\u001b[0mw_m_list\u001b[0m\u001b[0;34m)\u001b[0m\u001b[0;34m\u001b[0m\u001b[0m\n\u001b[0m",
      "\u001b[0;31mTypeError\u001b[0m: unsupported operand type(s) for +: 'float' and 'list'"
     ]
    }
   ],
   "source": [
    "sum(w_m_list)"
   ]
  },
  {
   "cell_type": "code",
   "execution_count": 158,
   "metadata": {},
   "outputs": [
    {
     "data": {
      "text/plain": [
       "array([ 3.58333333])"
      ]
     },
     "execution_count": 158,
     "metadata": {},
     "output_type": "execute_result"
    }
   ],
   "source": [
    "sum(w_c_list)"
   ]
  },
  {
   "cell_type": "code",
   "execution_count": 159,
   "metadata": {},
   "outputs": [
    {
     "name": "stdout",
     "output_type": "stream",
     "text": [
      "1\n",
      "[[ 3.1  0. ]]\n",
      "1\n",
      "[[ 0.1  3. ]]\n"
     ]
    }
   ],
   "source": [
    "for item in (sqrt_n_plus_lambda * L):\n",
    "    print(1)\n",
    "    print(item + x_mean.T)"
   ]
  },
  {
   "cell_type": "code",
   "execution_count": 160,
   "metadata": {},
   "outputs": [
    {
     "data": {
      "text/plain": [
       "[array([[ 1.2,  1. ]]),\n",
       " array([[ 7.2,  1. ]]),\n",
       " array([[ 1.2,  7. ]]),\n",
       " array([[-4.8,  1. ]]),\n",
       " array([[ 1.2, -5. ]])]"
      ]
     },
     "execution_count": 160,
     "metadata": {},
     "output_type": "execute_result"
    }
   ],
   "source": [
    "list(map(f, sigma_points))"
   ]
  },
  {
   "cell_type": "code",
   "execution_count": 161,
   "metadata": {},
   "outputs": [
    {
     "data": {
      "text/plain": [
       "5"
      ]
     },
     "execution_count": 161,
     "metadata": {},
     "output_type": "execute_result"
    }
   ],
   "source": [
    "len(sigma_points)"
   ]
  },
  {
   "cell_type": "code",
   "execution_count": 162,
   "metadata": {
    "collapsed": true
   },
   "outputs": [],
   "source": [
    "def f(x):\n",
    "    x = np.array(x, dtype=np.float)\n",
    "    x2 = 2 * x + 1\n",
    "    return x2"
   ]
  },
  {
   "cell_type": "code",
   "execution_count": 171,
   "metadata": {},
   "outputs": [],
   "source": [
    "def unscented_transform(f, x_mean, x_sigma):\n",
    "    n = 2\n",
    "    sigma_points, w_m, w_c = get_sigma_points(x_mean, x_sigma, n=n)\n",
    "    \n",
    "    transformed_points = list(map(f,sigma_points))\n",
    "    \n",
    "    weighted_samples = [weight*sample for weight, sample in zip(w_m, transformed_points)]\n",
    "    pred_mean = sum (weighted_samples)\n",
    "    pred_mean = pred_mean.reshape([1, n])\n",
    "    gofx_minus_mean = transformed_points - pred_mean\n",
    "#     p_s = np.matmul( gofx_minus_mean, np.transpose(gofx_minus_mean))\n",
    "    #pred_sigma = np.sum(np.multiply( np.matmul( gofx_minus_mean, gofx_minus_mean.transpose()) , w_m ))\n",
    "    return pred_mean#, p_s"
   ]
  },
  {
   "cell_type": "code",
   "execution_count": 172,
   "metadata": {},
   "outputs": [],
   "source": [
    "sigma_points, w_m, w_c = get_sigma_points(x_mean, x_sigma)"
   ]
  },
  {
   "cell_type": "code",
   "execution_count": 173,
   "metadata": {},
   "outputs": [
    {
     "data": {
      "text/plain": [
       "array([[[ 1.2,  1. ]],\n",
       "\n",
       "       [[ 7.2,  1. ]],\n",
       "\n",
       "       [[ 1.2,  7. ]],\n",
       "\n",
       "       [[-4.8,  1. ]],\n",
       "\n",
       "       [[ 1.2, -5. ]]])"
      ]
     },
     "execution_count": 173,
     "metadata": {},
     "output_type": "execute_result"
    }
   ],
   "source": [
    "f(sigma_points)"
   ]
  },
  {
   "cell_type": "code",
   "execution_count": 174,
   "metadata": {},
   "outputs": [
    {
     "data": {
      "text/plain": [
       "1"
      ]
     },
     "execution_count": 174,
     "metadata": {},
     "output_type": "execute_result"
    }
   ],
   "source": [
    "len(w_m.T)"
   ]
  },
  {
   "cell_type": "code",
   "execution_count": 175,
   "metadata": {},
   "outputs": [
    {
     "name": "stdout",
     "output_type": "stream",
     "text": [
      "1\n",
      "[ 0.33333333  0.16666667  0.16666667  0.16666667  0.16666667]\n",
      "[[ 0.1  0. ]]\n"
     ]
    }
   ],
   "source": [
    "for weight, sample in zip(w_m.T, sigma_points):\n",
    "    print(1)\n",
    "    print(weight)\n",
    "    print(sample)"
   ]
  },
  {
   "cell_type": "code",
   "execution_count": 176,
   "metadata": {},
   "outputs": [
    {
     "data": {
      "text/plain": [
       "array([[ 1.2,  1. ]])"
      ]
     },
     "execution_count": 176,
     "metadata": {},
     "output_type": "execute_result"
    }
   ],
   "source": [
    "unscented_transform(f, x_mean, x_sigma)"
   ]
  },
  {
   "cell_type": "code",
   "execution_count": 169,
   "metadata": {},
   "outputs": [
    {
     "data": {
      "text/plain": [
       "array([[ 1.2],\n",
       "       [ 1. ]])"
      ]
     },
     "execution_count": 169,
     "metadata": {},
     "output_type": "execute_result"
    }
   ],
   "source": [
    "f(x_mean)"
   ]
  },
  {
   "cell_type": "code",
   "execution_count": 170,
   "metadata": {},
   "outputs": [
    {
     "data": {
      "text/plain": [
       "array([[ 0.1],\n",
       "       [ 0. ]])"
      ]
     },
     "execution_count": 170,
     "metadata": {},
     "output_type": "execute_result"
    }
   ],
   "source": [
    "x_mean"
   ]
  },
  {
   "cell_type": "code",
   "execution_count": null,
   "metadata": {
    "collapsed": true
   },
   "outputs": [],
   "source": []
  },
  {
   "cell_type": "code",
   "execution_count": null,
   "metadata": {
    "collapsed": true
   },
   "outputs": [],
   "source": []
  }
 ],
 "metadata": {
  "kernelspec": {
   "display_name": "Python 3",
   "language": "python",
   "name": "python3"
  },
  "language_info": {
   "codemirror_mode": {
    "name": "ipython",
    "version": 3
   },
   "file_extension": ".py",
   "mimetype": "text/x-python",
   "name": "python",
   "nbconvert_exporter": "python",
   "pygments_lexer": "ipython3",
   "version": "3.6.1"
  }
 },
 "nbformat": 4,
 "nbformat_minor": 2
}
