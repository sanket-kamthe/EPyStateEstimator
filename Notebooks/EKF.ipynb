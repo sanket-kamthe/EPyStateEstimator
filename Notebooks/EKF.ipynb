{
 "cells": [
  {
   "cell_type": "code",
   "execution_count": 301,
   "metadata": {
    "collapsed": true
   },
   "outputs": [],
   "source": [
    "import numpy as np\n",
    "from functools import partial"
   ]
  },
  {
   "cell_type": "code",
   "execution_count": 72,
   "metadata": {
    "collapsed": true
   },
   "outputs": [],
   "source": [
    "def test_func(polar):\n",
    "#     polar = np.float(polar)\n",
    "    x = polar[0] * np.sin(polar[1])\n",
    "    y = polar[0] * np.cos(polar[1])\n",
    "    return np.array([x,y])"
   ]
  },
  {
   "cell_type": "code",
   "execution_count": 254,
   "metadata": {
    "collapsed": true
   },
   "outputs": [],
   "source": [
    "def test_func_34(x):\n",
    "    y = []\n",
    "    y.insert(0, x[0])\n",
    "    y.insert(1, 5 * x[2])\n",
    "    y.insert(2, (4 * x[1] ** 2) - 2 * x[2])\n",
    "    y.insert(3, x[2] * np.sin(x[0]))\n",
    "    return np.array(y)\n",
    "      "
   ]
  },
  {
   "cell_type": "code",
   "execution_count": 255,
   "metadata": {
    "collapsed": true
   },
   "outputs": [],
   "source": [
    "x_34 = np.array([np.pi/6, 0.1, 1])"
   ]
  },
  {
   "cell_type": "code",
   "execution_count": 256,
   "metadata": {},
   "outputs": [
    {
     "data": {
      "text/plain": [
       "array([ 0.52359878,  5.        , -1.96      ,  0.5       ])"
      ]
     },
     "execution_count": 256,
     "metadata": {},
     "output_type": "execute_result"
    }
   ],
   "source": [
    "test_func_34(x_34)"
   ]
  },
  {
   "cell_type": "markdown",
   "metadata": {},
   "source": [
    "=== Example 2: polar-Cartesian transformation ===\n",
    "\n",
    "The transformation from [[polar coordinate system|polar coordinates]] {{math|(''r'', ''φ'')}} to [[Cartesian coordinate system|Cartesian coordinates]] (''x'', ''y''), is given by the function {{math|'''F''': ℝ<sup>+</sup> × [0, 2{{pi}}) → ℝ<sup>2</sup>}} with components:\n",
    "\n",
    ":<math>\\begin{align}\n",
    "x &= r \\cos \\varphi ; \\\\\n",
    "y &= r \\sin \\varphi .\n",
    "\\end{align}</math>\n",
    ":<math>\\mathbf J(r, \\varphi) = \\begin{bmatrix}\n",
    "  \\dfrac{\\partial x}{\\partial r} & \\dfrac{\\partial x}{\\partial\\varphi}\\\\[1em]\n",
    "  \\dfrac{\\partial y}{\\partial r} & \\dfrac{\\partial y}{\\partial\\varphi} \\end{bmatrix}\n",
    "= \\begin{bmatrix}\n",
    "  \\cos\\varphi & - r\\sin \\varphi \\\\\n",
    "  \\sin\\varphi &   r\\cos \\varphi \\end{bmatrix}</math>\n",
    "\n",
    "The Jacobian determinant is equal to {{math|''r''}}.  This can be used to transform integrals between the two coordinate systems:\n",
    ":<math>\\iint_{\\mathbf F(A)} f(x, y) \\,dx \\,dy = \\iint_A f(r \\cos \\varphi, r \\sin \\varphi) \\, r \\, dr \\, d\\varphi .</math>\n"
   ]
  },
  {
   "cell_type": "markdown",
   "metadata": {},
   "source": [
    ":<math>\\mathbf J_{\\mathbf F}(x_1, x_2, x_3) = \\begin{bmatrix}\n",
    "  \\dfrac{\\partial y_1}{\\partial x_1} & \\dfrac{\\partial y_1}{\\partial x_2} & \\dfrac{\\partial y_1}{\\partial x_3} \\\\[1em]\n",
    "  \\dfrac{\\partial y_2}{\\partial x_1} & \\dfrac{\\partial y_2}{\\partial x_2} & \\dfrac{\\partial y_2}{\\partial x_3} \\\\[1em]\n",
    "  \\dfrac{\\partial y_3}{\\partial x_1} & \\dfrac{\\partial y_3}{\\partial x_2} & \\dfrac{\\partial y_3}{\\partial x_3} \\\\[1em]\n",
    "  \\dfrac{\\partial y_4}{\\partial x_1} & \\dfrac{\\partial y_4}{\\partial x_2} & \\dfrac{\\partial y_4}{\\partial x_3} \\end{bmatrix}\n",
    "= \\begin{bmatrix}\n",
    "  1 & 0 & 0 \\\\\n",
    "  0 & 0 & 5 \\\\\n",
    "  0 & 8 x_2 & -2 \\\\\n",
    "  x_3\\cos x_1 & 0 & \\sin x_1 \\end{bmatrix}.</math>"
   ]
  },
  {
   "cell_type": "code",
   "execution_count": 3,
   "metadata": {
    "collapsed": true
   },
   "outputs": [],
   "source": [
    "def jac_test_func(polar):\n",
    "    r = polar[0]\n",
    "    phi = polar[1]\n",
    "    jac = np.array([[np.cos(phi), -r * np.sin(phi)],\n",
    "                    [np.sin(phi), r * np.cos(phi)]])\n",
    "    \n",
    "    return jac\n",
    "    "
   ]
  },
  {
   "cell_type": "code",
   "execution_count": 197,
   "metadata": {
    "collapsed": true
   },
   "outputs": [],
   "source": [
    "def jac_test_func_34(x):\n",
    "    jac = np.array([[1, 0, 0],\n",
    "                    [0, 0, 5],\n",
    "                    [0, 8 * x[1], -2],\n",
    "                    [x[2]*np.cos(x[0]), 0, np.sin(x[0])] ])\n",
    "    return jac"
   ]
  },
  {
   "cell_type": "code",
   "execution_count": 198,
   "metadata": {},
   "outputs": [
    {
     "data": {
      "text/plain": [
       "array([[ 1.       ,  0.       ,  0.       ],\n",
       "       [ 0.       ,  0.       ,  5.       ],\n",
       "       [ 0.       ,  0.8      , -2.       ],\n",
       "       [ 0.8660254,  0.       ,  0.5      ]])"
      ]
     },
     "execution_count": 198,
     "metadata": {},
     "output_type": "execute_result"
    }
   ],
   "source": [
    "jac_test_func_34(x_34)"
   ]
  },
  {
   "cell_type": "code",
   "execution_count": 173,
   "metadata": {
    "collapsed": true
   },
   "outputs": [],
   "source": [
    "x = np.array([2.0, 0.1])"
   ]
  },
  {
   "cell_type": "code",
   "execution_count": 174,
   "metadata": {},
   "outputs": [
    {
     "data": {
      "text/plain": [
       "array([ 0.19966683,  1.99000833])"
      ]
     },
     "execution_count": 174,
     "metadata": {},
     "output_type": "execute_result"
    }
   ],
   "source": [
    "test_func(x)"
   ]
  },
  {
   "cell_type": "code",
   "execution_count": 175,
   "metadata": {},
   "outputs": [
    {
     "data": {
      "text/plain": [
       "array([[ 0.99500417, -0.19966683],\n",
       "       [ 0.09983342,  1.99000833]])"
      ]
     },
     "execution_count": 175,
     "metadata": {},
     "output_type": "execute_result"
    }
   ],
   "source": [
    "jc = jac_test_func(x)\n",
    "jc"
   ]
  },
  {
   "cell_type": "code",
   "execution_count": 277,
   "metadata": {
    "collapsed": true
   },
   "outputs": [],
   "source": [
    "def numerical_jacobian(f, x, eps=1e-5, *args):\n",
    "    z = f(x, *args)\n",
    "#     jacobian  = np.zeros((m,n), dtype=float)\n",
    "    jacobian = []\n",
    "    x_list = x.tolist()\n",
    "    for i, data in enumerate(x_list):\n",
    "        \n",
    "        x1 = x.tolist()\n",
    "        x1[i] = data + eps\n",
    "        x1 = np.array(x1)\n",
    "        jacobian.append((f(x1, *args) - z ) / eps)\n",
    "    \n",
    "    return np.array(jacobian).T"
   ]
  },
  {
   "cell_type": "code",
   "execution_count": 278,
   "metadata": {},
   "outputs": [
    {
     "data": {
      "text/plain": [
       "array([ 0. ,  5. , -2. ,  0.5])"
      ]
     },
     "execution_count": 278,
     "metadata": {},
     "output_type": "execute_result"
    }
   ],
   "source": []
  },
  {
   "cell_type": "code",
   "execution_count": 257,
   "metadata": {},
   "outputs": [],
   "source": [
    "f = test_func_34\n",
    "z = f(x_34)\n",
    "h = 1e-4\n",
    "n = x.size\n",
    "m = z.size\n",
    "jacobian  = []"
   ]
  },
  {
   "cell_type": "code",
   "execution_count": 263,
   "metadata": {},
   "outputs": [],
   "source": [
    "i = 2\n",
    "x1 = x_34.tolist()\n",
    "x1[i] = x_34[i] + h\n",
    "x2 = np.array(x1)\n",
    "x3 = (f(x2) - z ) / h\n",
    "jacobian.append(x3)\n",
    "# jacobian.append((f(x2) - z ) / h)"
   ]
  },
  {
   "cell_type": "code",
   "execution_count": 264,
   "metadata": {},
   "outputs": [
    {
     "data": {
      "text/plain": [
       "array([[ 1.       ,  0.       ,  0.       ],\n",
       "       [ 0.       ,  0.       ,  5.       ],\n",
       "       [ 0.       ,  0.8004   , -2.       ],\n",
       "       [ 0.8660004,  0.       ,  0.5      ]])"
      ]
     },
     "execution_count": 264,
     "metadata": {},
     "output_type": "execute_result"
    }
   ],
   "source": [
    "np.array(jacobian).T"
   ]
  },
  {
   "cell_type": "code",
   "execution_count": 249,
   "metadata": {},
   "outputs": [
    {
     "data": {
      "text/plain": [
       "array([ 0.        ,  0.        , -0.00041369,  0.        ])"
      ]
     },
     "execution_count": 249,
     "metadata": {},
     "output_type": "execute_result"
    }
   ],
   "source": [
    "f(x2) "
   ]
  },
  {
   "cell_type": "code",
   "execution_count": 248,
   "metadata": {},
   "outputs": [
    {
     "data": {
      "text/plain": [
       "array([ 0.52359878,  5.        ,  1.17731294,  0.5       ])"
      ]
     },
     "execution_count": 248,
     "metadata": {},
     "output_type": "execute_result"
    }
   ],
   "source": [
    "f(x_34)"
   ]
  },
  {
   "cell_type": "code",
   "execution_count": 252,
   "metadata": {},
   "outputs": [
    {
     "data": {
      "text/plain": [
       "0.040080040000000004"
      ]
     },
     "execution_count": 252,
     "metadata": {},
     "output_type": "execute_result"
    }
   ],
   "source": [
    "4 * ((x2[1]) ** 2)"
   ]
  },
  {
   "cell_type": "code",
   "execution_count": 253,
   "metadata": {},
   "outputs": [
    {
     "data": {
      "text/plain": [
       "0.040000000000000008"
      ]
     },
     "execution_count": 253,
     "metadata": {},
     "output_type": "execute_result"
    }
   ],
   "source": [
    "4 * ((x_34[1]) ** 2)"
   ]
  },
  {
   "cell_type": "code",
   "execution_count": 170,
   "metadata": {},
   "outputs": [
    {
     "data": {
      "text/plain": [
       "array([[  0.00000000e+00,   1.00000000e+00],\n",
       "       [  2.00000000e+00,  -9.99999994e-05]])"
      ]
     },
     "execution_count": 170,
     "metadata": {},
     "output_type": "execute_result"
    }
   ],
   "source": [
    "np.flip(np.array(jacobian), axis=1)"
   ]
  },
  {
   "cell_type": "code",
   "execution_count": 282,
   "metadata": {
    "collapsed": true
   },
   "outputs": [],
   "source": [
    "x_34 = np.array([np.pi/2, 10.1, 3])"
   ]
  },
  {
   "cell_type": "code",
   "execution_count": 286,
   "metadata": {},
   "outputs": [
    {
     "data": {
      "text/plain": [
       "array([ 2. ,  0.1])"
      ]
     },
     "execution_count": 286,
     "metadata": {},
     "output_type": "execute_result"
    }
   ],
   "source": [
    "x"
   ]
  },
  {
   "cell_type": "code",
   "execution_count": 285,
   "metadata": {},
   "outputs": [
    {
     "data": {
      "text/plain": [
       "array([[  1.00000000e+00,   0.00000000e+00,   0.00000000e+00],\n",
       "       [  0.00000000e+00,   0.00000000e+00,   5.00000000e+00],\n",
       "       [  0.00000000e+00,   8.08000000e+01,  -2.00000000e+00],\n",
       "       [  1.83697020e-16,   0.00000000e+00,   1.00000000e+00]])"
      ]
     },
     "execution_count": 285,
     "metadata": {},
     "output_type": "execute_result"
    }
   ],
   "source": [
    "jac_test_func_34(x_34)"
   ]
  },
  {
   "cell_type": "code",
   "execution_count": 284,
   "metadata": {},
   "outputs": [
    {
     "data": {
      "text/plain": [
       "array([[ 0.09983342,  1.99000733],\n",
       "       [ 0.99500417, -0.19967678]])"
      ]
     },
     "execution_count": 284,
     "metadata": {},
     "output_type": "execute_result"
    }
   ],
   "source": [
    "numerical_jacobian(test_func, x)"
   ]
  },
  {
   "cell_type": "code",
   "execution_count": 63,
   "metadata": {},
   "outputs": [
    {
     "data": {
      "text/plain": [
       "array([ 0.    ,  2.0001])"
      ]
     },
     "execution_count": 63,
     "metadata": {},
     "output_type": "execute_result"
    }
   ],
   "source": [
    "f(x2) "
   ]
  },
  {
   "cell_type": "code",
   "execution_count": 67,
   "metadata": {},
   "outputs": [
    {
     "data": {
      "text/plain": [
       "array([ -2.00010000e+00,   1.00005000e-04])"
      ]
     },
     "execution_count": 67,
     "metadata": {},
     "output_type": "execute_result"
    }
   ],
   "source": [
    "(f(x2) - z)/ h"
   ]
  },
  {
   "cell_type": "code",
   "execution_count": 54,
   "metadata": {},
   "outputs": [
    {
     "name": "stdout",
     "output_type": "stream",
     "text": [
      "2.000901\n",
      "0.0\n"
     ]
    }
   ],
   "source": [
    "for x_temp in x1:\n",
    "    print(x_temp)"
   ]
  },
  {
   "cell_type": "code",
   "execution_count": 287,
   "metadata": {},
   "outputs": [],
   "source": [
    "def test2(x):\n",
    "    y = []\n",
    "    y.insert(0, np.sin(x[0]))\n",
    "    y.insert(1, np.sin(x[0]) + np.sin(x[1]))\n",
    "    y.insert(2, np.sin(x[1]))\n",
    "#     y.insert(3, np.sin(x[0]) + np.sin(x[0])\n",
    "    return np.array(y)\n",
    "    "
   ]
  },
  {
   "cell_type": "code",
   "execution_count": 293,
   "metadata": {
    "collapsed": true
   },
   "outputs": [],
   "source": [
    "x_test = np.array([0, np.pi/3])"
   ]
  },
  {
   "cell_type": "code",
   "execution_count": 294,
   "metadata": {},
   "outputs": [
    {
     "data": {
      "text/plain": [
       "array([ 0.       ,  0.8660254,  0.8660254])"
      ]
     },
     "execution_count": 294,
     "metadata": {},
     "output_type": "execute_result"
    }
   ],
   "source": [
    "test2(x_test)"
   ]
  },
  {
   "cell_type": "code",
   "execution_count": 295,
   "metadata": {},
   "outputs": [
    {
     "data": {
      "text/plain": [
       "array([[ 1.        ,  0.        ],\n",
       "       [ 1.        ,  0.49999567],\n",
       "       [ 0.        ,  0.49999567]])"
      ]
     },
     "execution_count": 295,
     "metadata": {},
     "output_type": "execute_result"
    }
   ],
   "source": [
    "numerical_jacobian(test2, x_test)"
   ]
  },
  {
   "cell_type": "code",
   "execution_count": 101,
   "metadata": {},
   "outputs": [
    {
     "data": {
      "text/plain": [
       "array([[  2.00000000e+00,  -9.99999994e-05],\n",
       "       [  0.00000000e+00,   1.00000000e+00]])"
      ]
     },
     "execution_count": 101,
     "metadata": {},
     "output_type": "execute_result"
    }
   ],
   "source": [
    "np.array(numerical_jacobian(test_func, x))"
   ]
  },
  {
   "cell_type": "code",
   "execution_count": 304,
   "metadata": {},
   "outputs": [],
   "source": [
    "jac_func = partial(numerical_jacobian, test2)"
   ]
  },
  {
   "cell_type": "code",
   "execution_count": 305,
   "metadata": {},
   "outputs": [
    {
     "data": {
      "text/plain": [
       "array([[ 1.        ,  0.        ],\n",
       "       [ 1.        ,  0.49999567],\n",
       "       [ 0.        ,  0.49999567]])"
      ]
     },
     "execution_count": 305,
     "metadata": {},
     "output_type": "execute_result"
    }
   ],
   "source": [
    "jac_func(x_test)"
   ]
  },
  {
   "cell_type": "code",
   "execution_count": 308,
   "metadata": {},
   "outputs": [
    {
     "data": {
      "text/plain": [
       "array([[[ -1.00000008e-05,   0.00000000e+00],\n",
       "        [ -9.99200722e-06,   0.00000000e+00],\n",
       "        [  0.00000000e+00,   0.00000000e+00]],\n",
       "\n",
       "       [[  0.00000000e+00,   0.00000000e+00],\n",
       "        [  0.00000000e+00,  -8.66030581e-01],\n",
       "        [  0.00000000e+00,  -8.66030581e-01]]])"
      ]
     },
     "execution_count": 308,
     "metadata": {},
     "output_type": "execute_result"
    }
   ],
   "source": [
    "numerical_jacobian(jac_func, x_test)"
   ]
  },
  {
   "cell_type": "code",
   "execution_count": null,
   "metadata": {
    "collapsed": true
   },
   "outputs": [],
   "source": []
  }
 ],
 "metadata": {
  "kernelspec": {
   "display_name": "Python 3",
   "language": "python",
   "name": "python3"
  },
  "language_info": {
   "codemirror_mode": {
    "name": "ipython",
    "version": 3
   },
   "file_extension": ".py",
   "mimetype": "text/x-python",
   "name": "python",
   "nbconvert_exporter": "python",
   "pygments_lexer": "ipython3",
   "version": "3.6.1"
  }
 },
 "nbformat": 4,
 "nbformat_minor": 2
}
