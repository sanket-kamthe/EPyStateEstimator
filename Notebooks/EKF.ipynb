{
 "cells": [
  {
   "cell_type": "code",
   "execution_count": 1,
   "metadata": {
    "collapsed": true
   },
   "outputs": [],
   "source": [
    "import numpy as np"
   ]
  },
  {
   "cell_type": "code",
   "execution_count": 7,
   "metadata": {
    "collapsed": true
   },
   "outputs": [],
   "source": [
    "def test_func(polar):\n",
    "    x = polar[0] * np.sin(polar[1])\n",
    "    y = polar[0] * np.cos(polar[1])\n",
    "    return np.array([x,y])"
   ]
  },
  {
   "cell_type": "markdown",
   "metadata": {},
   "source": [
    "=== Example 2: polar-Cartesian transformation ===\n",
    "\n",
    "The transformation from [[polar coordinate system|polar coordinates]] {{math|(''r'', ''φ'')}} to [[Cartesian coordinate system|Cartesian coordinates]] (''x'', ''y''), is given by the function {{math|'''F''': ℝ<sup>+</sup> × [0, 2{{pi}}) → ℝ<sup>2</sup>}} with components:\n",
    "\n",
    ":<math>\\begin{align}\n",
    "x &= r \\cos \\varphi ; \\\\\n",
    "y &= r \\sin \\varphi .\n",
    "\\end{align}</math>\n",
    ":<math>\\mathbf J(r, \\varphi) = \\begin{bmatrix}\n",
    "  \\dfrac{\\partial x}{\\partial r} & \\dfrac{\\partial x}{\\partial\\varphi}\\\\[1em]\n",
    "  \\dfrac{\\partial y}{\\partial r} & \\dfrac{\\partial y}{\\partial\\varphi} \\end{bmatrix}\n",
    "= \\begin{bmatrix}\n",
    "  \\cos\\varphi & - r\\sin \\varphi \\\\\n",
    "  \\sin\\varphi &   r\\cos \\varphi \\end{bmatrix}</math>\n",
    "\n",
    "The Jacobian determinant is equal to {{math|''r''}}.  This can be used to transform integrals between the two coordinate systems:\n",
    ":<math>\\iint_{\\mathbf F(A)} f(x, y) \\,dx \\,dy = \\iint_A f(r \\cos \\varphi, r \\sin \\varphi) \\, r \\, dr \\, d\\varphi .</math>\n"
   ]
  },
  {
   "cell_type": "code",
   "execution_count": 12,
   "metadata": {
    "collapsed": true
   },
   "outputs": [],
   "source": [
    "def jac_test_func(polar):\n",
    "    r = polar[0]\n",
    "    phi = polar[1]\n",
    "    jac = np.array([[np.cos(phi), -r * np.sin(phi)],\n",
    "                    [np.sin(phi), r * np.cos(phi)]])\n",
    "    \n",
    "    return jac\n",
    "    "
   ]
  },
  {
   "cell_type": "code",
   "execution_count": 13,
   "metadata": {
    "collapsed": true
   },
   "outputs": [],
   "source": [
    "x = np.array([2, 0.0])"
   ]
  },
  {
   "cell_type": "code",
   "execution_count": 14,
   "metadata": {},
   "outputs": [
    {
     "data": {
      "text/plain": [
       "array([ 0.,  2.])"
      ]
     },
     "execution_count": 14,
     "metadata": {},
     "output_type": "execute_result"
    }
   ],
   "source": [
    "test_func(x)"
   ]
  },
  {
   "cell_type": "code",
   "execution_count": 15,
   "metadata": {},
   "outputs": [
    {
     "data": {
      "text/plain": [
       "array([[ 1., -0.],\n",
       "       [ 0.,  2.]])"
      ]
     },
     "execution_count": 15,
     "metadata": {},
     "output_type": "execute_result"
    }
   ],
   "source": [
    "jac_test_func(x)"
   ]
  },
  {
   "cell_type": "code",
   "execution_count": 30,
   "metadata": {
    "collapsed": true
   },
   "outputs": [],
   "source": [
    "def numerical_jacobian(f, x, *args):\n",
    "    z = f(x, *args)\n",
    "    h = 1e-4\n",
    "    n = x.shape[0]\n",
    "    m = z.shape[0]\n",
    "    jacobian  = np.zeros((m,n), dtype=float)\n",
    "    for i in range(n):\n",
    "        x1 = x\n",
    "        x1[i] = x1[i] + h \n",
    "        \n",
    "        jacobian[:, i] = (f(x1, *args) - z ) / h\n",
    "    \n",
    "    return jacobian"
   ]
  },
  {
   "cell_type": "code",
   "execution_count": 27,
   "metadata": {},
   "outputs": [],
   "source": [
    "f = test_func\n",
    "z = f(x)\n",
    "h = 1e-4\n",
    "n = x.shape[0]\n",
    "m = z.shape[0]\n",
    "jacobian  = np.zeros((m,n), dtype=float)"
   ]
  },
  {
   "cell_type": "code",
   "execution_count": 35,
   "metadata": {},
   "outputs": [
    {
     "data": {
      "text/plain": [
       "array([ 2.00169994,  4.99949973])"
      ]
     },
     "execution_count": 35,
     "metadata": {},
     "output_type": "execute_result"
    }
   ],
   "source": [
    "x1 = x\n",
    "x1[0] = x1[0] + h\n",
    "(f(x1)-z)/h"
   ]
  },
  {
   "cell_type": "code",
   "execution_count": 31,
   "metadata": {},
   "outputs": [
    {
     "data": {
      "text/plain": [
       "array([[  1.99999999e-04,   2.00049994e+00],\n",
       "       [  9.99999980e-01,   9.99499905e-01]])"
      ]
     },
     "execution_count": 31,
     "metadata": {},
     "output_type": "execute_result"
    }
   ],
   "source": [
    "numerical_jacobian(test_func, x)"
   ]
  }
 ],
 "metadata": {
  "kernelspec": {
   "display_name": "Python (tensorflow)",
   "language": "python",
   "name": "tensorflow"
  },
  "language_info": {
   "codemirror_mode": {
    "name": "ipython",
    "version": 3
   },
   "file_extension": ".py",
   "mimetype": "text/x-python",
   "name": "python",
   "nbconvert_exporter": "python",
   "pygments_lexer": "ipython3",
   "version": "3.6.1"
  }
 },
 "nbformat": 4,
 "nbformat_minor": 2
}
