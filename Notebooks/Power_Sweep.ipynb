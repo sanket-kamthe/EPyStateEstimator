{
 "cells": [
  {
   "cell_type": "code",
   "execution_count": 1,
   "metadata": {
    "collapsed": true
   },
   "outputs": [],
   "source": [
    "%matplotlib inline\n",
    "import numpy as np\n",
    "import itertools\n",
    "import matplotlib.pyplot as plt\n",
    "import seaborn as sns"
   ]
  },
  {
   "cell_type": "code",
   "execution_count": 2,
   "metadata": {
    "collapsed": true
   },
   "outputs": [],
   "source": [
    "import os\n",
    "import sys\n",
    "module_path = os.path.abspath(os.path.join('..'))\n",
    "if module_path not in sys.path:\n",
    "    sys.path.append(module_path)"
   ]
  },
  {
   "cell_type": "code",
   "execution_count": 3,
   "metadata": {},
   "outputs": [
    {
     "data": {
      "text/plain": [
       "sys.version_info(major=3, minor=6, micro=1, releaselevel='final', serial=0)"
      ]
     },
     "execution_count": 3,
     "metadata": {},
     "output_type": "execute_result"
    }
   ],
   "source": [
    "sys.version_info"
   ]
  },
  {
   "cell_type": "code",
   "execution_count": 4,
   "metadata": {
    "collapsed": true
   },
   "outputs": [],
   "source": [
    "from MomentMatching.newMomentMatch import UnscentedTransform, TaylorTransform, MonteCarloTransform\n",
    "from Systems import UniformNonlinearGrowthModel\n",
    "from MomentMatching.StateModels import GaussianState\n",
    "from ExpectationPropagation import EPNodes\n",
    "from MomentMatching.ExpectationPropagation import TopEP\n",
    "from Filters.KalmanFilter import KalmanFilterSmoother, PowerKalmanFilterSmoother\n",
    "from Utils.Metrics import nll, rmse\n",
    "from Utils.Plot_Helper import plot_gaussian, plot_gaussian_node\n",
    "from Systems import BearingsOnlyTracking\n",
    "import logging"
   ]
  },
  {
   "cell_type": "code",
   "execution_count": 65,
   "metadata": {
    "collapsed": true
   },
   "outputs": [],
   "source": [
    "SEED = 11\n",
    "\n",
    "np.random.seed(seed=SEED)\n",
    "\n",
    "N = 50\n",
    "system = UniformNonlinearGrowthModel()\n",
    "# system = BearingsOnlyTracking()\n",
    "data = system.simulate(N)\n",
    "x_true, x_noisy, y_true, y_noisy = zip(*data)\n",
    "\n",
    "\n",
    "power = 1\n",
    "damping = 1\n",
    "\n",
    "transform = UnscentedTransform(n=1,  beta=0,  alpha=1, kappa=2)\n",
    "meas_transform = UnscentedTransform(n=1, beta=0,  alpha=1, kappa=2)"
   ]
  },
  {
   "cell_type": "code",
   "execution_count": 107,
   "metadata": {
    "collapsed": true
   },
   "outputs": [],
   "source": [
    "def _power_sweep(power, damping):\n",
    "    transform = UnscentedTransform(n=1, beta=0, alpha=1, kappa=3)\n",
    "    meas_transform = UnscentedTransform(n=1, beta=0, alpha=1, kappa=2)\n",
    "#     transform = TaylorTransform()\n",
    "#     transform = MonteCarloTransform(number_of_samples=2000)\n",
    "#     meas_transform = MonteCarloTransform(number_of_samples=2000)\n",
    "    Nodes = EPNodes(dimension_of_state=1, N=N)\n",
    "    EP = TopEP(system_model=system,\n",
    "               moment_matching=transform,\n",
    "               meas_transform=meas_transform,\n",
    "               power=power,\n",
    "               damping=damping)\n",
    "\n",
    "    EPNodesList = EP.forward_backward_iteration(10, Nodes, y_noisy, list(range(0, N)), x_true)\n",
    "\n",
    "    Node = [node.marginal for node in EPNodesList[-1]]\n",
    "    return nll(Node, x_true), rmse(Node, x_true)"
   ]
  },
  {
   "cell_type": "code",
   "execution_count": 108,
   "metadata": {
    "collapsed": true
   },
   "outputs": [],
   "source": [
    "x = 20\n",
    "y = 20\n",
    "power_range = np.linspace(0.1, 1.0, num=x)\n",
    "damp_range = np.linspace(0.1, 1.0, num=y)"
   ]
  },
  {
   "cell_type": "code",
   "execution_count": null,
   "metadata": {},
   "outputs": [],
   "source": []
  },
  {
   "cell_type": "code",
   "execution_count": 109,
   "metadata": {
    "scrolled": true
   },
   "outputs": [
    {
     "name": "stdout",
     "output_type": "stream",
     "text": [
      "Power = 0.1000 and Damping = 0.1000\n",
      "Power = 0.1000 and Damping = 0.1474\n",
      "Power = 0.1000 and Damping = 0.1947\n",
      "Power = 0.1000 and Damping = 0.2421\n",
      "Power = 0.1000 and Damping = 0.2895\n",
      "Power = 0.1000 and Damping = 0.3368\n",
      "Power = 0.1000 and Damping = 0.3842\n",
      "Power = 0.1000 and Damping = 0.4316\n",
      "Power = 0.1000 and Damping = 0.4789\n",
      "Power = 0.1000 and Damping = 0.5263\n",
      "Power = 0.1000 and Damping = 0.5737\n",
      "Power = 0.1000 and Damping = 0.6211\n",
      "Power = 0.1000 and Damping = 0.6684\n",
      "Power = 0.1000 and Damping = 0.7158\n",
      "Power = 0.1000 and Damping = 0.7632\n",
      "Power = 0.1000 and Damping = 0.8105\n",
      "Power = 0.1000 and Damping = 0.8579\n",
      "Power = 0.1000 and Damping = 0.9053\n",
      "Power = 0.1000 and Damping = 0.9526\n",
      "Power = 0.1000 and Damping = 1.0000\n",
      "Power = 0.1474 and Damping = 0.1000\n",
      "Power = 0.1474 and Damping = 0.1474\n",
      "Power = 0.1474 and Damping = 0.1947\n",
      "Power = 0.1474 and Damping = 0.2421\n",
      "Power = 0.1474 and Damping = 0.2895\n",
      "Power = 0.1474 and Damping = 0.3368\n",
      "Power = 0.1474 and Damping = 0.3842\n",
      "Power = 0.1474 and Damping = 0.4316\n",
      "Power = 0.1474 and Damping = 0.4789\n",
      "Power = 0.1474 and Damping = 0.5263\n",
      "Power = 0.1474 and Damping = 0.5737\n",
      "Power = 0.1474 and Damping = 0.6211\n",
      "Power = 0.1474 and Damping = 0.6684\n",
      "Power = 0.1474 and Damping = 0.7158\n",
      "Power = 0.1474 and Damping = 0.7632\n",
      "Power = 0.1474 and Damping = 0.8105\n",
      "Power = 0.1474 and Damping = 0.8579\n",
      "Power = 0.1474 and Damping = 0.9053\n",
      "Power = 0.1474 and Damping = 0.9526\n",
      "Power = 0.1474 and Damping = 1.0000\n",
      "Power = 0.1947 and Damping = 0.1000\n",
      "Power = 0.1947 and Damping = 0.1474\n",
      "Power = 0.1947 and Damping = 0.1947\n",
      "Power = 0.1947 and Damping = 0.2421\n",
      "Power = 0.1947 and Damping = 0.2895\n",
      "Power = 0.1947 and Damping = 0.3368\n",
      "Power = 0.1947 and Damping = 0.3842\n",
      "Power = 0.1947 and Damping = 0.4316\n",
      "Power = 0.1947 and Damping = 0.4789\n",
      "Power = 0.1947 and Damping = 0.5263\n",
      "Power = 0.1947 and Damping = 0.5737\n",
      "Power = 0.1947 and Damping = 0.6211\n",
      "Power = 0.1947 and Damping = 0.6684\n",
      "Power = 0.1947 and Damping = 0.7158\n",
      "Power = 0.1947 and Damping = 0.7632\n",
      "Power = 0.1947 and Damping = 0.8105\n",
      "Power = 0.1947 and Damping = 0.8579\n",
      "Power = 0.1947 and Damping = 0.9053\n",
      "Power = 0.1947 and Damping = 0.9526\n",
      "Power = 0.1947 and Damping = 1.0000\n",
      "Power = 0.2421 and Damping = 0.1000\n",
      "Power = 0.2421 and Damping = 0.1474\n",
      "Power = 0.2421 and Damping = 0.1947\n",
      "Power = 0.2421 and Damping = 0.2421\n",
      "Power = 0.2421 and Damping = 0.2895\n",
      "Power = 0.2421 and Damping = 0.3368\n",
      "Power = 0.2421 and Damping = 0.3842\n",
      "Power = 0.2421 and Damping = 0.4316\n",
      "Power = 0.2421 and Damping = 0.4789\n",
      "Power = 0.2421 and Damping = 0.5263\n",
      "Power = 0.2421 and Damping = 0.5737\n",
      "Power = 0.2421 and Damping = 0.6211\n",
      "Power = 0.2421 and Damping = 0.6684\n",
      "Power = 0.2421 and Damping = 0.7158\n",
      "Power = 0.2421 and Damping = 0.7632\n",
      "Power = 0.2421 and Damping = 0.8105\n",
      "Power = 0.2421 and Damping = 0.8579\n",
      "Power = 0.2421 and Damping = 0.9053\n",
      "possible bad covariance matrix [[-8536341.1068]]\n"
     ]
    },
    {
     "ename": "LinAlgError",
     "evalue": "",
     "output_type": "error",
     "traceback": [
      "\u001b[0;31m---------------------------------------------------------------------------\u001b[0m",
      "\u001b[0;31mLinAlgError\u001b[0m                               Traceback (most recent call last)",
      "\u001b[0;32m/home/adaboost/Documents/github/pyStateEstimator/StateModel/Gaussian.py\u001b[0m in \u001b[0;36mmoment_to_natural\u001b[0;34m(mean, cov)\u001b[0m\n\u001b[1;32m     55\u001b[0m     \u001b[0;32mtry\u001b[0m\u001b[0;34m:\u001b[0m\u001b[0;34m\u001b[0m\u001b[0m\n\u001b[0;32m---> 56\u001b[0;31m         \u001b[0mprecision\u001b[0m \u001b[0;34m=\u001b[0m \u001b[0mjittered_solve\u001b[0m\u001b[0;34m(\u001b[0m\u001b[0mcov\u001b[0m\u001b[0;34m,\u001b[0m \u001b[0mnp\u001b[0m\u001b[0;34m.\u001b[0m\u001b[0meye\u001b[0m\u001b[0;34m(\u001b[0m\u001b[0mN\u001b[0m\u001b[0;34m=\u001b[0m\u001b[0mdim\u001b[0m\u001b[0;34m)\u001b[0m\u001b[0;34m,\u001b[0m \u001b[0massume_a\u001b[0m\u001b[0;34m=\u001b[0m\u001b[0;34m'pos'\u001b[0m\u001b[0;34m)\u001b[0m\u001b[0;34m\u001b[0m\u001b[0m\n\u001b[0m\u001b[1;32m     57\u001b[0m     \u001b[0;32mexcept\u001b[0m \u001b[0mLinAlgError\u001b[0m\u001b[0;34m:\u001b[0m\u001b[0;34m\u001b[0m\u001b[0m\n",
      "\u001b[0;32m/home/adaboost/Documents/github/pyStateEstimator/Utils/linalg.py\u001b[0m in \u001b[0;36mjittered_solve\u001b[0;34m(a, b, jitter, overwrite_a, overwrite_b, assume_a, transposed)\u001b[0m\n\u001b[1;32m     37\u001b[0m     \u001b[0ma\u001b[0m \u001b[0;34m=\u001b[0m \u001b[0ma\u001b[0m \u001b[0;34m+\u001b[0m \u001b[0mjitter\u001b[0m \u001b[0;34m*\u001b[0m \u001b[0mnp\u001b[0m\u001b[0;34m.\u001b[0m\u001b[0meye\u001b[0m\u001b[0;34m(\u001b[0m\u001b[0ma\u001b[0m\u001b[0;34m.\u001b[0m\u001b[0mshape\u001b[0m\u001b[0;34m[\u001b[0m\u001b[0;34m-\u001b[0m\u001b[0;36m1\u001b[0m\u001b[0;34m]\u001b[0m\u001b[0;34m)\u001b[0m\u001b[0;34m\u001b[0m\u001b[0m\n\u001b[0;32m---> 38\u001b[0;31m     \u001b[0mx\u001b[0m \u001b[0;34m=\u001b[0m \u001b[0msolve\u001b[0m\u001b[0;34m(\u001b[0m\u001b[0ma\u001b[0m\u001b[0;34m,\u001b[0m \u001b[0mb\u001b[0m\u001b[0;34m,\u001b[0m \u001b[0moverwrite_a\u001b[0m\u001b[0;34m=\u001b[0m\u001b[0moverwrite_a\u001b[0m\u001b[0;34m,\u001b[0m \u001b[0moverwrite_b\u001b[0m\u001b[0;34m=\u001b[0m\u001b[0moverwrite_b\u001b[0m\u001b[0;34m,\u001b[0m \u001b[0massume_a\u001b[0m\u001b[0;34m=\u001b[0m\u001b[0massume_a\u001b[0m\u001b[0;34m,\u001b[0m \u001b[0mtransposed\u001b[0m\u001b[0;34m=\u001b[0m\u001b[0mtransposed\u001b[0m\u001b[0;34m)\u001b[0m\u001b[0;34m\u001b[0m\u001b[0m\n\u001b[0m\u001b[1;32m     39\u001b[0m     \u001b[0;32mreturn\u001b[0m \u001b[0mx\u001b[0m\u001b[0;34m\u001b[0m\u001b[0m\n",
      "\u001b[0;32m/home/adaboost/anaconda3/lib/python3.6/site-packages/scipy/linalg/basic.py\u001b[0m in \u001b[0;36msolve\u001b[0;34m(a, b, sym_pos, lower, overwrite_a, overwrite_b, debug, check_finite, assume_a, transposed)\u001b[0m\n\u001b[1;32m    218\u001b[0m     \u001b[0;32melif\u001b[0m \u001b[0;36m0\u001b[0m \u001b[0;34m<\u001b[0m \u001b[0minfo\u001b[0m \u001b[0;34m<=\u001b[0m \u001b[0mn\u001b[0m\u001b[0;34m:\u001b[0m\u001b[0;34m\u001b[0m\u001b[0m\n\u001b[0;32m--> 219\u001b[0;31m         \u001b[0;32mraise\u001b[0m \u001b[0mLinAlgError\u001b[0m\u001b[0;34m(\u001b[0m\u001b[0;34m'Matrix is singular.'\u001b[0m\u001b[0;34m)\u001b[0m\u001b[0;34m\u001b[0m\u001b[0m\n\u001b[0m\u001b[1;32m    220\u001b[0m     \u001b[0;32melif\u001b[0m \u001b[0minfo\u001b[0m \u001b[0;34m>\u001b[0m \u001b[0mn\u001b[0m\u001b[0;34m:\u001b[0m\u001b[0;34m\u001b[0m\u001b[0m\n",
      "\u001b[0;31mLinAlgError\u001b[0m: Matrix is singular.",
      "\nDuring handling of the above exception, another exception occurred:\n",
      "\u001b[0;31mLinAlgError\u001b[0m                               Traceback (most recent call last)",
      "\u001b[0;32m<ipython-input-109-cd403ce5fdb8>\u001b[0m in \u001b[0;36m<module>\u001b[0;34m()\u001b[0m\n\u001b[1;32m      4\u001b[0m \u001b[0;32mfor\u001b[0m \u001b[0mpower\u001b[0m\u001b[0;34m,\u001b[0m \u001b[0mdamping\u001b[0m \u001b[0;32min\u001b[0m \u001b[0mitertools\u001b[0m\u001b[0;34m.\u001b[0m\u001b[0mproduct\u001b[0m\u001b[0;34m(\u001b[0m\u001b[0mpower_range\u001b[0m\u001b[0;34m,\u001b[0m \u001b[0mdamp_range\u001b[0m\u001b[0;34m)\u001b[0m\u001b[0;34m:\u001b[0m\u001b[0;34m\u001b[0m\u001b[0m\n\u001b[1;32m      5\u001b[0m     \u001b[0mprint\u001b[0m\u001b[0;34m(\u001b[0m\u001b[0;34m'Power = {0:.4f} and Damping = {1:.4f}'\u001b[0m\u001b[0;34m.\u001b[0m\u001b[0mformat\u001b[0m\u001b[0;34m(\u001b[0m\u001b[0mpower\u001b[0m\u001b[0;34m,\u001b[0m \u001b[0mdamping\u001b[0m\u001b[0;34m)\u001b[0m\u001b[0;34m)\u001b[0m\u001b[0;34m\u001b[0m\u001b[0m\n\u001b[0;32m----> 6\u001b[0;31m     \u001b[0mans\u001b[0m \u001b[0;34m=\u001b[0m \u001b[0m_power_sweep\u001b[0m\u001b[0;34m(\u001b[0m\u001b[0mpower\u001b[0m\u001b[0;34m,\u001b[0m \u001b[0mdamping\u001b[0m\u001b[0;34m)\u001b[0m\u001b[0;34m\u001b[0m\u001b[0m\n\u001b[0m\u001b[1;32m      7\u001b[0m     \u001b[0ma1\u001b[0m\u001b[0;34m,\u001b[0m \u001b[0ma2\u001b[0m \u001b[0;34m=\u001b[0m \u001b[0mans\u001b[0m\u001b[0;34m\u001b[0m\u001b[0m\n\u001b[1;32m      8\u001b[0m     \u001b[0mNLL\u001b[0m\u001b[0;34m.\u001b[0m\u001b[0mappend\u001b[0m\u001b[0;34m(\u001b[0m\u001b[0ma1\u001b[0m\u001b[0;34m)\u001b[0m\u001b[0;34m\u001b[0m\u001b[0m\n",
      "\u001b[0;32m<ipython-input-107-93122a5f84fc>\u001b[0m in \u001b[0;36m_power_sweep\u001b[0;34m(power, damping)\u001b[0m\n\u001b[1;32m     12\u001b[0m                damping=damping)\n\u001b[1;32m     13\u001b[0m \u001b[0;34m\u001b[0m\u001b[0m\n\u001b[0;32m---> 14\u001b[0;31m     \u001b[0mEPNodesList\u001b[0m \u001b[0;34m=\u001b[0m \u001b[0mEP\u001b[0m\u001b[0;34m.\u001b[0m\u001b[0mforward_backward_iteration\u001b[0m\u001b[0;34m(\u001b[0m\u001b[0;36m10\u001b[0m\u001b[0;34m,\u001b[0m \u001b[0mNodes\u001b[0m\u001b[0;34m,\u001b[0m \u001b[0my_noisy\u001b[0m\u001b[0;34m,\u001b[0m \u001b[0mlist\u001b[0m\u001b[0;34m(\u001b[0m\u001b[0mrange\u001b[0m\u001b[0;34m(\u001b[0m\u001b[0;36m0\u001b[0m\u001b[0;34m,\u001b[0m \u001b[0mN\u001b[0m\u001b[0;34m)\u001b[0m\u001b[0;34m)\u001b[0m\u001b[0;34m,\u001b[0m \u001b[0mx_true\u001b[0m\u001b[0;34m)\u001b[0m\u001b[0;34m\u001b[0m\u001b[0m\n\u001b[0m\u001b[1;32m     15\u001b[0m \u001b[0;34m\u001b[0m\u001b[0m\n\u001b[1;32m     16\u001b[0m     \u001b[0mNode\u001b[0m \u001b[0;34m=\u001b[0m \u001b[0;34m[\u001b[0m\u001b[0mnode\u001b[0m\u001b[0;34m.\u001b[0m\u001b[0mmarginal\u001b[0m \u001b[0;32mfor\u001b[0m \u001b[0mnode\u001b[0m \u001b[0;32min\u001b[0m \u001b[0mEPNodesList\u001b[0m\u001b[0;34m[\u001b[0m\u001b[0;34m-\u001b[0m\u001b[0;36m1\u001b[0m\u001b[0;34m]\u001b[0m\u001b[0;34m]\u001b[0m\u001b[0;34m\u001b[0m\u001b[0m\n",
      "\u001b[0;32m/home/adaboost/Documents/github/pyStateEstimator/MomentMatching/ExpectationPropagation.py\u001b[0m in \u001b[0;36mforward_backward_iteration\u001b[0;34m(self, iters, Nodes, observations, fargs_list, x_true)\u001b[0m\n\u001b[1;32m    297\u001b[0m         \u001b[0mresult\u001b[0m \u001b[0;34m=\u001b[0m \u001b[0;34m[\u001b[0m\u001b[0;34m]\u001b[0m\u001b[0;34m\u001b[0m\u001b[0m\n\u001b[1;32m    298\u001b[0m         \u001b[0;32mfor\u001b[0m \u001b[0mi\u001b[0m \u001b[0;32min\u001b[0m \u001b[0mrange\u001b[0m\u001b[0;34m(\u001b[0m\u001b[0miters\u001b[0m\u001b[0;34m)\u001b[0m\u001b[0;34m:\u001b[0m\u001b[0;34m\u001b[0m\u001b[0m\n\u001b[0;32m--> 299\u001b[0;31m             \u001b[0mfilt\u001b[0m \u001b[0;34m=\u001b[0m \u001b[0mlist\u001b[0m\u001b[0;34m(\u001b[0m\u001b[0mself\u001b[0m\u001b[0;34m.\u001b[0m\u001b[0mkalman_filter\u001b[0m\u001b[0;34m(\u001b[0m\u001b[0mNodes\u001b[0m\u001b[0;34m,\u001b[0m \u001b[0mobservations\u001b[0m\u001b[0;34m,\u001b[0m \u001b[0mfargs_list\u001b[0m\u001b[0;34m)\u001b[0m\u001b[0;34m)\u001b[0m\u001b[0;34m\u001b[0m\u001b[0m\n\u001b[0m\u001b[1;32m    300\u001b[0m             \u001b[0mresult\u001b[0m\u001b[0;34m.\u001b[0m\u001b[0mappend\u001b[0m\u001b[0;34m(\u001b[0m\u001b[0mself\u001b[0m\u001b[0;34m.\u001b[0m\u001b[0mkalman_smoother\u001b[0m\u001b[0;34m(\u001b[0m\u001b[0mfilt\u001b[0m\u001b[0;34m)\u001b[0m\u001b[0;34m)\u001b[0m\u001b[0;34m\u001b[0m\u001b[0m\n\u001b[1;32m    301\u001b[0m             \u001b[0mNodes\u001b[0m \u001b[0;34m=\u001b[0m \u001b[0mresult\u001b[0m\u001b[0;34m[\u001b[0m\u001b[0;34m-\u001b[0m\u001b[0;36m1\u001b[0m\u001b[0;34m]\u001b[0m\u001b[0;34m\u001b[0m\u001b[0m\n",
      "\u001b[0;32m/home/adaboost/Documents/github/pyStateEstimator/MomentMatching/ExpectationPropagation.py\u001b[0m in \u001b[0;36mkalman_filter\u001b[0;34m(self, Nodes, observations, fargs_list)\u001b[0m\n\u001b[1;32m    260\u001b[0m             \u001b[0;31m#                                                                   pred_state.marginal.mean,\u001b[0m\u001b[0;34m\u001b[0m\u001b[0;34m\u001b[0m\u001b[0m\n\u001b[1;32m    261\u001b[0m             \u001b[0;31m#                                                                   pred_state.marginal.cov))\u001b[0m\u001b[0;34m\u001b[0m\u001b[0;34m\u001b[0m\u001b[0m\n\u001b[0;32m--> 262\u001b[0;31m             \u001b[0mcorrected_state\u001b[0m \u001b[0;34m=\u001b[0m \u001b[0mself\u001b[0m\u001b[0;34m.\u001b[0m\u001b[0mmeasurement_update\u001b[0m\u001b[0;34m(\u001b[0m\u001b[0mpred_state\u001b[0m\u001b[0;34m,\u001b[0m \u001b[0mobs\u001b[0m\u001b[0;34m,\u001b[0m \u001b[0mfargs\u001b[0m\u001b[0;34m)\u001b[0m\u001b[0;34m\u001b[0m\u001b[0m\n\u001b[0m\u001b[1;32m    263\u001b[0m \u001b[0;34m\u001b[0m\u001b[0m\n\u001b[1;32m    264\u001b[0m             \u001b[0;31m# logger.debug(f'[correction::marginal t={node.t} \\\u001b[0m\u001b[0;34m\u001b[0m\u001b[0;34m\u001b[0m\u001b[0m\n",
      "\u001b[0;32m/home/adaboost/Documents/github/pyStateEstimator/MomentMatching/ExpectationPropagation.py\u001b[0m in \u001b[0;36mmeasurement_update\u001b[0;34m(self, node, obs, fargs)\u001b[0m\n\u001b[1;32m    370\u001b[0m                                   \u001b[0mfactor\u001b[0m\u001b[0;34m=\u001b[0m\u001b[0mnode\u001b[0m\u001b[0;34m.\u001b[0m\u001b[0mmeasurement_factor\u001b[0m\u001b[0;34m,\u001b[0m\u001b[0;34m\u001b[0m\u001b[0m\n\u001b[1;32m    371\u001b[0m                                   \u001b[0mmarginal\u001b[0m\u001b[0;34m=\u001b[0m\u001b[0mnode\u001b[0m\u001b[0;34m.\u001b[0m\u001b[0mmarginal\u001b[0m\u001b[0;34m,\u001b[0m\u001b[0;34m\u001b[0m\u001b[0m\n\u001b[0;32m--> 372\u001b[0;31m                                   cavity=measurement_cavity)\n\u001b[0m\u001b[1;32m    373\u001b[0m             \u001b[0;31m# logger.debug('[measurement_factor:: t={} mean={} cov={}]]'.format(node.t,\u001b[0m\u001b[0;34m\u001b[0m\u001b[0;34m\u001b[0m\u001b[0m\n\u001b[1;32m    374\u001b[0m             \u001b[0;31m#                                                            result.measurement_factor.mean,\u001b[0m\u001b[0;34m\u001b[0m\u001b[0;34m\u001b[0m\u001b[0m\n",
      "\u001b[0;32m/home/adaboost/Documents/github/pyStateEstimator/MomentMatching/ExpectationPropagation.py\u001b[0m in \u001b[0;36mpower_update\u001b[0;34m(self, projected_marginal, factor, marginal, cavity)\u001b[0m\n\u001b[1;32m    271\u001b[0m         \u001b[0mpower\u001b[0m \u001b[0;34m=\u001b[0m \u001b[0mself\u001b[0m\u001b[0;34m.\u001b[0m\u001b[0mpower\u001b[0m\u001b[0;34m\u001b[0m\u001b[0m\n\u001b[1;32m    272\u001b[0m         \u001b[0;31m# projected_marginal = project(f, tilted_marginal)  # PowerEP equation 21\u001b[0m\u001b[0;34m\u001b[0m\u001b[0;34m\u001b[0m\u001b[0m\n\u001b[0;32m--> 273\u001b[0;31m         \u001b[0mnew_factor\u001b[0m \u001b[0;34m=\u001b[0m \u001b[0;34m(\u001b[0m\u001b[0mfactor\u001b[0m \u001b[0;34m**\u001b[0m \u001b[0;34m(\u001b[0m\u001b[0;36m1\u001b[0m \u001b[0;34m-\u001b[0m \u001b[0mdamping\u001b[0m\u001b[0;34m)\u001b[0m\u001b[0;34m)\u001b[0m \u001b[0;34m*\u001b[0m \u001b[0;34m(\u001b[0m\u001b[0;34m(\u001b[0m\u001b[0mprojected_marginal\u001b[0m \u001b[0;34m/\u001b[0m \u001b[0mcavity\u001b[0m\u001b[0;34m)\u001b[0m \u001b[0;34m**\u001b[0m \u001b[0mdamping\u001b[0m\u001b[0;34m)\u001b[0m  \u001b[0;31m# PowerEP equation 22\u001b[0m\u001b[0;34m\u001b[0m\u001b[0m\n\u001b[0m\u001b[1;32m    274\u001b[0m         \u001b[0mnew_marginal\u001b[0m \u001b[0;34m=\u001b[0m \u001b[0mmarginal\u001b[0m \u001b[0;34m*\u001b[0m \u001b[0;34m(\u001b[0m\u001b[0;34m(\u001b[0m\u001b[0mprojected_marginal\u001b[0m\u001b[0;34m/\u001b[0m\u001b[0mmarginal\u001b[0m\u001b[0;34m)\u001b[0m \u001b[0;34m**\u001b[0m \u001b[0;34m(\u001b[0m\u001b[0mdamping\u001b[0m\u001b[0;34m/\u001b[0m\u001b[0mpower\u001b[0m\u001b[0;34m)\u001b[0m\u001b[0;34m)\u001b[0m   \u001b[0;31m# PowerEP equation 23\u001b[0m\u001b[0;34m\u001b[0m\u001b[0m\n\u001b[1;32m    275\u001b[0m \u001b[0;34m\u001b[0m\u001b[0m\n",
      "\u001b[0;32m/home/adaboost/Documents/github/pyStateEstimator/StateModel/Gaussian.py\u001b[0m in \u001b[0;36m__truediv__\u001b[0;34m(self, other)\u001b[0m\n\u001b[1;32m    192\u001b[0m         \u001b[0;31m# TODO: Replace assert with a custom Error\u001b[0m\u001b[0;34m\u001b[0m\u001b[0;34m\u001b[0m\u001b[0m\n\u001b[1;32m    193\u001b[0m         \u001b[0;31m# assert isinstance(other, GaussianState)\u001b[0m\u001b[0;34m\u001b[0m\u001b[0;34m\u001b[0m\u001b[0m\n\u001b[0;32m--> 194\u001b[0;31m         \u001b[0mprecision\u001b[0m \u001b[0;34m=\u001b[0m \u001b[0mself\u001b[0m\u001b[0;34m.\u001b[0m\u001b[0mprecision\u001b[0m \u001b[0;34m-\u001b[0m \u001b[0mother\u001b[0m\u001b[0;34m.\u001b[0m\u001b[0mprecision\u001b[0m\u001b[0;34m\u001b[0m\u001b[0m\n\u001b[0m\u001b[1;32m    195\u001b[0m         \u001b[0;31m# if precision < 0:\u001b[0m\u001b[0;34m\u001b[0m\u001b[0;34m\u001b[0m\u001b[0m\n\u001b[1;32m    196\u001b[0m         \u001b[0;31m#     warnings.warn('Negative Precision!!!')\u001b[0m\u001b[0;34m\u001b[0m\u001b[0;34m\u001b[0m\u001b[0m\n",
      "\u001b[0;32m/home/adaboost/Documents/github/pyStateEstimator/StateModel/Gaussian.py\u001b[0m in \u001b[0;36mprecision\u001b[0;34m(self)\u001b[0m\n\u001b[1;32m    149\u001b[0m     \u001b[0;32mdef\u001b[0m \u001b[0mprecision\u001b[0m\u001b[0;34m(\u001b[0m\u001b[0mself\u001b[0m\u001b[0;34m)\u001b[0m\u001b[0;34m:\u001b[0m\u001b[0;34m\u001b[0m\u001b[0m\n\u001b[1;32m    150\u001b[0m         \u001b[0;32mif\u001b[0m \u001b[0mself\u001b[0m\u001b[0;34m.\u001b[0m\u001b[0m_mode\u001b[0m \u001b[0;34m==\u001b[0m \u001b[0;34m'moment'\u001b[0m \u001b[0;32mand\u001b[0m \u001b[0mself\u001b[0m\u001b[0;34m.\u001b[0m\u001b[0m_precision\u001b[0m \u001b[0;32mis\u001b[0m \u001b[0;32mNone\u001b[0m\u001b[0;34m:\u001b[0m\u001b[0;34m\u001b[0m\u001b[0m\n\u001b[0;32m--> 151\u001b[0;31m             \u001b[0mself\u001b[0m\u001b[0;34m.\u001b[0m\u001b[0mprecision\u001b[0m\u001b[0;34m,\u001b[0m \u001b[0mself\u001b[0m\u001b[0;34m.\u001b[0m\u001b[0mshift\u001b[0m \u001b[0;34m=\u001b[0m \u001b[0mmoment_to_natural\u001b[0m\u001b[0;34m(\u001b[0m\u001b[0mmean\u001b[0m\u001b[0;34m=\u001b[0m\u001b[0mself\u001b[0m\u001b[0;34m.\u001b[0m\u001b[0mmean\u001b[0m\u001b[0;34m,\u001b[0m \u001b[0mcov\u001b[0m\u001b[0;34m=\u001b[0m\u001b[0mself\u001b[0m\u001b[0;34m.\u001b[0m\u001b[0mcov\u001b[0m\u001b[0;34m)\u001b[0m\u001b[0;34m\u001b[0m\u001b[0m\n\u001b[0m\u001b[1;32m    152\u001b[0m \u001b[0;34m\u001b[0m\u001b[0m\n\u001b[1;32m    153\u001b[0m         \u001b[0;32mreturn\u001b[0m \u001b[0mself\u001b[0m\u001b[0;34m.\u001b[0m\u001b[0m_precision\u001b[0m\u001b[0;34m\u001b[0m\u001b[0m\n",
      "\u001b[0;32m/home/adaboost/Documents/github/pyStateEstimator/StateModel/Gaussian.py\u001b[0m in \u001b[0;36mmoment_to_natural\u001b[0;34m(mean, cov)\u001b[0m\n\u001b[1;32m     57\u001b[0m     \u001b[0;32mexcept\u001b[0m \u001b[0mLinAlgError\u001b[0m\u001b[0;34m:\u001b[0m\u001b[0;34m\u001b[0m\u001b[0m\n\u001b[1;32m     58\u001b[0m         \u001b[0mprint\u001b[0m\u001b[0;34m(\u001b[0m\u001b[0;34m'possible bad covariance matrix {}'\u001b[0m\u001b[0;34m.\u001b[0m\u001b[0mformat\u001b[0m\u001b[0;34m(\u001b[0m\u001b[0mcov\u001b[0m\u001b[0;34m)\u001b[0m\u001b[0;34m)\u001b[0m\u001b[0;34m\u001b[0m\u001b[0m\n\u001b[0;32m---> 59\u001b[0;31m         \u001b[0;32mraise\u001b[0m \u001b[0mLinAlgError\u001b[0m\u001b[0;34m\u001b[0m\u001b[0m\n\u001b[0m\u001b[1;32m     60\u001b[0m \u001b[0;34m\u001b[0m\u001b[0m\n\u001b[1;32m     61\u001b[0m     \u001b[0;31m# precision = np.linalg.pinv(cov)\u001b[0m\u001b[0;34m\u001b[0m\u001b[0;34m\u001b[0m\u001b[0m\n",
      "\u001b[0;31mLinAlgError\u001b[0m: "
     ]
    }
   ],
   "source": [
    "results = []\n",
    "NLL = []\n",
    "RMSE = []\n",
    "for power, damping in itertools.product(power_range, damp_range):\n",
    "    print('Power = {0:.4f} and Damping = {1:.4f}'.format(power, damping))\n",
    "    ans = _power_sweep(power, damping)\n",
    "    a1, a2 = ans\n",
    "    NLL.append(a1)\n",
    "    RMSE.append(a2)\n",
    "    results.append(ans)"
   ]
  },
  {
   "cell_type": "code",
   "execution_count": 73,
   "metadata": {
    "scrolled": true
   },
   "outputs": [
    {
     "ename": "AttributeError",
     "evalue": "'list' object has no attribute 'shape'",
     "output_type": "error",
     "traceback": [
      "\u001b[0;31m---------------------------------------------------------------------------\u001b[0m",
      "\u001b[0;31mAttributeError\u001b[0m                            Traceback (most recent call last)",
      "\u001b[0;32m<ipython-input-73-ff0b274ce0e3>\u001b[0m in \u001b[0;36m<module>\u001b[0;34m()\u001b[0m\n\u001b[0;32m----> 1\u001b[0;31m \u001b[0mresults\u001b[0m\u001b[0;34m.\u001b[0m\u001b[0mshape\u001b[0m\u001b[0;34m\u001b[0m\u001b[0m\n\u001b[0m",
      "\u001b[0;31mAttributeError\u001b[0m: 'list' object has no attribute 'shape'"
     ]
    }
   ],
   "source": [
    "results"
   ]
  },
  {
   "cell_type": "code",
   "execution_count": null,
   "metadata": {
    "collapsed": true
   },
   "outputs": [],
   "source": [
    "<class 'tuple'>: (array([ 19.3843]), array([ 13.7534]), array([ 1.885]), array([ 4.9506]), array([ 7.9152]))"
   ]
  },
  {
   "cell_type": "code",
   "execution_count": null,
   "metadata": {
    "collapsed": true
   },
   "outputs": [],
   "source": [
    "<class 'tuple'>: (array([ 19.3843]), array([ 13.7534]), array([ 1.885]), array([ 4.9506]), array([ 7.9152]))"
   ]
  },
  {
   "cell_type": "code",
   "execution_count": 81,
   "metadata": {
    "scrolled": true
   },
   "outputs": [
    {
     "name": "stdout",
     "output_type": "stream",
     "text": [
      "Power = 0.1000 and Damping = 0.1000\n",
      "Power = 0.1000 and Damping = 1.0000\n",
      "Power = 0.3250 and Damping = 0.1000\n",
      "Power = 0.3250 and Damping = 1.0000\n",
      "Power = 0.5500 and Damping = 0.1000\n",
      "Power = 0.5500 and Damping = 1.0000\n",
      "Power = 0.7750 and Damping = 0.1000\n",
      "Power = 0.7750 and Damping = 1.0000\n",
      "Power = 1.0000 and Damping = 0.1000\n",
      "Power = 1.0000 and Damping = 1.0000\n"
     ]
    }
   ],
   "source": [
    "for power, damping in itertools.product(power_range, damp_range):\n",
    "    print('Power = {0:.4f} and Damping = {1:.4f}'.format(power, damping))"
   ]
  },
  {
   "cell_type": "code",
   "execution_count": 86,
   "metadata": {},
   "outputs": [
    {
     "data": {
      "text/plain": [
       "100"
      ]
     },
     "execution_count": 86,
     "metadata": {},
     "output_type": "execute_result"
    }
   ],
   "source": [
    "len(results)"
   ]
  },
  {
   "cell_type": "code",
   "execution_count": 41,
   "metadata": {
    "collapsed": true
   },
   "outputs": [],
   "source": [
    "ll = np.array(NLL)\n",
    "Rmse = np.array(RMSE)"
   ]
  },
  {
   "cell_type": "code",
   "execution_count": 42,
   "metadata": {
    "collapsed": true
   },
   "outputs": [],
   "source": [
    "ind_ll = np.array(list(itertools.product(power_range, damp_range)))"
   ]
  },
  {
   "cell_type": "code",
   "execution_count": 43,
   "metadata": {},
   "outputs": [
    {
     "data": {
      "text/plain": [
       "array([[ 0.1,  0.1],\n",
       "       [ 0.1,  0.2],\n",
       "       [ 0.1,  0.3],\n",
       "       [ 0.1,  0.4],\n",
       "       [ 0.1,  0.5],\n",
       "       [ 0.1,  0.6],\n",
       "       [ 0.1,  0.7],\n",
       "       [ 0.1,  0.8],\n",
       "       [ 0.1,  0.9],\n",
       "       [ 0.1,  1. ]])"
      ]
     },
     "execution_count": 43,
     "metadata": {},
     "output_type": "execute_result"
    }
   ],
   "source": [
    "ind_ll.reshape(x, y, 2)[0]"
   ]
  },
  {
   "cell_type": "code",
   "execution_count": 87,
   "metadata": {
    "collapsed": true
   },
   "outputs": [],
   "source": [
    "\n",
    "img_ll = ll.reshape(x, y)\n",
    "img_rmse = Rmse.reshape(x, y)"
   ]
  },
  {
   "cell_type": "code",
   "execution_count": 88,
   "metadata": {},
   "outputs": [
    {
     "data": {
      "text/plain": [
       "59"
      ]
     },
     "execution_count": 88,
     "metadata": {},
     "output_type": "execute_result"
    }
   ],
   "source": [
    "np.argmin(img_ll)"
   ]
  },
  {
   "cell_type": "code",
   "execution_count": 89,
   "metadata": {},
   "outputs": [
    {
     "data": {
      "text/plain": [
       "array([ 0.6,  1. ])"
      ]
     },
     "execution_count": 89,
     "metadata": {},
     "output_type": "execute_result"
    }
   ],
   "source": [
    "ind_ll[np.argmin(img_ll)]"
   ]
  },
  {
   "cell_type": "code",
   "execution_count": 90,
   "metadata": {},
   "outputs": [
    {
     "data": {
      "text/plain": [
       "array([ 0.2,  1. ])"
      ]
     },
     "execution_count": 90,
     "metadata": {},
     "output_type": "execute_result"
    }
   ],
   "source": [
    "ind_ll[np.argmax(img_ll)]"
   ]
  },
  {
   "cell_type": "code",
   "execution_count": 91,
   "metadata": {},
   "outputs": [
    {
     "data": {
      "text/plain": [
       "array([ 0.1,  0.4])"
      ]
     },
     "execution_count": 91,
     "metadata": {},
     "output_type": "execute_result"
    }
   ],
   "source": [
    "ind_ll[3]"
   ]
  },
  {
   "cell_type": "code",
   "execution_count": 92,
   "metadata": {},
   "outputs": [
    {
     "data": {
      "text/plain": [
       "5.4990622698893956"
      ]
     },
     "execution_count": 92,
     "metadata": {},
     "output_type": "execute_result"
    }
   ],
   "source": [
    "NLL[3]"
   ]
  },
  {
   "cell_type": "code",
   "execution_count": 93,
   "metadata": {},
   "outputs": [
    {
     "data": {
      "text/plain": [
       "(5.2300851128571324, 11.739774798667106)"
      ]
     },
     "execution_count": 93,
     "metadata": {},
     "output_type": "execute_result"
    }
   ],
   "source": [
    "_power_sweep(0.1, 0.4)"
   ]
  },
  {
   "cell_type": "code",
   "execution_count": 94,
   "metadata": {},
   "outputs": [
    {
     "ename": "IndexError",
     "evalue": "index 6 is out of bounds for axis 0 with size 5",
     "output_type": "error",
     "traceback": [
      "\u001b[0;31m---------------------------------------------------------------------------\u001b[0m",
      "\u001b[0;31mIndexError\u001b[0m                                Traceback (most recent call last)",
      "\u001b[0;32m<ipython-input-94-c9ea51cbd146>\u001b[0m in \u001b[0;36m<module>\u001b[0;34m()\u001b[0m\n\u001b[0;32m----> 1\u001b[0;31m \u001b[0mimg_rmse\u001b[0m\u001b[0;34m[\u001b[0m\u001b[0;36m6\u001b[0m\u001b[0;34m]\u001b[0m\u001b[0;34m[\u001b[0m\u001b[0;36m4\u001b[0m\u001b[0;34m]\u001b[0m\u001b[0;34m\u001b[0m\u001b[0m\n\u001b[0m",
      "\u001b[0;31mIndexError\u001b[0m: index 6 is out of bounds for axis 0 with size 5"
     ]
    }
   ],
   "source": [
    "img_rmse[6][4]"
   ]
  },
  {
   "cell_type": "code",
   "execution_count": 95,
   "metadata": {},
   "outputs": [
    {
     "data": {
      "text/plain": [
       "57506.127785512697"
      ]
     },
     "execution_count": 95,
     "metadata": {},
     "output_type": "execute_result"
    }
   ],
   "source": [
    "np.max(img_rmse)"
   ]
  },
  {
   "cell_type": "code",
   "execution_count": 96,
   "metadata": {
    "collapsed": true
   },
   "outputs": [],
   "source": [
    "methods = [None, 'none','nearest', 'bilinear', 'bicubic', 'spline16',\n",
    "           'spline36', 'hanning', 'hamming', 'hermite', 'kaiser', 'quadric',\n",
    "           'catrom', 'gaussian', 'bessel', 'mitchell', 'sinc', 'lanczos']"
   ]
  },
  {
   "cell_type": "code",
   "execution_count": 97,
   "metadata": {},
   "outputs": [
    {
     "data": {
      "text/plain": [
       "18"
      ]
     },
     "execution_count": 97,
     "metadata": {},
     "output_type": "execute_result"
    }
   ],
   "source": [
    "len(methods)"
   ]
  },
  {
   "cell_type": "code",
   "execution_count": 98,
   "metadata": {
    "collapsed": true
   },
   "outputs": [],
   "source": [
    "# fig, ax = plt.subplots(4,4)"
   ]
  },
  {
   "cell_type": "code",
   "execution_count": 99,
   "metadata": {},
   "outputs": [
    {
     "ename": "TypeError",
     "evalue": "'AxesSubplot' object does not support indexing",
     "output_type": "error",
     "traceback": [
      "\u001b[0;31m---------------------------------------------------------------------------\u001b[0m",
      "\u001b[0;31mTypeError\u001b[0m                                 Traceback (most recent call last)",
      "\u001b[0;32m<ipython-input-99-ae90db26aac2>\u001b[0m in \u001b[0;36m<module>\u001b[0;34m()\u001b[0m\n\u001b[0;32m----> 1\u001b[0;31m \u001b[0max\u001b[0m\u001b[0;34m[\u001b[0m\u001b[0;36m0\u001b[0m\u001b[0;34m]\u001b[0m\u001b[0;34m\u001b[0m\u001b[0m\n\u001b[0m",
      "\u001b[0;31mTypeError\u001b[0m: 'AxesSubplot' object does not support indexing"
     ]
    }
   ],
   "source": [
    "ax[0]"
   ]
  },
  {
   "cell_type": "code",
   "execution_count": 100,
   "metadata": {
    "collapsed": true
   },
   "outputs": [],
   "source": [
    "def plot(img, methods):\n",
    "    plt.imshow(img_ll, interpolation=methods[9], extent=[0.1,1,0.1,1], cmap='jet', clim=(0, 6))\n",
    "    ax = plt.gca()\n",
    "    ax.set_xlabel('Power')\n",
    "    ax.set_ylabel('Damping')\n",
    "    ax.grid(False)\n",
    "    plt.colorbar()"
   ]
  },
  {
   "cell_type": "code",
   "execution_count": 101,
   "metadata": {
    "collapsed": true
   },
   "outputs": [],
   "source": [
    "log_nll = np.log(img_ll)"
   ]
  },
  {
   "cell_type": "code",
   "execution_count": 102,
   "metadata": {},
   "outputs": [
    {
     "data": {
      "text/plain": [
       "<matplotlib.colorbar.Colorbar at 0x7f2b221a3518>"
      ]
     },
     "execution_count": 102,
     "metadata": {},
     "output_type": "execute_result"
    },
    {
     "data": {
      "image/png": "[encoded data removed]",
      "text/plain": [
       "<matplotlib.figure.Figure at 0x7f2b2833b780>"
      ]
     },
     "metadata": {},
     "output_type": "display_data"
    }
   ],
   "source": [
    "plt.imshow(log_nll, interpolation=methods[5], extent=[0.1,1,0.1,1], cmap='jet', vmax=np.max(log_nll), vmin=np.min(log_nll))\n",
    "ax = plt.gca()\n",
    "ax.set_xlabel('Power')\n",
    "ax.set_ylabel('Damping')\n",
    "ax.grid(False)\n",
    "plt.colorbar()"
   ]
  },
  {
   "cell_type": "code",
   "execution_count": 103,
   "metadata": {
    "collapsed": true
   },
   "outputs": [],
   "source": [
    "log_rmse = np.log(img_rmse)"
   ]
  },
  {
   "cell_type": "code",
   "execution_count": 104,
   "metadata": {},
   "outputs": [
    {
     "data": {
      "text/plain": [
       "<matplotlib.colorbar.Colorbar at 0x7f2b220b3ef0>"
      ]
     },
     "execution_count": 104,
     "metadata": {},
     "output_type": "execute_result"
    },
    {
     "data": {
      "image/png": "[encoded data removed]",
      "text/plain": [
       "<matplotlib.figure.Figure at 0x7f2b2219a710>"
      ]
     },
     "metadata": {},
     "output_type": "display_data"
    }
   ],
   "source": [
    "plt.imshow(log_rmse, interpolation=methods[5], extent=[0.0,1,0.0,1], cmap='jet', vmax=np.max(log_rmse), vmin=np.min(log_rmse))\n",
    "ax = plt.gca()\n",
    "ax.set_xlabel('Power')\n",
    "ax.set_ylabel('Damping')\n",
    "ax.grid(False)\n",
    "plt.colorbar()"
   ]
  },
  {
   "cell_type": "code",
   "execution_count": null,
   "metadata": {
    "collapsed": true
   },
   "outputs": [],
   "source": [
    "dx"
   ]
  },
  {
   "cell_type": "code",
   "execution_count": null,
   "metadata": {
    "collapsed": true
   },
   "outputs": [],
   "source": [
    "x_plot, y_plot = np.mgrid[0.1:1.1:0.1, 0.1:1.1:0.1]"
   ]
  },
  {
   "cell_type": "code",
   "execution_count": null,
   "metadata": {
    "collapsed": true
   },
   "outputs": [],
   "source": [
    "plt.pcolor( y_plot, x_plot, log_rmse, cmap='RdBu' )\n",
    "plt.colorbar()\n",
    "# plt.axis([x_plot.min(), x_plot.max(), y_plot.min(), y_plot.max()])"
   ]
  },
  {
   "cell_type": "code",
   "execution_count": null,
   "metadata": {
    "collapsed": true
   },
   "outputs": [],
   "source": [
    "for i in range(len(power_range)):\n",
    "    plt.plot(power_range, img_ll[:, i])"
   ]
  },
  {
   "cell_type": "code",
   "execution_count": null,
   "metadata": {
    "collapsed": true
   },
   "outputs": [],
   "source": [
    "Rmse"
   ]
  },
  {
   "cell_type": "code",
   "execution_count": null,
   "metadata": {
    "collapsed": true
   },
   "outputs": [],
   "source": []
  }
 ],
 "metadata": {
  "anaconda-cloud": {},
  "kernelspec": {
   "display_name": "Python 3",
   "language": "python",
   "name": "python3"
  },
  "language_info": {
   "codemirror_mode": {
    "name": "ipython",
    "version": 3
   },
   "file_extension": ".py",
   "mimetype": "text/x-python",
   "name": "python",
   "nbconvert_exporter": "python",
   "pygments_lexer": "ipython3",
   "version": "3.6.1"
  }
 },
 "nbformat": 4,
 "nbformat_minor": 2
}
