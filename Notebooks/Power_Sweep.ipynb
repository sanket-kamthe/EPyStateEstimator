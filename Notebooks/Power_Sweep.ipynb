{
 "cells": [
  {
   "cell_type": "code",
   "execution_count": 1,
   "metadata": {
    "collapsed": true
   },
   "outputs": [],
   "source": [
    "%matplotlib inline\n",
    "import numpy as np\n",
    "import itertools\n",
    "import matplotlib.pyplot as plt\n",
    "import seaborn as sns"
   ]
  },
  {
   "cell_type": "code",
   "execution_count": 2,
   "metadata": {
    "collapsed": true
   },
   "outputs": [],
   "source": [
    "import os\n",
    "import sys\n",
    "module_path = os.path.abspath(os.path.join('..'))\n",
    "if module_path not in sys.path:\n",
    "    sys.path.append(module_path)"
   ]
  },
  {
   "cell_type": "code",
   "execution_count": 3,
   "metadata": {},
   "outputs": [
    {
     "data": {
      "text/plain": [
       "sys.version_info(major=3, minor=6, micro=1, releaselevel='final', serial=0)"
      ]
     },
     "execution_count": 3,
     "metadata": {},
     "output_type": "execute_result"
    }
   ],
   "source": [
    "sys.version_info"
   ]
  },
  {
   "cell_type": "code",
   "execution_count": 4,
   "metadata": {
    "collapsed": true
   },
   "outputs": [],
   "source": [
    "from MomentMatching.newMomentMatch import UnscentedTransform, TaylorTransform, MonteCarloTransform\n",
    "from MomentMatching.TimeSeriesModel import TimeSeriesModel, UniformNonlinearGrowthModel\n",
    "from MomentMatching.StateModels import GaussianState\n",
    "from ExpectationPropagation import EPNodes\n",
    "from MomentMatching.ExpectationPropagation import TopEP\n",
    "from Filters.KalmanFilter import KalmanFilterSmoother, PowerKalmanFilterSmoother\n",
    "from Utils.Metrics import nll, rmse\n",
    "from Utils.Plot_Helper import plot_gaussian, plot_gaussian_node\n",
    "from Systems import BearingsOnlyTracking\n",
    "import logging"
   ]
  },
  {
   "cell_type": "code",
   "execution_count": 49,
   "metadata": {
    "collapsed": true
   },
   "outputs": [],
   "source": [
    "SEED = 100\n",
    "\n",
    "np.random.seed(seed=SEED)\n",
    "\n",
    "N = 50\n",
    "system = UniformNonlinearGrowthModel()\n",
    "# system = BearingsOnlyTracking()\n",
    "data = system.simulate(N)\n",
    "x_true, x_noisy, y_true, y_noisy = zip(*data)\n",
    "\n",
    "\n",
    "power = 1\n",
    "damping = 1\n",
    "\n",
    "transform = UnscentedTransform(n=1,  beta=0,  alpha=1, kappa=2)\n",
    "meas_transform = UnscentedTransform(n=1, beta=0,  alpha=1, kappa=2)"
   ]
  },
  {
   "cell_type": "code",
   "execution_count": 87,
   "metadata": {
    "collapsed": true
   },
   "outputs": [],
   "source": [
    "def _power_sweep(power, damping):\n",
    "    transform = UnscentedTransform(n=1, beta=0, alpha=1, kappa=1)\n",
    "    meas_transform = UnscentedTransform(n=1, beta=0, alpha=1, kappa=1)\n",
    "#     transform = TaylorTransform()\n",
    "#     transform = MonteCarloTransform(number_of_samples=2000)\n",
    "#     meas_transform = MonteCarloTransform(number_of_samples=2000)\n",
    "    Nodes = EPNodes(dimension_of_state=1, N=N)\n",
    "    EP = TopEP(system_model=system,\n",
    "               moment_matching=transform,\n",
    "               meas_transform=meas_transform,\n",
    "               power=power,\n",
    "               damping=damping)\n",
    "\n",
    "    EPNodesList = EP.forward_backward_iteration(10, Nodes, y_noisy, list(range(0, N)), x_true)\n",
    "\n",
    "    Node = [node.marginal for node in EPNodesList[-1]]\n",
    "    return nll(Node, x_true), rmse(Node, x_true)"
   ]
  },
  {
   "cell_type": "code",
   "execution_count": 88,
   "metadata": {
    "collapsed": true
   },
   "outputs": [],
   "source": [
    "x = 10\n",
    "y = 10\n",
    "power_range = np.linspace(0.1, 1.0, num=x)\n",
    "damp_range = np.linspace(0.1, 1.0, num=y)"
   ]
  },
  {
   "cell_type": "code",
   "execution_count": 89,
   "metadata": {},
   "outputs": [
    {
     "data": {
      "text/plain": [
       "array([ 0.1,  0.2,  0.3,  0.4,  0.5,  0.6,  0.7,  0.8,  0.9,  1. ])"
      ]
     },
     "execution_count": 89,
     "metadata": {},
     "output_type": "execute_result"
    }
   ],
   "source": [
    "power_range"
   ]
  },
  {
   "cell_type": "code",
   "execution_count": 90,
   "metadata": {},
   "outputs": [],
   "source": [
    "results = []\n",
    "NLL = []\n",
    "RMSE = []\n",
    "for power, damping in itertools.product(power_range, damp_range):\n",
    "    ans = _power_sweep(power, damping)\n",
    "    a1, a2 = ans\n",
    "    NLL.append(a1)\n",
    "    RMSE.append(a2)\n",
    "    results.append(ans)"
   ]
  },
  {
   "cell_type": "code",
   "execution_count": 91,
   "metadata": {
    "scrolled": true
   },
   "outputs": [
    {
     "data": {
      "text/plain": [
       "[(4.0058439554361227, 9.6006711011824368),\n",
       " (4.086519149556902, 9.6390619647597457),\n",
       " (4.1987355465683365, 9.5343767636639516),\n",
       " (4.203965780898093, 9.4584042098563632),\n",
       " (4.1876565479269177, 9.4720244873325843),\n",
       " (4.1581819416940347, 9.472714949528692),\n",
       " (4.0680745341180904, 9.5096132296843301),\n",
       " (4.0653620372362607, 9.5142616610885931),\n",
       " (4.0611311590136356, 9.527517502541798),\n",
       " (4.0483293037977539, 9.542242073374597),\n",
       " (4.0627264723758989, 9.4486594474165084),\n",
       " (4.0602031724217662, 9.3234592749806691),\n",
       " (4.0945424193874604, 9.3275625355372398),\n",
       " (4.0921093176552974, 9.2218517268728881),\n",
       " (4.1042473824263199, 9.2007037097909841),\n",
       " (4.1293257461653079, 9.271166321989595),\n",
       " (4.1119269387562181, 9.153600928352482),\n",
       " (4.0571392228006644, 9.1491200245776021),\n",
       " (3.991633148186263, 9.1039171796811278),\n",
       " (3.920144201471536, 9.3280845189097725),\n",
       " (4.0934582491475338, 10.108243085953346),\n",
       " (4.0901861228933036, 10.120896567940598),\n",
       " (4.0913668980995705, 10.097780356762156),\n",
       " (4.0436969402047787, 10.14216821354935),\n",
       " (4.0059535176957182, 9.7443005164505756),\n",
       " (3.9828671628993835, 10.046198803070014),\n",
       " (3.8712802342015373, 9.1634122039634622),\n",
       " (3.8159575731334434, 9.393390578027903),\n",
       " (3.9001992030484489, 9.6084408389366249),\n",
       " (3.8043356802190043, 9.1867919398056497),\n",
       " (4.0478198421334897, 10.375585022024152),\n",
       " (3.9622024122281916, 10.780269662252287),\n",
       " (3.8510967007780899, 10.662470898539844),\n",
       " (10.875233402245815, 12.287244272411328),\n",
       " (16.1713527094253, 13.863490046651473),\n",
       " (5.8082129762154473, 8.3949631321748956),\n",
       " (17.370926421872586, 10.062389933582439),\n",
       " (11.401295364956534, 6.9294121988618205),\n",
       " (6.8646756419115293, 5.2649050274129889),\n",
       " (6.7444471443211329, 5.0956513765693972),\n",
       " (4.1148426033566459, 13.524479538539655),\n",
       " (6.1002969331476429, 12.97248399528425),\n",
       " (4.789767095285594, 8.1489477986079084),\n",
       " (4.163178460890161, 5.96550214805315),\n",
       " (6.8418024110234255, 6.7487579411999485),\n",
       " (12.877146175492856, 6.2614263266525496),\n",
       " (1.8385873474325727, 2.420125296520709),\n",
       " (15.646836450914185, 6.118154416393911),\n",
       " (15.710403943370824, 5.7769608083345361),\n",
       " (33.635839275506321, 8.1488846578932712),\n",
       " (4.4427727986101395, 16.192592554813807),\n",
       " (3.0492812674060263, 6.3301379885372366),\n",
       " (2.8256060191526831, 5.774347626157172),\n",
       " (5.9445204691597544, 6.2019709567033594),\n",
       " (14.21534857370888, 6.380272273698151),\n",
       " (2.5339220089468637, 3.4826449370901069),\n",
       " (17.518325375191868, 5.8594812999691168),\n",
       " (4.6504047543036311, 3.3293246855127485),\n",
       " (6.1154643095809762, 3.7586345701363992),\n",
       " (2.0368510277081135, 1.6201059434700467),\n",
       " (3.9944793445571065, 10.558791519644879),\n",
       " (3.5251781482722571, 7.1237496685251855),\n",
       " (3.3815671977948938, 5.6073621760944796),\n",
       " (2.9371185697453241, 5.4426126262687573),\n",
       " (1.6553795579165611, 2.6898087866617146),\n",
       " (15.26346926893847, 3.5449400373297109),\n",
       " (8.0317883204297456, 4.4801108643558356),\n",
       " (19.270518637997405, 5.0247956557243905),\n",
       " (19.164009288907895, 4.8340521849506022),\n",
       " (18.35213828041924, 5.1808862455715454),\n",
       " (3.5808788255028698, 8.8901384510889248),\n",
       " (2.8354820911905048, 5.6024884848690997),\n",
       " (2.0937729643717464, 3.4164373909019985),\n",
       " (1.7739992323720444, 2.6493286445156259),\n",
       " (4.8671876085342989, 3.4447728480655222),\n",
       " (18.757248685566793, 4.2570048873545039),\n",
       " (25.504786500247086, 5.9513785812317517),\n",
       " (10.925732841051751, 3.7474675611429098),\n",
       " (13.945243291481482, 4.1460816860866041),\n",
       " (23.456305155579535, 4.4099282650687206),\n",
       " (3.5573656397863793, 8.1529422941255714),\n",
       " (2.4059144848644749, 4.6619173232993161),\n",
       " (7.5374737701430172, 5.6137887458451736),\n",
       " (1.7217440570108955, 2.7462842429683958),\n",
       " (1.4703005863142491, 1.6142127731387945),\n",
       " (7.3752418063146941, 3.5958269930340712),\n",
       " (14.529780294222805, 4.683315236426151),\n",
       " (31.38624597016867, 4.2272643360969644),\n",
       " (29.724307836885927, 4.7465867337593135),\n",
       " (24.793975231434924, 4.3805322854874671),\n",
       " (3.4285462598096466, 7.5326258743747116),\n",
       " (2.1520334903208518, 3.789160877426244),\n",
       " (7.7885286261695272, 5.4924772799501582),\n",
       " (17.078117081963992, 4.5010989906441612),\n",
       " (19.460767916355934, 4.9627034451040783),\n",
       " (71.282071815648408, 5.9538010057466009),\n",
       " (29.188632557607853, 2.8233063556294056),\n",
       " (34.404103714763998, 5.5527494378903866),\n",
       " (59.676180061448179, 6.9671875454719325),\n",
       " (184.25705227884245, 7.1998357636570303)]"
      ]
     },
     "execution_count": 91,
     "metadata": {},
     "output_type": "execute_result"
    }
   ],
   "source": [
    "results"
   ]
  },
  {
   "cell_type": "code",
   "execution_count": 92,
   "metadata": {},
   "outputs": [
    {
     "data": {
      "text/plain": [
       "100"
      ]
     },
     "execution_count": 92,
     "metadata": {},
     "output_type": "execute_result"
    }
   ],
   "source": [
    "len(results)"
   ]
  },
  {
   "cell_type": "code",
   "execution_count": 93,
   "metadata": {
    "collapsed": true
   },
   "outputs": [],
   "source": [
    "ll = np.array(NLL)\n",
    "Rmse = np.array(RMSE)"
   ]
  },
  {
   "cell_type": "code",
   "execution_count": 94,
   "metadata": {
    "collapsed": true
   },
   "outputs": [],
   "source": [
    "ind_ll = np.array(list(itertools.product(power_range, damp_range)))"
   ]
  },
  {
   "cell_type": "code",
   "execution_count": 95,
   "metadata": {},
   "outputs": [
    {
     "data": {
      "text/plain": [
       "array([[ 0.1,  0.1],\n",
       "       [ 0.1,  0.2],\n",
       "       [ 0.1,  0.3],\n",
       "       [ 0.1,  0.4],\n",
       "       [ 0.1,  0.5],\n",
       "       [ 0.1,  0.6],\n",
       "       [ 0.1,  0.7],\n",
       "       [ 0.1,  0.8],\n",
       "       [ 0.1,  0.9],\n",
       "       [ 0.1,  1. ]])"
      ]
     },
     "execution_count": 95,
     "metadata": {},
     "output_type": "execute_result"
    }
   ],
   "source": [
    "ind_ll.reshape(x, y, 2)[0]"
   ]
  },
  {
   "cell_type": "code",
   "execution_count": 96,
   "metadata": {
    "collapsed": true
   },
   "outputs": [],
   "source": [
    "\n",
    "img_ll = ll.reshape(x, y)\n",
    "img_rmse = Rmse.reshape(x, y)"
   ]
  },
  {
   "cell_type": "code",
   "execution_count": 97,
   "metadata": {},
   "outputs": [
    {
     "data": {
      "text/plain": [
       "84"
      ]
     },
     "execution_count": 97,
     "metadata": {},
     "output_type": "execute_result"
    }
   ],
   "source": [
    "np.argmin(img_ll)"
   ]
  },
  {
   "cell_type": "code",
   "execution_count": 98,
   "metadata": {},
   "outputs": [
    {
     "data": {
      "text/plain": [
       "array([ 0.9,  0.5])"
      ]
     },
     "execution_count": 98,
     "metadata": {},
     "output_type": "execute_result"
    }
   ],
   "source": [
    "ind_ll[np.argmin(img_ll)]"
   ]
  },
  {
   "cell_type": "code",
   "execution_count": 99,
   "metadata": {},
   "outputs": [
    {
     "data": {
      "text/plain": [
       "array([ 1.,  1.])"
      ]
     },
     "execution_count": 99,
     "metadata": {},
     "output_type": "execute_result"
    }
   ],
   "source": [
    "ind_ll[np.argmax(img_ll)]"
   ]
  },
  {
   "cell_type": "code",
   "execution_count": 100,
   "metadata": {},
   "outputs": [
    {
     "data": {
      "text/plain": [
       "array([ 0.1,  0.4])"
      ]
     },
     "execution_count": 100,
     "metadata": {},
     "output_type": "execute_result"
    }
   ],
   "source": [
    "ind_ll[3]"
   ]
  },
  {
   "cell_type": "code",
   "execution_count": 101,
   "metadata": {},
   "outputs": [
    {
     "data": {
      "text/plain": [
       "4.203965780898093"
      ]
     },
     "execution_count": 101,
     "metadata": {},
     "output_type": "execute_result"
    }
   ],
   "source": [
    "NLL[3]"
   ]
  },
  {
   "cell_type": "code",
   "execution_count": 102,
   "metadata": {},
   "outputs": [
    {
     "data": {
      "text/plain": [
       "(4.203965780898093, 9.4584042098563632)"
      ]
     },
     "execution_count": 102,
     "metadata": {},
     "output_type": "execute_result"
    }
   ],
   "source": [
    "_power_sweep(0.1, 0.4)"
   ]
  },
  {
   "cell_type": "code",
   "execution_count": 103,
   "metadata": {},
   "outputs": [
    {
     "data": {
      "text/plain": [
       "2.6898087866617146"
      ]
     },
     "execution_count": 103,
     "metadata": {},
     "output_type": "execute_result"
    }
   ],
   "source": [
    "img_rmse[6][4]"
   ]
  },
  {
   "cell_type": "code",
   "execution_count": 104,
   "metadata": {},
   "outputs": [
    {
     "data": {
      "text/plain": [
       "16.192592554813807"
      ]
     },
     "execution_count": 104,
     "metadata": {},
     "output_type": "execute_result"
    }
   ],
   "source": [
    "np.max(img_rmse)"
   ]
  },
  {
   "cell_type": "code",
   "execution_count": 105,
   "metadata": {
    "collapsed": true
   },
   "outputs": [],
   "source": [
    "methods = [None, 'none','nearest', 'bilinear', 'bicubic', 'spline16',\n",
    "           'spline36', 'hanning', 'hamming', 'hermite', 'kaiser', 'quadric',\n",
    "           'catrom', 'gaussian', 'bessel', 'mitchell', 'sinc', 'lanczos']"
   ]
  },
  {
   "cell_type": "code",
   "execution_count": 106,
   "metadata": {},
   "outputs": [
    {
     "data": {
      "text/plain": [
       "18"
      ]
     },
     "execution_count": 106,
     "metadata": {},
     "output_type": "execute_result"
    }
   ],
   "source": [
    "len(methods)"
   ]
  },
  {
   "cell_type": "code",
   "execution_count": 107,
   "metadata": {},
   "outputs": [
    {
     "data": {
      "image/png": "[encoded data removed]",
      "text/plain": [
       "<matplotlib.figure.Figure at 0x7f7b2f438be0>"
      ]
     },
     "metadata": {},
     "output_type": "display_data"
    }
   ],
   "source": [
    "fig, ax = plt.subplots(4,4)"
   ]
  },
  {
   "cell_type": "code",
   "execution_count": 108,
   "metadata": {},
   "outputs": [
    {
     "data": {
      "text/plain": [
       "array([<matplotlib.axes._subplots.AxesSubplot object at 0x7f7b2f2906d8>,\n",
       "       <matplotlib.axes._subplots.AxesSubplot object at 0x7f7b2eeb2240>,\n",
       "       <matplotlib.axes._subplots.AxesSubplot object at 0x7f7b2eeca470>,\n",
       "       <matplotlib.axes._subplots.AxesSubplot object at 0x7f7b2ede2e80>], dtype=object)"
      ]
     },
     "execution_count": 108,
     "metadata": {},
     "output_type": "execute_result"
    }
   ],
   "source": [
    "ax[0]"
   ]
  },
  {
   "cell_type": "code",
   "execution_count": 109,
   "metadata": {
    "collapsed": true
   },
   "outputs": [],
   "source": [
    "def plot(img, methods):\n",
    "    plt.imshow(img_ll, interpolation=methods[9], extent=[0.0,1,0.0,1], cmap='jet', clim=(0, 6))\n",
    "    ax = plt.gca()\n",
    "    ax.set_xlabel('Power')\n",
    "    ax.set_ylabel('Damping')\n",
    "    ax.grid(False)\n",
    "    plt.colorbar()"
   ]
  },
  {
   "cell_type": "code",
   "execution_count": 110,
   "metadata": {
    "collapsed": true
   },
   "outputs": [],
   "source": [
    "log_nll = np.log(img_ll)"
   ]
  },
  {
   "cell_type": "code",
   "execution_count": 111,
   "metadata": {},
   "outputs": [
    {
     "data": {
      "text/plain": [
       "<matplotlib.colorbar.Colorbar at 0x7f7b2eef0390>"
      ]
     },
     "execution_count": 111,
     "metadata": {},
     "output_type": "execute_result"
    },
    {
     "data": {
      "image/png": "[encoded data removed]",
      "text/plain": [
       "<matplotlib.figure.Figure at 0x7f7b2ee60cc0>"
      ]
     },
     "metadata": {},
     "output_type": "display_data"
    }
   ],
   "source": [
    "plt.imshow(log_nll, interpolation=methods[5], extent=[0.0,1,0.0,1], cmap='jet', vmax=np.max(log_nll), vmin=np.min(log_nll))\n",
    "ax = plt.gca()\n",
    "ax.set_xlabel('Power')\n",
    "ax.set_ylabel('Damping')\n",
    "ax.grid(False)\n",
    "plt.colorbar()"
   ]
  },
  {
   "cell_type": "code",
   "execution_count": 112,
   "metadata": {
    "collapsed": true
   },
   "outputs": [],
   "source": [
    "log_rmse = np.log(img_rmse)"
   ]
  },
  {
   "cell_type": "code",
   "execution_count": 113,
   "metadata": {},
   "outputs": [
    {
     "data": {
      "text/plain": [
       "<matplotlib.colorbar.Colorbar at 0x7f7b2e623eb8>"
      ]
     },
     "execution_count": 113,
     "metadata": {},
     "output_type": "execute_result"
    },
    {
     "data": {
      "image/png": "[encoded data removed]",
      "text/plain": [
       "<matplotlib.figure.Figure at 0x7f7b2e74ce48>"
      ]
     },
     "metadata": {},
     "output_type": "display_data"
    }
   ],
   "source": [
    "plt.imshow(log_rmse, interpolation=methods[5], extent=[0.1,1,0.1,1], cmap='jet', vmax=np.max(log_rmse), vmin=np.min(log_rmse))\n",
    "ax = plt.gca()\n",
    "ax.set_xlabel('Power')\n",
    "ax.set_ylabel('Damping')\n",
    "ax.grid(False)\n",
    "plt.colorbar()"
   ]
  },
  {
   "cell_type": "code",
   "execution_count": 33,
   "metadata": {},
   "outputs": [
    {
     "ename": "NameError",
     "evalue": "name 'dx' is not defined",
     "output_type": "error",
     "traceback": [
      "\u001b[0;31m---------------------------------------------------------------------------\u001b[0m",
      "\u001b[0;31mNameError\u001b[0m                                 Traceback (most recent call last)",
      "\u001b[0;32m<ipython-input-33-4cf40ff574c8>\u001b[0m in \u001b[0;36m<module>\u001b[0;34m()\u001b[0m\n\u001b[0;32m----> 1\u001b[0;31m \u001b[0mdx\u001b[0m\u001b[0;34m\u001b[0m\u001b[0m\n\u001b[0m",
      "\u001b[0;31mNameError\u001b[0m: name 'dx' is not defined"
     ]
    }
   ],
   "source": [
    "dx"
   ]
  },
  {
   "cell_type": "code",
   "execution_count": null,
   "metadata": {},
   "outputs": [],
   "source": [
    "x_plot, y_plot = np.mgrid[0.1:1.1:0.1, 0.1:1.1:0.1]"
   ]
  },
  {
   "cell_type": "code",
   "execution_count": null,
   "metadata": {},
   "outputs": [],
   "source": [
    "plt.pcolor( y_plot, x_plot, log_rmse, cmap='RdBu' )\n",
    "plt.colorbar()\n",
    "# plt.axis([x_plot.min(), x_plot.max(), y_plot.min(), y_plot.max()])"
   ]
  },
  {
   "cell_type": "code",
   "execution_count": null,
   "metadata": {},
   "outputs": [],
   "source": [
    "for i in range(len(power_range)):\n",
    "    plt.plot(power_range, img_ll[:, i])"
   ]
  },
  {
   "cell_type": "code",
   "execution_count": null,
   "metadata": {},
   "outputs": [],
   "source": [
    "Rmse"
   ]
  },
  {
   "cell_type": "code",
   "execution_count": null,
   "metadata": {
    "collapsed": true
   },
   "outputs": [],
   "source": []
  }
 ],
 "metadata": {
  "anaconda-cloud": {},
  "kernelspec": {
   "display_name": "Python [default]",
   "language": "python",
   "name": "python3"
  },
  "language_info": {
   "codemirror_mode": {
    "name": "ipython",
    "version": 3
   },
   "file_extension": ".py",
   "mimetype": "text/x-python",
   "name": "python",
   "nbconvert_exporter": "python",
   "pygments_lexer": "ipython3",
   "version": "3.6.1"
  }
 },
 "nbformat": 4,
 "nbformat_minor": 2
}
