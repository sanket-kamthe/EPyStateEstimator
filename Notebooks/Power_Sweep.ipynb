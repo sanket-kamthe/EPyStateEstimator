{
 "cells": [
  {
   "cell_type": "code",
   "execution_count": 1,
   "metadata": {},
   "outputs": [],
   "source": [
    "%matplotlib inline\n",
    "import numpy as np\n",
    "import itertools\n",
    "import matplotlib.pyplot as plt\n",
    "import seaborn as sns"
   ]
  },
  {
   "cell_type": "code",
   "execution_count": 2,
   "metadata": {},
   "outputs": [],
   "source": [
    "import os\n",
    "import sys\n",
    "module_path = os.path.abspath(os.path.join('..'))\n",
    "if module_path not in sys.path:\n",
    "    sys.path.append(module_path)"
   ]
  },
  {
   "cell_type": "code",
   "execution_count": 3,
   "metadata": {},
   "outputs": [
    {
     "data": {
      "text/plain": [
       "sys.version_info(major=3, minor=6, micro=4, releaselevel='final', serial=0)"
      ]
     },
     "execution_count": 3,
     "metadata": {},
     "output_type": "execute_result"
    }
   ],
   "source": [
    "sys.version_info"
   ]
  },
  {
   "cell_type": "code",
   "execution_count": 4,
   "metadata": {},
   "outputs": [],
   "source": [
    "from MomentMatching.newMomentMatch import UnscentedTransform, TaylorTransform, MonteCarloTransform\n",
    "from Systems import UniformNonlinearGrowthModel\n",
    "from MomentMatching.StateModels import GaussianState\n",
    "from ExpectationPropagation import EPNodes\n",
    "from MomentMatching.ExpectationPropagation import TopEP\n",
    "from Filters.KalmanFilter import KalmanFilterSmoother, PowerKalmanFilterSmoother\n",
    "from Utils.Metrics import nll, rmse\n",
    "from Utils.Plot_Helper import plot_gaussian, plot_gaussian_node\n",
    "from Systems import BearingsOnlyTracking\n",
    "import logging"
   ]
  },
  {
   "cell_type": "code",
   "execution_count": 5,
   "metadata": {},
   "outputs": [],
   "source": [
    "SEED = 100\n",
    "\n",
    "np.random.seed(seed=SEED)\n",
    "\n",
    "N = 50\n",
    "system = UniformNonlinearGrowthModel()\n",
    "# system = BearingsOnlyTracking()\n",
    "data = system.simulate(N)\n",
    "x_true, x_noisy, y_true, y_noisy = zip(*data)\n",
    "\n",
    "\n",
    "power = 1\n",
    "damping = 1\n",
    "\n",
    "transform = UnscentedTransform(n=1,  beta=0,  alpha=1, kappa=2)\n",
    "meas_transform = UnscentedTransform(n=1, beta=0,  alpha=1, kappa=2)"
   ]
  },
  {
   "cell_type": "code",
   "execution_count": 6,
   "metadata": {},
   "outputs": [],
   "source": [
    "def _power_sweep(power, damping):\n",
    "    transform = UnscentedTransform(n=1, beta=0, alpha=1, kappa=1)\n",
    "    meas_transform = UnscentedTransform(n=1, beta=0, alpha=1, kappa=1)\n",
    "#     transform = TaylorTransform()\n",
    "#     transform = MonteCarloTransform(number_of_samples=2000)\n",
    "#     meas_transform = MonteCarloTransform(number_of_samples=2000)\n",
    "    Nodes = EPNodes(dimension_of_state=1, N=N)\n",
    "    EP = TopEP(system_model=system,\n",
    "               moment_matching=transform,\n",
    "               meas_transform=meas_transform,\n",
    "               power=power,\n",
    "               damping=damping)\n",
    "\n",
    "    EPNodesList = EP.forward_backward_iteration(10, Nodes, y_noisy, list(range(0, N)), x_true)\n",
    "\n",
    "    Node = [node.marginal for node in EPNodesList[-1]]\n",
    "    return nll(Node, x_true), rmse(Node, x_true)"
   ]
  },
  {
   "cell_type": "code",
   "execution_count": 7,
   "metadata": {},
   "outputs": [],
   "source": [
    "x = 10\n",
    "y = 10\n",
    "power_range = np.linspace(0.1, 1.0, num=x)\n",
    "damp_range = np.linspace(0.1, 1.0, num=y)"
   ]
  },
  {
   "cell_type": "code",
   "execution_count": 8,
   "metadata": {},
   "outputs": [
    {
     "data": {
      "text/plain": [
       "array([0.1, 0.2, 0.3, 0.4, 0.5, 0.6, 0.7, 0.8, 0.9, 1. ])"
      ]
     },
     "execution_count": 8,
     "metadata": {},
     "output_type": "execute_result"
    }
   ],
   "source": [
    "power_range"
   ]
  },
  {
   "cell_type": "code",
   "execution_count": 9,
   "metadata": {},
   "outputs": [],
   "source": [
    "results = []\n",
    "NLL = []\n",
    "RMSE = []\n",
    "for power, damping in itertools.product(power_range, damp_range):\n",
    "    ans = _power_sweep(power, damping)\n",
    "    a1, a2 = ans\n",
    "    NLL.append(a1)\n",
    "    RMSE.append(a2)\n",
    "    results.append(ans)"
   ]
  },
  {
   "cell_type": "code",
   "execution_count": 10,
   "metadata": {
    "scrolled": true
   },
   "outputs": [
    {
     "data": {
      "text/plain": [
       "[(4.0202256626919475, 9.604311309238033),\n",
       " (4.099765857161781, 9.642539489207836),\n",
       " (4.2240886680996095, 9.651636503477997),\n",
       " (4.322341936216337, 9.635572673778),\n",
       " (4.349033810180067, 9.684042823855949),\n",
       " (4.308703316270749, 9.537507975941615),\n",
       " (4.396874237343187, 9.559214960257284),\n",
       " (4.534639616357847, 9.421296400044442),\n",
       " (4.766660088741683, 9.121444031655367),\n",
       " (4.9879944988216645, 9.968450925043753),\n",
       " (4.057389554507469, 9.27521140581096),\n",
       " (4.074324261259366, 9.569936078077728),\n",
       " (4.133340107169323, 10.003829642345208),\n",
       " (4.166901219239921, 9.863668907718042),\n",
       " (4.256469233642323, 10.177497816815608),\n",
       " (4.297297527519077, 9.842604691763425),\n",
       " (4.377237491838195, 10.073308936490037),\n",
       " (4.42859988146865, 10.568065632525181),\n",
       " (4.656339980743074, 10.479752490602143),\n",
       " (4.60042026147046, 11.420587263394623),\n",
       " (4.098623181351556, 10.644430845763416),\n",
       " (4.119051581198399, 9.768355237266553),\n",
       " (4.1174889116163085, 10.070576322189197),\n",
       " (4.063403292426379, 10.238136821367764),\n",
       " (4.040665693499743, 10.341290328317367),\n",
       " (4.071942490886699, 10.257335958090867),\n",
       " (4.125822528248428, 10.369778421393583),\n",
       " (4.05147068534405, 10.478885466922664),\n",
       " (4.269308127764435, 11.245290304646089),\n",
       " (6.152359148127971, 12.401874795943867),\n",
       " (4.054566009550711, 10.593532550522513),\n",
       " (3.9609871655744353, 10.663152455915577),\n",
       " (3.835270373611108, 10.357908119552688),\n",
       " (10.066428057163057, 11.365253427020756),\n",
       " (13.439614185996627, 10.471231500397696),\n",
       " (12.510178375255705, 12.373093133884497),\n",
       " (9.984265991879385, 9.062235859130782),\n",
       " (2.7677838523539697, 6.767610469529836),\n",
       " (35.800188493637954, 10.491357657150836),\n",
       " (6.344763383921085, 5.212481056347497),\n",
       " (4.078054307702872, 12.878474596752984),\n",
       " (6.214919211633286, 12.91535103812505),\n",
       " (3.6443749304657933, 7.073517489793279),\n",
       " (2.788380962202362, 5.222625458058682),\n",
       " (2.9350686197236815, 4.54352175972349),\n",
       " (1.9378186064639151, 3.025875349634378),\n",
       " (2.269023722312301, 3.393128166006587),\n",
       " (7.714030837416336, 5.114817593969476),\n",
       " (11.605641243957809, 5.292839708210104),\n",
       " (1.7337913311358926, 2.0888322810356477),\n",
       " (4.465685303238415, 16.068254290845793),\n",
       " (3.0006615576034106, 6.115480153804665),\n",
       " (2.7752171238206564, 5.380655424469331),\n",
       " (2.2104354842551044, 3.4790679123247092),\n",
       " (1.8140414928699187, 2.8009791662413583),\n",
       " (2.447543139941868, 3.2317347613304395),\n",
       " (5.292202353313546, 3.9793706004474454),\n",
       " (4.1306533403681955, 3.3268870454185775),\n",
       " (9.220593223689253, 4.276484518827433),\n",
       " (1.885961364028401, 1.4658976024593962),\n",
       " (4.036626639873312, 10.591104975293002),\n",
       " (3.0325067233105973, 6.025249642101754),\n",
       " (4.657625871508807, 6.375641232770387),\n",
       " (1.9147679327164164, 2.422368668376625),\n",
       " (1.6979592872100877, 2.934655356261493),\n",
       " (1.5752480046408182, 2.0885530276027984),\n",
       " (2.1176504547868236, 1.9258798215468145),\n",
       " (3.687236156652381, 2.6509169329852753),\n",
       " (1.358372676513959, 0.9319314943682641),\n",
       " (7.638509791880925, 3.450593800675341),\n",
       " (3.602089061647778, 8.974931263331422),\n",
       " (2.7069267758267106, 5.259343256296943),\n",
       " (2.102543655847973, 3.643935961669351),\n",
       " (1.7720431450455103, 2.8459712228801783),\n",
       " (5.697944483165279, 3.9443426848728236),\n",
       " (1.4193011662281234, 1.5915954203007787),\n",
       " (6.0134363112633515, 3.5905012644822905),\n",
       " (1.4607310963300861, 1.0009988771041747),\n",
       " (1.5017560997055828, 0.932330424379148),\n",
       " (13.911606200402485, 3.4486268155180726),\n",
       " (3.5143003766402807, 7.82107448952761),\n",
       " (2.365290858136927, 4.131663041838459),\n",
       " (7.857455594924411, 5.74944355658821),\n",
       " (1.5878435956165213, 2.1772385937341183),\n",
       " (1.5107158705083286, 1.9508481768292358),\n",
       " (7.907377072162583, 3.6847320386668536),\n",
       " (1.6883313996000435, 1.5211557484027924),\n",
       " (1.4694485776712054, 1.0250015016658034),\n",
       " (12.993072768704948, 3.5525081246183188),\n",
       " (29.248882118114725, 5.435826743755479),\n",
       " (3.428775141920935, 7.936173844268959),\n",
       " (2.1975883236063014, 3.5033648663909838),\n",
       " (8.677251957158864, 5.3972523821682525),\n",
       " (10.32814492649956, 3.9575049006872227),\n",
       " (2.212708052723028, 2.105326540488311),\n",
       " (147.00333460918958, 6.934620150607025),\n",
       " (1.4159466519530368, 1.3071001692639217),\n",
       " (22.114140528430116, 4.5274987024741575),\n",
       " (21.81073605787594, 4.459412333270586),\n",
       " (8584.951498421753, 11.056199107779634)]"
      ]
     },
     "execution_count": 10,
     "metadata": {},
     "output_type": "execute_result"
    }
   ],
   "source": [
    "results"
   ]
  },
  {
   "cell_type": "code",
   "execution_count": 11,
   "metadata": {},
   "outputs": [
    {
     "data": {
      "text/plain": [
       "100"
      ]
     },
     "execution_count": 11,
     "metadata": {},
     "output_type": "execute_result"
    }
   ],
   "source": [
    "len(results)"
   ]
  },
  {
   "cell_type": "code",
   "execution_count": 12,
   "metadata": {},
   "outputs": [],
   "source": [
    "ll = np.array(NLL)\n",
    "Rmse = np.array(RMSE)"
   ]
  },
  {
   "cell_type": "code",
   "execution_count": 13,
   "metadata": {},
   "outputs": [],
   "source": [
    "ind_ll = np.array(list(itertools.product(power_range, damp_range)))"
   ]
  },
  {
   "cell_type": "code",
   "execution_count": 14,
   "metadata": {},
   "outputs": [
    {
     "data": {
      "text/plain": [
       "array([[0.1, 0.1],\n",
       "       [0.1, 0.2],\n",
       "       [0.1, 0.3],\n",
       "       [0.1, 0.4],\n",
       "       [0.1, 0.5],\n",
       "       [0.1, 0.6],\n",
       "       [0.1, 0.7],\n",
       "       [0.1, 0.8],\n",
       "       [0.1, 0.9],\n",
       "       [0.1, 1. ]])"
      ]
     },
     "execution_count": 14,
     "metadata": {},
     "output_type": "execute_result"
    }
   ],
   "source": [
    "ind_ll.reshape(x, y, 2)[0]"
   ]
  },
  {
   "cell_type": "code",
   "execution_count": 15,
   "metadata": {},
   "outputs": [],
   "source": [
    "\n",
    "img_ll = ll.reshape(x, y)\n",
    "img_rmse = Rmse.reshape(x, y)"
   ]
  },
  {
   "cell_type": "code",
   "execution_count": 16,
   "metadata": {},
   "outputs": [
    {
     "data": {
      "text/plain": [
       "68"
      ]
     },
     "execution_count": 16,
     "metadata": {},
     "output_type": "execute_result"
    }
   ],
   "source": [
    "np.argmin(img_ll)"
   ]
  },
  {
   "cell_type": "code",
   "execution_count": 17,
   "metadata": {},
   "outputs": [
    {
     "data": {
      "text/plain": [
       "array([0.7, 0.9])"
      ]
     },
     "execution_count": 17,
     "metadata": {},
     "output_type": "execute_result"
    }
   ],
   "source": [
    "ind_ll[np.argmin(img_ll)]"
   ]
  },
  {
   "cell_type": "code",
   "execution_count": 18,
   "metadata": {},
   "outputs": [
    {
     "data": {
      "text/plain": [
       "array([1., 1.])"
      ]
     },
     "execution_count": 18,
     "metadata": {},
     "output_type": "execute_result"
    }
   ],
   "source": [
    "ind_ll[np.argmax(img_ll)]"
   ]
  },
  {
   "cell_type": "code",
   "execution_count": 19,
   "metadata": {},
   "outputs": [
    {
     "data": {
      "text/plain": [
       "array([0.1, 0.4])"
      ]
     },
     "execution_count": 19,
     "metadata": {},
     "output_type": "execute_result"
    }
   ],
   "source": [
    "ind_ll[3]"
   ]
  },
  {
   "cell_type": "code",
   "execution_count": 20,
   "metadata": {},
   "outputs": [
    {
     "data": {
      "text/plain": [
       "4.322341936216337"
      ]
     },
     "execution_count": 20,
     "metadata": {},
     "output_type": "execute_result"
    }
   ],
   "source": [
    "NLL[3]"
   ]
  },
  {
   "cell_type": "code",
   "execution_count": 21,
   "metadata": {},
   "outputs": [
    {
     "data": {
      "text/plain": [
       "(4.322341936216337, 9.635572673778)"
      ]
     },
     "execution_count": 21,
     "metadata": {},
     "output_type": "execute_result"
    }
   ],
   "source": [
    "_power_sweep(0.1, 0.4)"
   ]
  },
  {
   "cell_type": "code",
   "execution_count": 22,
   "metadata": {},
   "outputs": [
    {
     "data": {
      "text/plain": [
       "2.934655356261493"
      ]
     },
     "execution_count": 22,
     "metadata": {},
     "output_type": "execute_result"
    }
   ],
   "source": [
    "img_rmse[6][4]"
   ]
  },
  {
   "cell_type": "code",
   "execution_count": 23,
   "metadata": {},
   "outputs": [
    {
     "data": {
      "text/plain": [
       "16.068254290845793"
      ]
     },
     "execution_count": 23,
     "metadata": {},
     "output_type": "execute_result"
    }
   ],
   "source": [
    "np.max(img_rmse)"
   ]
  },
  {
   "cell_type": "code",
   "execution_count": 24,
   "metadata": {},
   "outputs": [],
   "source": [
    "methods = [None, 'none','nearest', 'bilinear', 'bicubic', 'spline16',\n",
    "           'spline36', 'hanning', 'hamming', 'hermite', 'kaiser', 'quadric',\n",
    "           'catrom', 'gaussian', 'bessel', 'mitchell', 'sinc', 'lanczos']"
   ]
  },
  {
   "cell_type": "code",
   "execution_count": 25,
   "metadata": {},
   "outputs": [
    {
     "data": {
      "text/plain": [
       "18"
      ]
     },
     "execution_count": 25,
     "metadata": {},
     "output_type": "execute_result"
    }
   ],
   "source": [
    "len(methods)"
   ]
  },
  {
   "cell_type": "code",
   "execution_count": 26,
   "metadata": {},
   "outputs": [],
   "source": [
    "# fig, ax = plt.subplots(4,4)"
   ]
  },
  {
   "cell_type": "code",
   "execution_count": 27,
   "metadata": {},
   "outputs": [
    {
     "ename": "NameError",
     "evalue": "name 'ax' is not defined",
     "traceback": [
      "\u001b[0;31m---------------------------------------------------------------------------\u001b[0m",
      "\u001b[0;31mNameError\u001b[0m                                 Traceback (most recent call last)",
      "\u001b[0;32m<ipython-input-27-b9c478fc82b3>\u001b[0m in \u001b[0;36m<module>\u001b[0;34m()\u001b[0m\n\u001b[0;32m----> 1\u001b[0;31m \u001b[0max\u001b[0m\u001b[0;34m[\u001b[0m\u001b[0;36m0\u001b[0m\u001b[0;34m]\u001b[0m\u001b[0;34m\u001b[0m\u001b[0m\n\u001b[0m",
      "\u001b[0;31mNameError\u001b[0m: name 'ax' is not defined"
     ],
     "output_type": "error"
    }
   ],
   "source": [
    "ax[0]"
   ]
  },
  {
   "cell_type": "code",
   "execution_count": null,
   "metadata": {},
   "outputs": [],
   "source": [
    "def plot(img, methods):\n",
    "    plt.imshow(img_ll, interpolation=methods[9], extent=[0.0,1,0.0,1], cmap='jet', clim=(0, 6))\n",
    "    ax = plt.gca()\n",
    "    ax.set_xlabel('Power')\n",
    "    ax.set_ylabel('Damping')\n",
    "    ax.grid(False)\n",
    "    plt.colorbar()"
   ]
  },
  {
   "cell_type": "code",
   "execution_count": null,
   "metadata": {},
   "outputs": [],
   "source": [
    "log_nll = np.log(img_ll)"
   ]
  },
  {
   "cell_type": "code",
   "execution_count": null,
   "metadata": {},
   "outputs": [],
   "source": [
    "plt.imshow(log_nll, interpolation=methods[5], extent=[0.0,1,0.0,1], cmap='jet', vmax=np.max(log_nll), vmin=np.min(log_nll))\n",
    "ax = plt.gca()\n",
    "ax.set_xlabel('Power')\n",
    "ax.set_ylabel('Damping')\n",
    "ax.grid(False)\n",
    "plt.colorbar()"
   ]
  },
  {
   "cell_type": "code",
   "execution_count": null,
   "metadata": {},
   "outputs": [],
   "source": [
    "log_rmse = np.log(img_rmse)"
   ]
  },
  {
   "cell_type": "code",
   "execution_count": null,
   "metadata": {},
   "outputs": [],
   "source": [
    "plt.imshow(log_rmse, interpolation=methods[5], extent=[0.1,1,0.1,1], cmap='jet', vmax=np.max(log_rmse), vmin=np.min(log_rmse))\n",
    "ax = plt.gca()\n",
    "ax.set_xlabel('Power')\n",
    "ax.set_ylabel('Damping')\n",
    "ax.grid(False)\n",
    "plt.colorbar()"
   ]
  },
  {
   "cell_type": "code",
   "execution_count": null,
   "metadata": {},
   "outputs": [],
   "source": [
    "dx"
   ]
  },
  {
   "cell_type": "code",
   "execution_count": null,
   "metadata": {},
   "outputs": [],
   "source": [
    "x_plot, y_plot = np.mgrid[0.1:1.1:0.1, 0.1:1.1:0.1]"
   ]
  },
  {
   "cell_type": "code",
   "execution_count": null,
   "metadata": {},
   "outputs": [],
   "source": [
    "plt.pcolor( y_plot, x_plot, log_rmse, cmap='RdBu' )\n",
    "plt.colorbar()\n",
    "# plt.axis([x_plot.min(), x_plot.max(), y_plot.min(), y_plot.max()])"
   ]
  },
  {
   "cell_type": "code",
   "execution_count": null,
   "metadata": {},
   "outputs": [],
   "source": [
    "for i in range(len(power_range)):\n",
    "    plt.plot(power_range, img_ll[:, i])"
   ]
  },
  {
   "cell_type": "code",
   "execution_count": null,
   "metadata": {},
   "outputs": [],
   "source": [
    "Rmse"
   ]
  },
  {
   "cell_type": "code",
   "execution_count": null,
   "metadata": {},
   "outputs": [],
   "source": []
  }
 ],
 "metadata": {
  "anaconda-cloud": {},
  "kernelspec": {
   "display_name": "Python [default]",
   "language": "python",
   "name": "python3"
  },
  "language_info": {
   "codemirror_mode": {
    "name": "ipython",
    "version": 3
   },
   "file_extension": ".py",
   "mimetype": "text/x-python",
   "name": "python",
   "nbconvert_exporter": "python",
   "pygments_lexer": "ipython3",
   "version": "3.6.4"
  }
 },
 "nbformat": 4,
 "nbformat_minor": 2
}
