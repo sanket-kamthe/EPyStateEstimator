{
 "cells": [
  {
   "cell_type": "code",
   "execution_count": 1,
   "metadata": {
    "collapsed": true
   },
   "outputs": [],
   "source": [
    "%matplotlib inline\n",
    "import numpy as np\n",
    "import itertools\n",
    "import matplotlib.pyplot as plt\n",
    "import seaborn as sns"
   ]
  },
  {
   "cell_type": "code",
   "execution_count": 2,
   "metadata": {
    "collapsed": true
   },
   "outputs": [],
   "source": [
    "import os\n",
    "import sys\n",
    "module_path = os.path.abspath(os.path.join('..'))\n",
    "if module_path not in sys.path:\n",
    "    sys.path.append(module_path)"
   ]
  },
  {
   "cell_type": "code",
   "execution_count": 3,
   "metadata": {
    "collapsed": true
   },
   "outputs": [],
   "source": [
    "from MomentMatching.newMomentMatch import MomentMatching, UnscentedTransform, TaylorTransform, MonteCarloTransform\n",
    "from MomentMatching.TimeSeriesModel import TimeSeriesModel, UniformNonlinearGrowthModel\n",
    "from MomentMatching.StateModels import GaussianState\n",
    "from ExpectationPropagation import EPNodes\n",
    "from MomentMatching.ExpectationPropagation import TopEP\n",
    "from Filters.KalmanFilter import KalmanFilterSmoother, PowerKalmanFilterSmoother\n",
    "from Utils.Metrics import nll, rmse\n",
    "from Utils.Plot_Helper import plot_gaussian, plot_gaussian_node\n",
    "from Systems import BearingsOnlyTracking\n",
    "import logging"
   ]
  },
  {
   "cell_type": "code",
   "execution_count": 4,
   "metadata": {
    "collapsed": true
   },
   "outputs": [],
   "source": [
    "SEED = 200\n",
    "\n",
    "np.random.seed(seed=SEED)\n",
    "\n",
    "N = 10\n",
    "system = UniformNonlinearGrowthModel()\n",
    "# system = BearingsOnlyTracking()\n",
    "data = system.simulate(N)\n",
    "x_true, x_noisy, y_true, y_noisy = zip(*data)\n",
    "\n",
    "\n",
    "power = 1\n",
    "damping = 1\n",
    "\n",
    "transform = UnscentedTransform(n=1,  beta=0,  alpha=1, kappa=2)\n",
    "meas_transform = UnscentedTransform(n=1, beta=0,  alpha=1, kappa=2)"
   ]
  },
  {
   "cell_type": "code",
   "execution_count": 5,
   "metadata": {
    "collapsed": true
   },
   "outputs": [],
   "source": [
    "def _power_sweep(power, damping):\n",
    "    transform = UnscentedTransform(n=1, beta=0, alpha=1, kappa=2)\n",
    "    meas_transform = UnscentedTransform(n=1, beta=0, alpha=1, kappa=2)\n",
    "\n",
    "    Nodes = EPNodes(dimension_of_state=1, N=N)\n",
    "    EP = TopEP(system_model=system,\n",
    "               moment_matching=transform,\n",
    "               meas_transform=meas_transform,\n",
    "               power=power,\n",
    "               damping=damping)\n",
    "\n",
    "    EPNodesList = EP.forward_backward_iteration(20, Nodes, y_noisy, list(range(0, N)), x_true)\n",
    "\n",
    "    Node = [node.marginal for node in EPNodesList[-1]]\n",
    "    return nll(Node, x_true), rmse(Node, x_true)"
   ]
  },
  {
   "cell_type": "code",
   "execution_count": 6,
   "metadata": {
    "collapsed": true
   },
   "outputs": [],
   "source": [
    "power_range = np.linspace(0.1, 1.0, num=10)\n",
    "damp_range = np.linspace(0.1, 1.0, num=10)"
   ]
  },
  {
   "cell_type": "code",
   "execution_count": 7,
   "metadata": {},
   "outputs": [
    {
     "name": "stderr",
     "output_type": "stream",
     "text": [
      "/home/sk15/Documents/Github/Code/pyStateEstimator/StateModel/GaussianState.py:141: RuntimeWarning: divide by zero encountered in true_divide\n",
      "  return GaussianState(self.mean, self.cov/power)\n",
      "/home/sk15/Documents/Github/Code/pyStateEstimator/StateModel/GaussianState.py:163: RuntimeWarning: invalid value encountered in log\n",
      "  logdet = np.log(2 * np.pi) + np.log(np.linalg.det(self.cov))\n"
     ]
    }
   ],
   "source": [
    "results = []\n",
    "NLL = []\n",
    "RMSE = []\n",
    "for power, damping in itertools.product(power_range, damp_range):\n",
    "    ans = _power_sweep(power, damping)\n",
    "    a1, a2 = ans\n",
    "    NLL.append(a1)\n",
    "    RMSE.append(a2)\n",
    "    results.append(ans)"
   ]
  },
  {
   "cell_type": "code",
   "execution_count": 8,
   "metadata": {},
   "outputs": [
    {
     "data": {
      "text/plain": [
       "array([ 0.1,  0.2,  0.3,  0.4,  0.5,  0.6,  0.7,  0.8,  0.9,  1. ])"
      ]
     },
     "execution_count": 8,
     "metadata": {},
     "output_type": "execute_result"
    }
   ],
   "source": [
    "power_range"
   ]
  },
  {
   "cell_type": "code",
   "execution_count": 9,
   "metadata": {},
   "outputs": [
    {
     "data": {
      "text/plain": [
       "100"
      ]
     },
     "execution_count": 9,
     "metadata": {},
     "output_type": "execute_result"
    }
   ],
   "source": [
    "len(results)"
   ]
  },
  {
   "cell_type": "code",
   "execution_count": 10,
   "metadata": {
    "collapsed": true
   },
   "outputs": [],
   "source": [
    "ll = np.array(NLL)\n",
    "rmse = np.array(RMSE)"
   ]
  },
  {
   "cell_type": "code",
   "execution_count": 11,
   "metadata": {
    "collapsed": true
   },
   "outputs": [],
   "source": [
    "img_ll = ll.reshape(10, 10)\n",
    "img_rmse = rmse.reshape(10, 10)"
   ]
  },
  {
   "cell_type": "code",
   "execution_count": 12,
   "metadata": {
    "collapsed": true
   },
   "outputs": [],
   "source": [
    "methods = [None, 'none', 'nearest', 'bilinear', 'bicubic', 'spline16',\n",
    "           'spline36', 'hanning', 'hamming', 'hermite', 'kaiser', 'quadric',\n",
    "           'catrom', 'gaussian', 'bessel', 'mitchell', 'sinc', 'lanczos']"
   ]
  },
  {
   "cell_type": "code",
   "execution_count": 18,
   "metadata": {},
   "outputs": [
    {
     "data": {
      "text/plain": [
       "<matplotlib.colorbar.Colorbar at 0x7f49f065c588>"
      ]
     },
     "execution_count": 18,
     "metadata": {},
     "output_type": "execute_result"
    },
    {
     "data": {
      "image/png": "[encoded data removed]",
      "text/plain": [
       "<matplotlib.figure.Figure at 0x7f49f0636cc0>"
      ]
     },
     "metadata": {},
     "output_type": "display_data"
    }
   ],
   "source": [
    "plt.imshow(img_ll, interpolation=methods[0], cmap='viridis', clim=(-100, 100))\n",
    "plt.colorbar()"
   ]
  },
  {
   "cell_type": "code",
   "execution_count": 26,
   "metadata": {},
   "outputs": [
    {
     "data": {
      "text/plain": [
       "<matplotlib.colorbar.Colorbar at 0x7f49f01bd5f8>"
      ]
     },
     "execution_count": 26,
     "metadata": {},
     "output_type": "execute_result"
    },
    {
     "data": {
      "image/png": "[encoded data removed]",
      "text/plain": [
       "<matplotlib.figure.Figure at 0x7f49f01b6828>"
      ]
     },
     "metadata": {},
     "output_type": "display_data"
    }
   ],
   "source": [
    "plt.imshow(img_rmse, interpolation=methods[5], cmap='viridis', vmax=20, vmin=0)\n",
    "plt.colorbar()"
   ]
  },
  {
   "cell_type": "code",
   "execution_count": 21,
   "metadata": {},
   "outputs": [
    {
     "data": {
      "text/plain": [
       "array([   10.3741,    10.7533,     9.701 ,    11.2948,     8.984 ,\n",
       "          18.2585,    16.6888,    16.6947,     4.9128,    16.928 ,\n",
       "          10.8822,    10.4881,    10.6836,    10.3899,    20.5747,\n",
       "           3.547 ,    15.737 ,     2.7084,  1197.2515,    15.7833,\n",
       "          10.2559,    10.4746,    10.1499,    11.9296,     7.5906,\n",
       "          16.3395,     2.2808,     2.2532,    14.9539,    14.9531,\n",
       "           9.8103,     9.9771,     9.3478,     8.3835,     2.4556,\n",
       "           2.5083,     2.0445,     1.9976,     1.9952,     2.0158,\n",
       "           9.491 ,     8.929 ,     7.0177,     5.7603,     2.6127,\n",
       "           2.5508,     2.8716,     3.0345,    10.1805,     2.9788,\n",
       "           8.8856,     7.0852,     6.6824,     4.6525,     2.8126,\n",
       "           2.8419,     2.8477,     2.8529,     3.314 ,     3.1263,\n",
       "           8.2298,     6.7392,     5.7384,     2.7505,     2.9579,\n",
       "           2.1203,     1.7717,    10.3477,    10.2025,     1.9828,\n",
       "           7.6773,     6.5906,     8.1403,     2.4674,     2.6794,\n",
       "           2.7205,    10.2976,    10.3013,    10.2867,    10.2849,\n",
       "           7.2672,     6.5565,     8.2294,     1.8996,     1.7741,\n",
       "           8.2169,    13.7079,    14.0713,    13.7838,    12.6332,\n",
       "           7.0255,     8.1847,     8.1694,     8.1916,     8.193 ,\n",
       "          13.7647,    12.945 ,    14.2146,    14.2854,     8.1933])"
      ]
     },
     "execution_count": 21,
     "metadata": {},
     "output_type": "execute_result"
    }
   ],
   "source": [
    "rmse"
   ]
  },
  {
   "cell_type": "code",
   "execution_count": null,
   "metadata": {
    "collapsed": true
   },
   "outputs": [],
   "source": []
  }
 ],
 "metadata": {
  "anaconda-cloud": {},
  "kernelspec": {
   "display_name": "Python (tensorflow)",
   "language": "python",
   "name": "tensorflow"
  },
  "language_info": {
   "codemirror_mode": {
    "name": "ipython",
    "version": 3
   },
   "file_extension": ".py",
   "mimetype": "text/x-python",
   "name": "python",
   "nbconvert_exporter": "python",
   "pygments_lexer": "ipython3",
   "version": "3.6.1"
  }
 },
 "nbformat": 4,
 "nbformat_minor": 2
}
