{
 "cells": [
  {
   "cell_type": "code",
   "execution_count": 1,
   "metadata": {},
   "outputs": [],
   "source": [
    "%matplotlib inline\n",
    "import numpy as np\n",
    "import itertools\n",
    "import matplotlib.pyplot as plt\n",
    "import seaborn as sns"
   ]
  },
  {
   "cell_type": "code",
   "execution_count": 2,
   "metadata": {},
   "outputs": [],
   "source": [
    "import os\n",
    "import sys\n",
    "module_path = os.path.abspath(os.path.join('..'))\n",
    "if module_path not in sys.path:\n",
    "    sys.path.append(module_path)"
   ]
  },
  {
   "cell_type": "code",
   "execution_count": 3,
   "metadata": {},
   "outputs": [
    {
     "data": {
      "text/plain": [
       "sys.version_info(major=3, minor=6, micro=4, releaselevel='final', serial=0)"
      ]
     },
     "execution_count": 3,
     "metadata": {},
     "output_type": "execute_result"
    }
   ],
   "source": [
    "sys.version_info"
   ]
  },
  {
   "cell_type": "code",
   "execution_count": 4,
   "metadata": {},
   "outputs": [],
   "source": [
    "from MomentMatching.newMomentMatch import UnscentedTransform, TaylorTransform, MonteCarloTransform\n",
    "from MomentMatching.TimeSeriesModel import TimeSeriesModel, UniformNonlinearGrowthModel\n",
    "from MomentMatching.StateModels import GaussianState\n",
    "from ExpectationPropagation import EPNodes\n",
    "from MomentMatching.ExpectationPropagation import TopEP\n",
    "from Filters.KalmanFilter import KalmanFilterSmoother, PowerKalmanFilterSmoother\n",
    "from Utils.Metrics import nll, rmse\n",
    "from Utils.Plot_Helper import plot_gaussian, plot_gaussian_node\n",
    "from Systems import BearingsOnlyTracking\n",
    "import logging"
   ]
  },
  {
   "cell_type": "code",
   "execution_count": 5,
   "metadata": {},
   "outputs": [],
   "source": [
    "SEED = 200\n",
    "\n",
    "np.random.seed(seed=SEED)\n",
    "\n",
    "N = 10\n",
    "system = UniformNonlinearGrowthModel()\n",
    "# system = BearingsOnlyTracking()\n",
    "data = system.simulate(N)\n",
    "x_true, x_noisy, y_true, y_noisy = zip(*data)\n",
    "\n",
    "\n",
    "power = 1\n",
    "damping = 1\n",
    "\n",
    "transform = UnscentedTransform(n=1,  beta=0,  alpha=1, kappa=2)\n",
    "meas_transform = UnscentedTransform(n=1, beta=0,  alpha=1, kappa=2)"
   ]
  },
  {
   "cell_type": "code",
   "execution_count": 31,
   "metadata": {},
   "outputs": [],
   "source": [
    "def _power_sweep(power, damping):\n",
    "#     transform = UnscentedTransform(n=1, beta=0, alpha=1, kappa=2)\n",
    "    meas_transform = UnscentedTransform(n=1, beta=0, alpha=1, kappa=2)\n",
    "    transform = TaylorTransform()\n",
    "#     transform = MonteCarloTransform(number_of_samples=2000)\n",
    "#     meas_transform = MonteCarloTransform(number_of_samples=2000)\n",
    "    Nodes = EPNodes(dimension_of_state=1, N=N)\n",
    "    EP = TopEP(system_model=system,\n",
    "               moment_matching=transform,\n",
    "               meas_transform=meas_transform,\n",
    "               power=power,\n",
    "               damping=damping)\n",
    "\n",
    "    EPNodesList = EP.forward_backward_iteration(20, Nodes, y_noisy, list(range(0, N)), x_true)\n",
    "\n",
    "    Node = [node.marginal for node in EPNodesList[-1]]\n",
    "    return nll(Node, x_true), rmse(Node, x_true)"
   ]
  },
  {
   "cell_type": "code",
   "execution_count": 40,
   "metadata": {},
   "outputs": [],
   "source": [
    "x = 5\n",
    "y = 5\n",
    "power_range = np.linspace(0.3, 1.0, num=x)\n",
    "damp_range = np.linspace(0.3, 1.0, num=y)"
   ]
  },
  {
   "cell_type": "code",
   "execution_count": 41,
   "metadata": {},
   "outputs": [
    {
     "name": "stderr",
     "output_type": "stream",
     "text": [
      "/Users/Pontragyin/Documents/GitHub/pyStateEstimator/StateModel/GaussianState.py:229: RuntimeWarning: invalid value encountered in log\n",
      "  logdet = np.log(2 * np.pi) + np.log(np.linalg.det(self.cov))\n",
      "/Users/Pontragyin/Documents/GitHub/pyStateEstimator/StateModel/GaussianState.py:205: RuntimeWarning: divide by zero encountered in true_divide\n",
      "  cov = self.cov / power\n"
     ]
    }
   ],
   "source": [
    "results = []\n",
    "NLL = []\n",
    "RMSE = []\n",
    "for power, damping in itertools.product(power_range, damp_range):\n",
    "    ans = _power_sweep(power, damping)\n",
    "    a1, a2 = ans\n",
    "    NLL.append(a1)\n",
    "    RMSE.append(a2)\n",
    "    results.append(ans)"
   ]
  },
  {
   "cell_type": "code",
   "execution_count": 42,
   "metadata": {},
   "outputs": [
    {
     "data": {
      "text/plain": [
       "[(19.202281052075627, 12.690642811073408),\n",
       " (96.26893686237189, 14.979560015221338),\n",
       " (nan, 52.585702903547926),\n",
       " (nan, 49.214397438273004),\n",
       " (1.7471723435907247, 1.2940710081294144),\n",
       " (68.35988489591799, 13.197781813680693),\n",
       " (79.44163490353954, 13.324403063689386),\n",
       " (44.86597106702272, 9.878141322519863),\n",
       " (29.177739830601883, 7.305767548059076),\n",
       " (1.886073035518311, 7.35871666968798),\n",
       " (41.641688829183664, 24.018710635591233),\n",
       " (102.39460295222423, 13.51457555218402),\n",
       " (106.42516253697943, 13.555647968746182),\n",
       " (nan, 88.08023208707685),\n",
       " (41.61352658204006, 7.479060413326054),\n",
       " (77.85809979731017, 10.046447003410274),\n",
       " (1.4166654665270453, 1.1253301145415253),\n",
       " (65.85501237162602, 20.52680364500851),\n",
       " (80.60935512468401, 10.07600030522132),\n",
       " (298.31092786185263, 8.000128218603038),\n",
       " (109.73018489420217, 10.509057833607951),\n",
       " (96.54148650849325, 11.70219261362294),\n",
       " (777.1097281461592, 13.915067538661356),\n",
       " (840.4830231445583, 7.995707736108045),\n",
       " (262.03943072413915, 13.932947295199337)]"
      ]
     },
     "execution_count": 42,
     "metadata": {},
     "output_type": "execute_result"
    }
   ],
   "source": [
    "results"
   ]
  },
  {
   "cell_type": "code",
   "execution_count": 43,
   "metadata": {},
   "outputs": [
    {
     "data": {
      "text/plain": [
       "25"
      ]
     },
     "execution_count": 43,
     "metadata": {},
     "output_type": "execute_result"
    }
   ],
   "source": [
    "len(results)"
   ]
  },
  {
   "cell_type": "code",
   "execution_count": 44,
   "metadata": {},
   "outputs": [],
   "source": [
    "ll = np.array(NLL)\n",
    "Rmse = np.array(RMSE)"
   ]
  },
  {
   "cell_type": "code",
   "execution_count": 45,
   "metadata": {},
   "outputs": [],
   "source": [
    "\n",
    "img_ll = ll.reshape(x, y)\n",
    "img_rmse = Rmse.reshape(x, y)"
   ]
  },
  {
   "cell_type": "code",
   "execution_count": 46,
   "metadata": {},
   "outputs": [],
   "source": [
    "methods = [None, 'none', 'nearest', 'bilinear', 'bicubic', 'spline16',\n",
    "           'spline36', 'hanning', 'hamming', 'hermite', 'kaiser', 'quadric',\n",
    "           'catrom', 'gaussian', 'bessel', 'mitchell', 'sinc', 'lanczos']"
   ]
  },
  {
   "cell_type": "code",
   "execution_count": 47,
   "metadata": {},
   "outputs": [
    {
     "data": {
      "text/plain": [
       "<matplotlib.colorbar.Colorbar at 0x1a1f835550>"
      ]
     },
     "execution_count": 47,
     "metadata": {},
     "output_type": "execute_result"
    },
    {
     "data": {
      "image/png": "[encoded data removed]",
      "text/plain": [
       "<matplotlib.figure.Figure at 0x114677c88>"
      ]
     },
     "metadata": {},
     "output_type": "display_data"
    }
   ],
   "source": [
    "plt.imshow(img_ll, interpolation=methods[0], extent=[0.1,1,0.1,1], cmap='viridis', clim=(-1, 100))\n",
    "ax = plt.gca()\n",
    "ax.set_xlabel('Power')\n",
    "ax.set_ylabel('Damping')\n",
    "ax.grid(False)\n",
    "plt.colorbar()"
   ]
  },
  {
   "cell_type": "code",
   "execution_count": 30,
   "metadata": {},
   "outputs": [
    {
     "data": {
      "text/plain": [
       "<matplotlib.colorbar.Colorbar at 0x1a1f500780>"
      ]
     },
     "execution_count": 30,
     "metadata": {},
     "output_type": "execute_result"
    },
    {
     "data": {
      "image/png": "[encoded data removed]",
      "text/plain": [
       "<matplotlib.figure.Figure at 0x1a1f541cf8>"
      ]
     },
     "metadata": {},
     "output_type": "display_data"
    }
   ],
   "source": [
    "plt.imshow(np.log(img_rmse), interpolation=methods[4], extent=[0.1,1,0.1,1], cmap='jet', vmax=20, vmin=0.1)\n",
    "ax = plt.gca()\n",
    "ax.set_xlabel('Power')\n",
    "ax.set_ylabel('Damping')\n",
    "ax.grid(False)\n",
    "plt.colorbar()"
   ]
  },
  {
   "cell_type": "code",
   "execution_count": 27,
   "metadata": {},
   "outputs": [
    {
     "data": {
      "text/plain": [
       "12.069904821262728"
      ]
     },
     "execution_count": 27,
     "metadata": {},
     "output_type": "execute_result"
    }
   ],
   "source": [
    "np.log(np.max(img_rmse))"
   ]
  },
  {
   "cell_type": "code",
   "execution_count": 17,
   "metadata": {},
   "outputs": [
    {
     "data": {
      "image/png": "[encoded data removed]",
      "text/plain": [
       "<matplotlib.figure.Figure at 0x115045908>"
      ]
     },
     "metadata": {},
     "output_type": "display_data"
    }
   ],
   "source": [
    "for i in range(len(power_range)):\n",
    "    plt.plot(power_range, img_ll[:, i])"
   ]
  },
  {
   "cell_type": "code",
   "execution_count": 28,
   "metadata": {},
   "outputs": [
    {
     "data": {
      "text/plain": [
       "array([1.0766e+03, 1.2310e+04, 5.5433e+02, 5.2717e+02, 3.5970e+02,\n",
       "       1.6553e+02, 1.7454e+05, 2.2510e+01, 1.5534e+02, 5.0394e+01,\n",
       "       4.2556e+01, 3.4087e+00, 2.8434e+00, 1.6574e+02, 1.9700e+00,\n",
       "       9.4423e+00, 8.2526e+00, 1.7383e+00, 1.0331e+01, 8.0622e+00,\n",
       "       7.1930e+00, 1.2635e+01, 1.3320e+01, 1.2973e+01, 1.2586e+01])"
      ]
     },
     "execution_count": 28,
     "metadata": {},
     "output_type": "execute_result"
    }
   ],
   "source": [
    "Rmse"
   ]
  },
  {
   "cell_type": "code",
   "execution_count": null,
   "metadata": {},
   "outputs": [],
   "source": []
  }
 ],
 "metadata": {
  "anaconda-cloud": {},
  "kernelspec": {
   "display_name": "Python [default]",
   "language": "python",
   "name": "python3"
  },
  "language_info": {
   "codemirror_mode": {
    "name": "ipython",
    "version": 3
   },
   "file_extension": ".py",
   "mimetype": "text/x-python",
   "name": "python",
   "nbconvert_exporter": "python",
   "pygments_lexer": "ipython3",
   "version": "3.6.4"
  }
 },
 "nbformat": 4,
 "nbformat_minor": 2
}
