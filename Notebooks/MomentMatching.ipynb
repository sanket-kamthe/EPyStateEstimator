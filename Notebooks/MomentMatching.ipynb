{
 "cells": [
  {
   "cell_type": "code",
   "execution_count": 1,
   "metadata": {
    "collapsed": true
   },
   "outputs": [],
   "source": [
    "import os, sys\n",
    "# import numpy as np\n",
    "from functools import partial\n",
    "import autograd.numpy as np\n",
    "from autograd import jacobian, grad, primitive\n",
    "from scipy.stats import multivariate_normal"
   ]
  },
  {
   "cell_type": "markdown",
   "metadata": {},
   "source": [
    "## <center>                                           Add module paths"
   ]
  },
  {
   "cell_type": "code",
   "execution_count": 2,
   "metadata": {},
   "outputs": [],
   "source": [
    "module_path = os.path.abspath(os.path.join('..'))\n",
    "if module_path not in sys.path:\n",
    "    sys.path.append(module_path)\n",
    "    \n",
    "from MomentMatching.StateModels import GaussianState\n",
    "from MomentMatching.baseMomentMatch import UnscentedTransform, TaylorTransform, MonteCarloTransform\n",
    "from MomentMatching.auto_grad import logpdf\n",
    "# from MomentMatching.KalmanFilter import KalmanFilterSmoother"
   ]
  },
  {
   "cell_type": "code",
   "execution_count": 3,
   "metadata": {
    "collapsed": true
   },
   "outputs": [],
   "source": [
    "x = np.array([2.0, 0.1])"
   ]
  },
  {
   "cell_type": "markdown",
   "metadata": {},
   "source": [
    "### <center> Define State Distribution"
   ]
  },
  {
   "cell_type": "code",
   "execution_count": 4,
   "metadata": {
    "collapsed": true
   },
   "outputs": [],
   "source": [
    "xx_mean = np.array([1.0, 0.0], dtype=float)\n",
    "xx_sigma = np.array([[1, 0], [0, 1]], dtype=float)\n",
    "state_distribution = GaussianState(xx_mean, xx_sigma)\n"
   ]
  },
  {
   "cell_type": "markdown",
   "metadata": {},
   "source": [
    "### <center>  Define a linear function "
   ]
  },
  {
   "cell_type": "code",
   "execution_count": 5,
   "metadata": {
    "collapsed": true
   },
   "outputs": [],
   "source": [
    "A = np.array([[1, 0],\n",
    "              [0, 0.1]], dtype=float)\n",
    "B = np.array([0.0, 0.0], dtype=float)\n",
    "Z = np.array([[2, 0],\n",
    "              [0, 0.3]], dtype=float)"
   ]
  },
  {
   "cell_type": "code",
   "execution_count": 6,
   "metadata": {
    "collapsed": true
   },
   "outputs": [],
   "source": [
    "def measurement_function(x, A=A, B=B):\n",
    "    return np.dot(A, x) + B#[:, np.newaxis]"
   ]
  },
  {
   "cell_type": "code",
   "execution_count": 7,
   "metadata": {
    "collapsed": true
   },
   "outputs": [],
   "source": [
    "def transition_function(x, A=Z, B=B):\n",
    "    return measurement_function(x, A=A, B=B)"
   ]
  },
  {
   "cell_type": "markdown",
   "metadata": {},
   "source": [
    "### <center> Define Taylor transform TT"
   ]
  },
  {
   "cell_type": "code",
   "execution_count": 8,
   "metadata": {
    "collapsed": true
   },
   "outputs": [],
   "source": [
    "TT = TaylorTransform(dimension_of_state=2)"
   ]
  },
  {
   "cell_type": "code",
   "execution_count": 9,
   "metadata": {},
   "outputs": [
    {
     "data": {
      "text/plain": [
       "array([[ 2. ,  0. ],\n",
       "       [ 0. ,  0.3]])"
      ]
     },
     "execution_count": 9,
     "metadata": {},
     "output_type": "execute_result"
    }
   ],
   "source": [
    "TT.numerical_jacobian(f=transition_function, x=xx_mean)"
   ]
  },
  {
   "cell_type": "markdown",
   "metadata": {},
   "source": [
    "### <center> "
   ]
  },
  {
   "cell_type": "markdown",
   "metadata": {},
   "source": [
    "``` python \n",
    "def measurement_update(self, node, measurement):\n",
    "\n",
    "    assert isinstance(node, TimeSeriesNodeForEP)\n",
    "\n",
    "    measurement_cavity_distribution = node.marginal / node.measurement_factor  # q(x_t) / q_up(x_t)\n",
    "\n",
    "    new_node = node\n",
    "\n",
    "    new_node.marginal = self.moment_matching(self.measurement, measurement_cavity_distribution, self.R, measurement)\n",
    "\n",
    "    new_node.measurement_factor = new_node.marginal / measurement_cavity_distribution\n",
    "\n",
    "    return new_node\n",
    "\n",
    "\n",
    "```"
   ]
  },
  {
   "cell_type": "code",
   "execution_count": 10,
   "metadata": {},
   "outputs": [
    {
     "data": {
      "text/plain": [
       "array([[ 2. ,  0. ],\n",
       "       [ 0. ,  0.3]])"
      ]
     },
     "execution_count": 10,
     "metadata": {},
     "output_type": "execute_result"
    }
   ],
   "source": [
    "meas_jac = jacobian(transition_function)\n",
    "meas_jac(xx_mean)"
   ]
  },
  {
   "cell_type": "code",
   "execution_count": 11,
   "metadata": {
    "collapsed": true
   },
   "outputs": [],
   "source": [
    "factor_mean = np.array([0.0, 0.0], dtype=float)\n",
    "factor_sigma = 99999 * np.array([[1, 0], [0, 1]], dtype=float)\n",
    "measurement_factor = GaussianState(factor_mean, factor_sigma)\n",
    "measurement = np.array([2.0, 0.0], dtype=float)"
   ]
  },
  {
   "cell_type": "code",
   "execution_count": 12,
   "metadata": {
    "collapsed": true
   },
   "outputs": [],
   "source": [
    "# logpdf = primitive(multivariate_normal.logpdf)"
   ]
  },
  {
   "cell_type": "code",
   "execution_count": null,
   "metadata": {
    "collapsed": true
   },
   "outputs": [],
   "source": []
  },
  {
   "cell_type": "code",
   "execution_count": 13,
   "metadata": {
    "collapsed": true
   },
   "outputs": [],
   "source": [
    "def data_likelihood(f, mean, cov, measurement ):\n",
    "    \n",
    "    meanz = f(mean)   # z = f(x)\n",
    "    linear_C = jacobian(f)(mean)  # linear factor A \n",
    "    covz = linear_C @ cov @ linear_C.T #  predictive covariance sz = var(f(x)) = A * Sigma * A^T\n",
    "    logZi = logpdf(measurement,meanz, covz)\n",
    "    return logZi"
   ]
  },
  {
   "cell_type": "code",
   "execution_count": 14,
   "metadata": {},
   "outputs": [],
   "source": [
    "def data_likelihood2(f, mean1, cov1, mean2, cov2):\n",
    "    \n",
    "    meanx = f(mean1)   # z = f(x)\n",
    "#     print(f'Mean is {meanx}')\n",
    "    linear_C = jacobian(f)(mean1)  # linear factor A \n",
    "#     print(f'The value of jacobian in datalikelihood2 is {linear_C}')\n",
    "    covx = linear_C @ cov1 @ linear_C.T #  predictive covariance sz = var(f(x)) = A * Sigma * A^T\n",
    "#     print(f'The value of predicted cov in datalikelihood2 is {covx}')\n",
    "    logZi = logpdf(mean2, meanx, covx + cov2)\n",
    "    return logZi"
   ]
  },
  {
   "cell_type": "code",
   "execution_count": 15,
   "metadata": {
    "collapsed": true
   },
   "outputs": [],
   "source": [
    "# logZi_func = logpdf\n",
    "# dlogZidMz_func = jacobian(logpdf, argnum=1)\n",
    "# dlogZidSz_func = jacobian(logpdf, argnum=2)\n",
    "\n",
    "# logZi = logZi_func(x=measurement, mean=mz, cov=sz)\n",
    "# dlogZidMz = dlogZidMz_func(measurement, mz, sz)\n",
    "# dlogZidSz = dlogZidSz_func(measurement, mz, sz) "
   ]
  },
  {
   "cell_type": "code",
   "execution_count": 16,
   "metadata": {
    "collapsed": true
   },
   "outputs": [],
   "source": [
    "def moment_matching_gaussian(mxni, Sxni, dlogZidMz, dlogZidSz):\n",
    "    mx = mxni + np.dot(Sxni, dlogZidMz.T)\n",
    "    return mx"
   ]
  },
  {
   "cell_type": "code",
   "execution_count": 17,
   "metadata": {
    "collapsed": true
   },
   "outputs": [],
   "source": [
    "def ep_measurement_update( measurement_function, state_distribution,  z_measurement):\n",
    "    measurement_cavity = state_distribution / measurement_factor\n",
    "    logZi = data_likelihood(measurement_function, measurement_cavity.mean, measurement_cavity.cov, measurement)\n",
    "    dlogZidMz = jacobian(data_likelihood, argnum=1)(measurement_function, measurement_cavity.mean, measurement_cavity.cov, z_measurement)\n",
    "    dlogZidSz = jacobian(data_likelihood, argnum=2)(measurement_function, measurement_cavity.mean, measurement_cavity.cov, z_measurement)\n",
    "    mx = measurement_cavity.mean + np.dot(measurement_cavity.cov, dlogZidMz.T)\n",
    "#     print(dlogZidMz)\n",
    "#     print(2 * dlogZidSz)\n",
    "#     vx = measurement_cavity.cov + measurement_cavity.cov @ (2*dlogZidSz - np.dot(dlogZidMz.T, dlogZidMz) ) @ measurement_cavity.cov\n",
    "    vx = measurement_cavity.cov - measurement_cavity.cov @  (  np.outer(dlogZidMz, dlogZidMz) - 2*dlogZidSz ) @ measurement_cavity.cov.T  \n",
    "    filtered_distribution = GaussianState(mx, vx)\n",
    "    return filtered_distribution\n",
    "    "
   ]
  },
  {
   "cell_type": "code",
   "execution_count": 18,
   "metadata": {},
   "outputs": [],
   "source": [
    "def ep_back_update( transition_function, state_distribution,  next_state_distribution, factor ):\n",
    "    back_cavity = state_distribution / factor\n",
    "    fwd_cavity = next_state_distribution / factor\n",
    "    arg_tuple = (transition_function, back_cavity.mean, back_cavity.cov, fwd_cavity.mean, fwd_cavity.cov)\n",
    "    logZi = data_likelihood2 (*arg_tuple)\n",
    "    dlogZidMz = jacobian(data_likelihood2, argnum=1)(*arg_tuple)\n",
    "    dlogZidSz = jacobian(data_likelihood2, argnum=2)(*arg_tuple)\n",
    "#     back_cavity = state_distribution\n",
    "    mx = back_cavity.mean + np.dot(back_cavity.cov, dlogZidMz.T)\n",
    "    print(dlogZidMz)\n",
    "    print(back_cavity.cov @ (-2 * dlogZidSz + np.outer(dlogZidMz, dlogZidMz))  @ back_cavity.cov )\n",
    "    print(back_cavity.cov)\n",
    "#     vx = measurement_cavity.cov + measurement_cavity.cov @ (2*dlogZidSz - np.dot(dlogZidMz.T, dlogZidMz) ) @ measurement_cavity.cov\n",
    "    vx = back_cavity.cov + back_cavity.cov @  ( - np.outer(dlogZidMz, dlogZidMz) + 2*dlogZidSz ) @ back_cavity.cov.T  \n",
    "    filtered_distribution = GaussianState(mx, vx)\n",
    "    return filtered_distribution"
   ]
  },
  {
   "cell_type": "code",
   "execution_count": 19,
   "metadata": {
    "collapsed": true
   },
   "outputs": [],
   "source": [
    "def measurement_update(self, measurement_function, state_distribution, z_measurement):\n",
    "\n",
    "    z_mean, z_cov, xz_cross_cov = self.predict(measurement_function, state_distribution)\n",
    "    # Add measurement Noise R_t\n",
    "    z_cov = z_cov #+ self.system_model.R.cov\n",
    "\n",
    "    K = np.matmul(xz_cross_cov, np.linalg.inv(z_cov))\n",
    "\n",
    "    corrected_mean = state_distribution.mean + np.dot(K, (z_measurement - z_mean))  # equation 15  in Marc's ACC paper\n",
    "    corrected_cov = state_distribution.cov - np.dot(K, np.transpose(xz_cross_cov))\n",
    "\n",
    "    filtered_distribution = GaussianState(corrected_mean, corrected_cov)\n",
    "    return filtered_distribution"
   ]
  },
  {
   "cell_type": "code",
   "execution_count": 20,
   "metadata": {},
   "outputs": [],
   "source": [
    "def _smoother(self, transition_function, x_distribution, x_next_distribution):\n",
    "    xx_mean, xx_cov, xx_cross_cov, = self.predict(transition_function, x_distribution)\n",
    "    # Add transition Noise Q_t\n",
    "#         xx_cov = xx_cov + self.system_model.Q.cov\n",
    "    print(f'The predictions are mean: {xx_mean}, cov:{xx_cov}, cross_cov ={xx_cross_cov} ')\n",
    "    # calculate smoother gain J_t\n",
    "    J = np.matmul(xx_cross_cov, np.linalg.inv(xx_cov))\n",
    "    print(f'The gain of smoother is {J}')\n",
    "    smoothed_mean = x_distribution.mean + np.dot(J, (x_next_distribution.mean - xx_mean))\n",
    "    smoothed_cov = x_distribution.cov + J @ (x_next_distribution.cov - xx_cov) @ J.T\n",
    "    smoothed_distribution = GaussianState(smoothed_mean, smoothed_cov)\n",
    "    return smoothed_distribution"
   ]
  },
  {
   "cell_type": "code",
   "execution_count": 21,
   "metadata": {},
   "outputs": [],
   "source": [
    "corrected_ans = measurement_update(TT, measurement_function, state_distribution, measurement)"
   ]
  },
  {
   "cell_type": "code",
   "execution_count": 22,
   "metadata": {},
   "outputs": [],
   "source": [
    "EP_ans = ep_measurement_update(measurement_function, state_distribution, measurement)"
   ]
  },
  {
   "cell_type": "code",
   "execution_count": 23,
   "metadata": {},
   "outputs": [
    {
     "data": {
      "text/plain": [
       "True"
      ]
     },
     "execution_count": 23,
     "metadata": {},
     "output_type": "execute_result"
    }
   ],
   "source": [
    "EP_ans == corrected_ans"
   ]
  },
  {
   "cell_type": "code",
   "execution_count": 24,
   "metadata": {},
   "outputs": [
    {
     "name": "stdout",
     "output_type": "stream",
     "text": [
      "[-0.4  0. ]\n",
      "[[ 0.800008    0.        ]\n",
      " [ 0.          0.08256963]]\n",
      "[[ 1.00001  0.     ]\n",
      " [ 0.       1.00001]]\n"
     ]
    }
   ],
   "source": [
    "EP_back = ep_back_update(transition_function, state_distribution, state_distribution, measurement_factor)"
   ]
  },
  {
   "cell_type": "code",
   "execution_count": 33,
   "metadata": {},
   "outputs": [
    {
     "data": {
      "text/plain": [
       "array([ 0.600006,  0.      ])"
      ]
     },
     "execution_count": 33,
     "metadata": {},
     "output_type": "execute_result"
    }
   ],
   "source": [
    "EP_back.mean"
   ]
  },
  {
   "cell_type": "code",
   "execution_count": 26,
   "metadata": {},
   "outputs": [
    {
     "name": "stdout",
     "output_type": "stream",
     "text": [
      "The predictions are mean: [ 2.  0.], cov:[[ 4.    0.  ]\n",
      " [ 0.    0.09]], cross_cov =[[ 2.   0. ]\n",
      " [ 0.   0.3]] \n",
      "The gain of smoother is [[ 0.5         0.        ]\n",
      " [ 0.          3.33333333]]\n"
     ]
    }
   ],
   "source": [
    "smoother_ans = _smoother(TT, transition_function, state_distribution, state_distribution)"
   ]
  },
  {
   "cell_type": "code",
   "execution_count": 27,
   "metadata": {},
   "outputs": [
    {
     "data": {
      "text/plain": [
       "array([[  0.25      ,   0.        ],\n",
       "       [  0.        ,  11.11111111]])"
      ]
     },
     "execution_count": 27,
     "metadata": {},
     "output_type": "execute_result"
    }
   ],
   "source": [
    "smoother_ans.cov"
   ]
  },
  {
   "cell_type": "code",
   "execution_count": 28,
   "metadata": {},
   "outputs": [
    {
     "data": {
      "text/plain": [
       "array([ 0.5,  0. ])"
      ]
     },
     "execution_count": 28,
     "metadata": {},
     "output_type": "execute_result"
    }
   ],
   "source": [
    "smoother_ans.mean"
   ]
  },
  {
   "cell_type": "code",
   "execution_count": 29,
   "metadata": {},
   "outputs": [],
   "source": [
    "x_cov = np.array([[ 0.0144,  0.0    ], \n",
    "                  [ 0.0,     0.09  ]])"
   ]
  },
  {
   "cell_type": "code",
   "execution_count": 30,
   "metadata": {},
   "outputs": [
    {
     "data": {
      "text/plain": [
       "array([[ 0.9856,  0.    ],\n",
       "       [ 0.    ,  0.91  ]])"
      ]
     },
     "execution_count": 30,
     "metadata": {},
     "output_type": "execute_result"
    }
   ],
   "source": [
    "J = state_distribution.cov @ Z @ np.linalg.pinv(x_cov)\n",
    "(state_distribution.cov - x_cov) \n",
    "# state_distribution.mean + np.dot(J, (state_distribution.mean - xx_mean))"
   ]
  },
  {
   "cell_type": "code",
   "execution_count": 31,
   "metadata": {},
   "outputs": [
    {
     "data": {
      "text/plain": [
       "array([ 1.,  0.])"
      ]
     },
     "execution_count": 31,
     "metadata": {},
     "output_type": "execute_result"
    }
   ],
   "source": [
    "xx_mean"
   ]
  },
  {
   "cell_type": "code",
   "execution_count": 32,
   "metadata": {},
   "outputs": [
    {
     "ename": "NameError",
     "evalue": "name 'xz_cross_cov' is not defined",
     "output_type": "error",
     "traceback": [
      "\u001b[0;31m---------------------------------------------------------------------------\u001b[0m",
      "\u001b[0;31mNameError\u001b[0m                                 Traceback (most recent call last)",
      "\u001b[0;32m<ipython-input-32-cb496d638de8>\u001b[0m in \u001b[0;36m<module>\u001b[0;34m()\u001b[0m\n\u001b[0;32m----> 1\u001b[0;31m \u001b[0mxz_cross_cov\u001b[0m \u001b[0;34m@\u001b[0m \u001b[0mnp\u001b[0m\u001b[0;34m.\u001b[0m\u001b[0mlinalg\u001b[0m\u001b[0;34m.\u001b[0m\u001b[0mpinv\u001b[0m\u001b[0;34m(\u001b[0m\u001b[0mz_cov\u001b[0m\u001b[0;34m)\u001b[0m \u001b[0;34m@\u001b[0m \u001b[0mxz_cross_cov\u001b[0m\u001b[0;34m.\u001b[0m\u001b[0mT\u001b[0m\u001b[0;34m\u001b[0m\u001b[0m\n\u001b[0m",
      "\u001b[0;31mNameError\u001b[0m: name 'xz_cross_cov' is not defined"
     ]
    }
   ],
   "source": [
    "xz_cross_cov @ np.linalg.pinv(z_cov) @ xz_cross_cov.T"
   ]
  },
  {
   "cell_type": "code",
   "execution_count": null,
   "metadata": {},
   "outputs": [],
   "source": [
    "TT.numerical_jacobian(dummy, sz)"
   ]
  },
  {
   "cell_type": "code",
   "execution_count": null,
   "metadata": {
    "collapsed": true
   },
   "outputs": [],
   "source": [
    "jac = jacobian(dummy)"
   ]
  },
  {
   "cell_type": "code",
   "execution_count": null,
   "metadata": {
    "collapsed": true
   },
   "outputs": [],
   "source": [
    "jac(sz)"
   ]
  }
 ],
 "metadata": {
  "kernelspec": {
   "display_name": "Python 3",
   "language": "python",
   "name": "python3"
  },
  "language_info": {
   "codemirror_mode": {
    "name": "ipython",
    "version": 3
   },
   "file_extension": ".py",
   "mimetype": "text/x-python",
   "name": "python",
   "nbconvert_exporter": "python",
   "pygments_lexer": "ipython3",
   "version": "3.6.1"
  }
 },
 "nbformat": 4,
 "nbformat_minor": 2
}
