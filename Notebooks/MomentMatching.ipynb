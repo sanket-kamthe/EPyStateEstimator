{
 "cells": [
  {
   "cell_type": "code",
   "execution_count": null,
   "metadata": {},
   "outputs": [],
   "source": []
  },
  {
   "cell_type": "code",
   "execution_count": 1,
   "metadata": {},
   "outputs": [],
   "source": [
    "import os, sys\n",
    "# import numpy as np\n",
    "from functools import partial\n",
    "import autograd.numpy as np\n",
    "from autograd import jacobian, grad, primitive\n",
    "from scipy.stats import multivariate_normal"
   ]
  },
  {
   "cell_type": "markdown",
   "metadata": {},
   "source": [
    "## <center>                                           Add module paths"
   ]
  },
  {
   "cell_type": "code",
   "execution_count": 2,
   "metadata": {
    "collapsed": true
   },
   "outputs": [],
   "source": [
    "module_path = os.path.abspath(os.path.join('..'))\n",
    "if module_path not in sys.path:\n",
    "    sys.path.append(module_path)\n",
    "    \n",
    "from MomentMatching.StateModels import GaussianState\n",
    "from MomentMatching.baseMomentMatch import UnscentedTransform, TaylorTransform, MonteCarloTransform\n",
    "from MomentMatching.auto_grad import logpdf\n",
    "# from MomentMatching.KalmanFilter import KalmanFilterSmoother"
   ]
  },
  {
   "cell_type": "code",
   "execution_count": 3,
   "metadata": {
    "collapsed": true
   },
   "outputs": [],
   "source": [
    "x = np.array([2.0, 0.1])"
   ]
  },
  {
   "cell_type": "markdown",
   "metadata": {},
   "source": [
    "### <center> Define State Distribution"
   ]
  },
  {
   "cell_type": "code",
   "execution_count": 4,
   "metadata": {
    "collapsed": true
   },
   "outputs": [],
   "source": [
    "# xx_mean = np.array([1.0, 0.0], dtype=float)\n",
    "# xx_sigma = np.array([[1, 0], [0, 1]], dtype=float)\n",
    "xx_mean = 1e-5 * np.array([-0.7398, -0.6866], dtype=float)\n",
    "xx_sigma = np.array([[0.0757,    0.0095],\n",
    "                     [0.0095,    0.0701]], dtype=float)\n",
    "state_distribution = GaussianState(xx_mean, xx_sigma)\n",
    "\n",
    "xx_2_mean = 1e-5 *np.array([-0.3344, 0.1109], dtype=float)\n",
    "xx_2_sigma =  np.array([[0.0757,    0.0095],\n",
    "                        [0.0095,    0.0701]], dtype=float)\n",
    "next_state_distribution = GaussianState(xx_2_mean, xx_2_sigma)"
   ]
  },
  {
   "cell_type": "markdown",
   "metadata": {},
   "source": [
    "### <center>  Define a linear function "
   ]
  },
  {
   "cell_type": "code",
   "execution_count": 5,
   "metadata": {},
   "outputs": [],
   "source": [
    "A = np.array([[0.2, 0.8],\n",
    "              [-0.8, 0.4]], dtype=float)\n",
    "\n",
    "Q = 0.1 * np.eye(2)\n",
    "R = Q\n",
    "B = np.array([0.0, 0.0], dtype=float)\n",
    "Z = A"
   ]
  },
  {
   "cell_type": "markdown",
   "metadata": {
    "collapsed": true
   },
   "source": [
    "A = np.array([[1, 0],\n",
    "              [0, 0.1]], dtype=float)\n",
    "B = np.array([0.0, 0.0], dtype=float)\n",
    "Z = np.array([[2, 0],\n",
    "              [0, 0.3]], dtype=float)"
   ]
  },
  {
   "cell_type": "code",
   "execution_count": 6,
   "metadata": {
    "collapsed": true
   },
   "outputs": [],
   "source": [
    "def measurement_function(x, A=A, B=B):\n",
    "    return A @ x + B#[:, np.newaxis]"
   ]
  },
  {
   "cell_type": "code",
   "execution_count": 7,
   "metadata": {
    "collapsed": true
   },
   "outputs": [],
   "source": [
    "def transition_function(x, A=A, B=B):\n",
    "    return measurement_function(x, A=A, B=B)\n",
    "def identity_function(x, A=np.eye(2)):\n",
    "    return A @ x"
   ]
  },
  {
   "cell_type": "markdown",
   "metadata": {},
   "source": [
    "### <center> Define Taylor transform TT"
   ]
  },
  {
   "cell_type": "code",
   "execution_count": 8,
   "metadata": {
    "collapsed": true
   },
   "outputs": [],
   "source": [
    "TT = TaylorTransform(dimension_of_state=2)"
   ]
  },
  {
   "cell_type": "code",
   "execution_count": 9,
   "metadata": {},
   "outputs": [
    {
     "data": {
      "text/plain": [
       "array([[ 0.2,  0.8],\n",
       "       [-0.8,  0.4]])"
      ]
     },
     "execution_count": 9,
     "metadata": {},
     "output_type": "execute_result"
    }
   ],
   "source": [
    "TT.numerical_jacobian(f=measurement_function, x=xx_mean)"
   ]
  },
  {
   "cell_type": "markdown",
   "metadata": {},
   "source": [
    "### <center> "
   ]
  },
  {
   "cell_type": "markdown",
   "metadata": {},
   "source": [
    "``` python \n",
    "def measurement_update(self, node, measurement):\n",
    "\n",
    "    assert isinstance(node, TimeSeriesNodeForEP)\n",
    "\n",
    "    measurement_cavity_distribution = node.marginal / node.measurement_factor  # q(x_t) / q_up(x_t)\n",
    "\n",
    "    new_node = node\n",
    "\n",
    "    new_node.marginal = self.moment_matching(self.measurement, measurement_cavity_distribution, self.R, measurement)\n",
    "\n",
    "    new_node.measurement_factor = new_node.marginal / measurement_cavity_distribution\n",
    "\n",
    "    return new_node\n",
    "\n",
    "\n",
    "```"
   ]
  },
  {
   "cell_type": "code",
   "execution_count": 10,
   "metadata": {},
   "outputs": [
    {
     "data": {
      "text/plain": [
       "array([[ 0.2,  0.8],\n",
       "       [-0.8,  0.4]])"
      ]
     },
     "execution_count": 10,
     "metadata": {},
     "output_type": "execute_result"
    }
   ],
   "source": [
    "meas_jac = jacobian(transition_function)\n",
    "meas_jac(xx_mean)"
   ]
  },
  {
   "cell_type": "code",
   "execution_count": 11,
   "metadata": {
    "collapsed": true
   },
   "outputs": [],
   "source": [
    "factor_mean = np.array([0.0, 0.0], dtype=float)\n",
    "factor_sigma = 99999 * np.array([[1, 0], [0, 1]], dtype=float)\n",
    "measurement_factor = GaussianState(factor_mean, factor_sigma)\n",
    "measurement = np.array([2.0, 0.0], dtype=float)"
   ]
  },
  {
   "cell_type": "code",
   "execution_count": 12,
   "metadata": {
    "collapsed": true
   },
   "outputs": [],
   "source": [
    "fwd_factor_mean = 1.0e-05 * np.array([-0.6972, 0.3172], dtype=float)\n",
    "fwd_factor_sigma = np.array([[0.1509,   0.0050],\n",
    "                             [0.0050,   0.1536]], dtype=float)\n",
    "fwd_factor = GaussianState(fwd_factor_mean, fwd_factor_sigma)"
   ]
  },
  {
   "cell_type": "code",
   "execution_count": 13,
   "metadata": {
    "collapsed": true
   },
   "outputs": [],
   "source": [
    "# logpdf = primitive(multivariate_normal.logpdf)"
   ]
  },
  {
   "cell_type": "code",
   "execution_count": 14,
   "metadata": {},
   "outputs": [
    {
     "data": {
      "text/plain": [
       "array([[ 0.1,  0. ],\n",
       "       [ 0. ,  0.1]])"
      ]
     },
     "execution_count": 14,
     "metadata": {},
     "output_type": "execute_result"
    }
   ],
   "source": [
    "Q"
   ]
  },
  {
   "cell_type": "code",
   "execution_count": 15,
   "metadata": {
    "collapsed": true
   },
   "outputs": [],
   "source": [
    "def data_likelihood(f, mean, cov, measurement ):\n",
    "    \n",
    "    meanz = f(mean)   # z = f(x)\n",
    "    linear_C = jacobian(f)(mean)  # linear factor A \n",
    "    covz = linear_C @ cov @ linear_C.T #  predictive covariance sz = var(f(x)) = A * Sigma * A^T\n",
    "    logZi = logpdf(measurement, meanz, covz)\n",
    "    return logZi"
   ]
  },
  {
   "cell_type": "code",
   "execution_count": 16,
   "metadata": {
    "collapsed": true
   },
   "outputs": [],
   "source": [
    "def data_likelihood3(f, mean1, cov1, mean2, cov2, Q= Q):\n",
    "    \n",
    "    meanx = f(mean1)   # z = f(x)\n",
    "#     print(f'Mean is {meanx}')\n",
    "    linear_C = jacobian(f)(mean1)  # linear factor A \n",
    "#     print(f'The value of jacobian in datalikelihood2 is {linear_C}')\n",
    "    covx = linear_C @ cov1 @ linear_C.T + Q #  predictive covariance sz = var(f(x)) = A * Sigma * A^T\n",
    "    print(f'The value of predicted cov in datalikelihood2 is {covx + cov2}')\n",
    "    dlogZidSz = jacobian(logpdf, argnum=2)(mean2, meanx, covx + cov2)\n",
    "    return logZi, dlogZidSz"
   ]
  },
  {
   "cell_type": "code",
   "execution_count": 17,
   "metadata": {
    "collapsed": true
   },
   "outputs": [],
   "source": [
    "def data_likelihood2(f, mean1, cov1, mean2, cov2, Q= Q):\n",
    "    \n",
    "    meanx = f(mean1)   # z = f(x)\n",
    "#     print(f'Mean is {meanx}')\n",
    "    linear_C = jacobian(f)(mean1)  # linear factor A \n",
    "#     print(f'The value of jacobian in datalikelihood2 is {linear_C}')\n",
    "    covx = linear_C @ cov1 @ linear_C.T + Q #  predictive covariance sz = var(f(x)) = A * Sigma * A^T\n",
    "#     print(f'The value of predicted cov in datalikelihood2 is {covx + cov2}')\n",
    "    logZi = logpdf(mean2, meanx, covx + cov2)\n",
    "    return logZi"
   ]
  },
  {
   "cell_type": "code",
   "execution_count": 18,
   "metadata": {
    "collapsed": true
   },
   "outputs": [],
   "source": [
    "# logZi_func = logpdf\n",
    "# dlogZidMz_func = jacobian(logpdf, argnum=1)\n",
    "# dlogZidSz_func = jacobian(logpdf, argnum=2)\n",
    "\n",
    "# logZi = logZi_func(x=measurement, mean=mz, cov=sz)\n",
    "# dlogZidMz = dlogZidMz_func(measurement, mz, sz)\n",
    "# dlogZidSz = dlogZidSz_func(measurement, mz, sz) "
   ]
  },
  {
   "cell_type": "code",
   "execution_count": 19,
   "metadata": {
    "collapsed": true
   },
   "outputs": [],
   "source": [
    "def moment_matching_gaussian(mxni, Sxni, dlogZidMz, dlogZidSz):\n",
    "    mx = mxni + np.dot(Sxni, dlogZidMz.T)\n",
    "    return mx"
   ]
  },
  {
   "cell_type": "code",
   "execution_count": 20,
   "metadata": {
    "collapsed": true
   },
   "outputs": [],
   "source": [
    "def ep_measurement_update( measurement_function, state_distribution,  z_measurement):\n",
    "    measurement_cavity = state_distribution / measurement_factor\n",
    "    logZi = data_likelihood(measurement_function, measurement_cavity.mean, measurement_cavity.cov, measurement)\n",
    "    dlogZidMz = jacobian(data_likelihood, argnum=1)(measurement_function, measurement_cavity.mean, measurement_cavity.cov, z_measurement)\n",
    "    dlogZidSz = jacobian(data_likelihood, argnum=2)(measurement_function, measurement_cavity.mean, measurement_cavity.cov, z_measurement)\n",
    "    mx = measurement_cavity.mean + np.dot(measurement_cavity.cov, dlogZidMz.T)\n",
    "#     print(dlogZidMz)\n",
    "#     print(2 * dlogZidSz)\n",
    "#     vx = measurement_cavity.cov + measurement_cavity.cov @ (2*dlogZidSz - np.dot(dlogZidMz.T, dlogZidMz) ) @ measurement_cavity.cov\n",
    "    vx = measurement_cavity.cov - measurement_cavity.cov @  (  np.outer(dlogZidMz, dlogZidMz) - 2*dlogZidSz ) @ measurement_cavity.cov.T  \n",
    "    filtered_distribution = GaussianState(mx, vx)\n",
    "    return filtered_distribution\n",
    "    "
   ]
  },
  {
   "cell_type": "code",
   "execution_count": 21,
   "metadata": {},
   "outputs": [],
   "source": [
    "back_factor = measurement_factor\n",
    "back_cavity = state_distribution / back_factor\n",
    "fwd_cavity = next_state_distribution / fwd_factor\n",
    "arg_tuple = (transition_function, back_cavity.mean, back_cavity.cov, fwd_cavity.mean, fwd_cavity.cov)\n",
    "logZi = data_likelihood2 (*arg_tuple)  #okay\n",
    "dlogZidMz = jacobian(data_likelihood2, argnum=1)(*arg_tuple)  # okay\n",
    "dlogZidSz = jacobian(data_likelihood2, argnum=2)(*arg_tuple)\n",
    "mx = back_cavity.mean + np.dot(back_cavity.cov, dlogZidMz.T)\n",
    "vx = back_cavity.cov + back_cavity.cov @  ( - np.outer(dlogZidMz, dlogZidMz) + 2*dlogZidSz ) @ back_cavity.cov.T  \n",
    "EP_smoother = GaussianState(mx, vx)"
   ]
  },
  {
   "cell_type": "code",
   "execution_count": 22,
   "metadata": {},
   "outputs": [
    {
     "name": "stdout",
     "output_type": "stream",
     "text": [
      "The value of predicted cov in datalikelihood2 is [[ 0.30520034  0.03597551]\n",
      " [ 0.03597551  0.28488647]]\n"
     ]
    },
    {
     "data": {
      "text/plain": [
       "(-0.60915277930685685, array([[-1.66302273,  0.21000679],\n",
       "        [ 0.21000679, -1.78160479]]))"
      ]
     },
     "execution_count": 22,
     "metadata": {},
     "output_type": "execute_result"
    }
   ],
   "source": [
    "data_likelihood3 (*arg_tuple)"
   ]
  },
  {
   "cell_type": "code",
   "execution_count": 23,
   "metadata": {},
   "outputs": [
    {
     "data": {
      "text/plain": [
       "array([[ 0.06141629,  0.00806166],\n",
       "       [ 0.00806166,  0.05842577]])"
      ]
     },
     "execution_count": 23,
     "metadata": {},
     "output_type": "execute_result"
    }
   ],
   "source": [
    "vx"
   ]
  },
  {
   "cell_type": "code",
   "execution_count": 24,
   "metadata": {},
   "outputs": [
    {
     "data": {
      "text/plain": [
       "array([[-1.27395015,  0.1864261 ],\n",
       "       [ 0.1864261 , -1.21498697]])"
      ]
     },
     "execution_count": 24,
     "metadata": {},
     "output_type": "execute_result"
    }
   ],
   "source": [
    "dlogZidSz"
   ]
  },
  {
   "cell_type": "code",
   "execution_count": 25,
   "metadata": {},
   "outputs": [
    {
     "data": {
      "text/plain": [
       "array([[  2.65241775e-10,   2.26677197e-10],\n",
       "       [  2.26677197e-10,   1.93719680e-10]])"
      ]
     },
     "execution_count": 25,
     "metadata": {},
     "output_type": "execute_result"
    }
   ],
   "source": [
    "np.outer(dlogZidMz,dlogZidMz)"
   ]
  },
  {
   "cell_type": "code",
   "execution_count": 26,
   "metadata": {
    "collapsed": true
   },
   "outputs": [],
   "source": [
    "def ep_back_update( transition_function, state_distribution,  next_state_distribution, factor ):\n",
    "    back_cavity = state_distribution / factor\n",
    "    fwd_cavity = next_state_distribution / factor\n",
    "    arg_tuple = (transition_function, back_cavity.mean, back_cavity.cov, fwd_cavity.mean, fwd_cavity.cov)\n",
    "    logZi = data_likelihood2 (*arg_tuple)\n",
    "    dlogZidMz = jacobian(data_likelihood2, argnum=1)(*arg_tuple)\n",
    "    dlogZidSz = jacobian(data_likelihood2, argnum=2)(*arg_tuple)\n",
    "#     back_cavity = state_distribution\n",
    "    mx = back_cavity.mean + np.dot(back_cavity.cov, dlogZidMz.T)\n",
    "    print(dlogZidMz)\n",
    "    print(back_cavity.cov @ (-2 * dlogZidSz + np.outer(dlogZidMz, dlogZidMz))  @ back_cavity.cov )\n",
    "    print(back_cavity.cov)\n",
    "#     vx = measurement_cavity.cov + measurement_cavity.cov @ (2*dlogZidSz - np.dot(dlogZidMz.T, dlogZidMz) ) @ measurement_cavity.cov\n",
    "    vx = back_cavity.cov + back_cavity.cov @  ( - np.outer(dlogZidMz, dlogZidMz) + 2*dlogZidSz ) @ back_cavity.cov.T  \n",
    "    filtered_distribution = GaussianState(mx, vx)\n",
    "    return filtered_distribution"
   ]
  },
  {
   "cell_type": "code",
   "execution_count": 27,
   "metadata": {
    "collapsed": true
   },
   "outputs": [],
   "source": [
    "def measurement_update(self, measurement_function, state_distribution, z_measurement):\n",
    "\n",
    "    z_mean, z_cov, xz_cross_cov = self.predict(measurement_function, state_distribution)\n",
    "    # Add measurement Noise R_t\n",
    "    z_cov = z_cov #+ self.system_model.R.cov\n",
    "\n",
    "    K = np.matmul(xz_cross_cov, np.linalg.inv(z_cov))\n",
    "\n",
    "    corrected_mean = state_distribution.mean + np.dot(K, (z_measurement - z_mean))  # equation 15  in Marc's ACC paper\n",
    "    corrected_cov = state_distribution.cov - np.dot(K, np.transpose(xz_cross_cov))\n",
    "\n",
    "    filtered_distribution = GaussianState(corrected_mean, corrected_cov)\n",
    "    return filtered_distribution"
   ]
  },
  {
   "cell_type": "code",
   "execution_count": 28,
   "metadata": {},
   "outputs": [],
   "source": [
    "def _smoother(self, transition_function, x_distribution, x_next_distribution, Q=Q):\n",
    "    xx_mean, xx_cov, xx_cross_cov, = self.predict(transition_function, x_distribution)\n",
    "    # Add transition Noise Q_t\n",
    "    xx_cov = xx_cov + Q\n",
    "    print(f'The predictions are mean: {xx_mean}, cov:{xx_cov}, cross_cov ={xx_cross_cov} ')\n",
    "    # calculate smoother gain J_t\n",
    "    J = np.matmul(xx_cross_cov, np.linalg.inv(xx_cov))\n",
    "    print(f'The gain of smoother is {J}')\n",
    "    smoothed_mean = x_distribution.mean + np.dot(J, (x_next_distribution.mean - xx_mean))\n",
    "    smoothed_cov = x_distribution.cov + J @ (x_next_distribution.cov - xx_cov) @ J.T\n",
    "    smoothed_distribution = GaussianState(smoothed_mean, smoothed_cov)\n",
    "    return smoothed_distribution"
   ]
  },
  {
   "cell_type": "code",
   "execution_count": 29,
   "metadata": {
    "collapsed": true
   },
   "outputs": [],
   "source": [
    "corrected_ans = measurement_update(TT, measurement_function, state_distribution, measurement)"
   ]
  },
  {
   "cell_type": "code",
   "execution_count": 30,
   "metadata": {
    "collapsed": true
   },
   "outputs": [],
   "source": [
    "EP_ans = ep_measurement_update(measurement_function, state_distribution, measurement)"
   ]
  },
  {
   "cell_type": "code",
   "execution_count": 31,
   "metadata": {},
   "outputs": [
    {
     "data": {
      "text/plain": [
       "True"
      ]
     },
     "execution_count": 31,
     "metadata": {},
     "output_type": "execute_result"
    }
   ],
   "source": [
    "EP_ans == corrected_ans"
   ]
  },
  {
   "cell_type": "code",
   "execution_count": 32,
   "metadata": {},
   "outputs": [
    {
     "name": "stdout",
     "output_type": "stream",
     "text": [
      "[  3.61518589e-05  -1.71782929e-05]\n",
      "[[ 0.01749556  0.00144534]\n",
      " [ 0.00144534  0.01608979]]\n",
      "[[ 0.07570006  0.00950001]\n",
      " [ 0.00950001  0.07010005]]\n"
     ]
    }
   ],
   "source": [
    "EP_back = ep_back_update(transition_function, state_distribution, state_distribution, measurement_factor)"
   ]
  },
  {
   "cell_type": "code",
   "execution_count": 33,
   "metadata": {},
   "outputs": [
    {
     "data": {
      "text/plain": [
       "array([ -4.82450245e-06,  -7.72676155e-06])"
      ]
     },
     "execution_count": 33,
     "metadata": {},
     "output_type": "execute_result"
    }
   ],
   "source": [
    "EP_back.mean"
   ]
  },
  {
   "cell_type": "code",
   "execution_count": 34,
   "metadata": {},
   "outputs": [
    {
     "name": "stdout",
     "output_type": "stream",
     "text": [
      "The predictions are mean: [ -6.97240000e-06   3.17200000e-06], cov:[[ 0.150932  0.005   ]\n",
      " [ 0.005     0.153584]], cross_cov =[[ 0.02274 -0.05676]\n",
      " [ 0.05798  0.02044]] \n",
      "The gain of smoother is [[ 0.16308268 -0.37487898]\n",
      " [ 0.38014765  0.12071089]]\n"
     ]
    }
   ],
   "source": [
    "smoother_ans = _smoother(TT, transition_function, state_distribution, next_state_distribution)"
   ]
  },
  {
   "cell_type": "code",
   "execution_count": 35,
   "metadata": {},
   "outputs": [
    {
     "data": {
      "text/plain": [
       "array([ -6.03289547e-06,  -5.73569883e-06])"
      ]
     },
     "execution_count": 35,
     "metadata": {},
     "output_type": "execute_result"
    }
   ],
   "source": [
    "smoother_ans.mean"
   ]
  },
  {
   "cell_type": "code",
   "execution_count": 36,
   "metadata": {},
   "outputs": [
    {
     "data": {
      "text/plain": [
       "array([ -6.03289547e-06,  -5.73569883e-06])"
      ]
     },
     "execution_count": 36,
     "metadata": {},
     "output_type": "execute_result"
    }
   ],
   "source": [
    "smoother_ans.mean"
   ]
  },
  {
   "cell_type": "code",
   "execution_count": 37,
   "metadata": {},
   "outputs": [],
   "source": [
    "xx_mean, xx_cov, xx_cross_cov, = TT.predict(transition_function, state_distribution)"
   ]
  },
  {
   "cell_type": "code",
   "execution_count": 38,
   "metadata": {},
   "outputs": [
    {
     "data": {
      "text/plain": [
       "array([[ 0.150932,  0.005   ],\n",
       "       [ 0.005   ,  0.153584]])"
      ]
     },
     "execution_count": 38,
     "metadata": {},
     "output_type": "execute_result"
    }
   ],
   "source": [
    "xx_cov + Q"
   ]
  },
  {
   "cell_type": "code",
   "execution_count": 39,
   "metadata": {},
   "outputs": [
    {
     "ename": "NameError",
     "evalue": "name 'x_cov' is not defined",
     "output_type": "error",
     "traceback": [
      "\u001b[0;31m---------------------------------------------------------------------------\u001b[0m",
      "\u001b[0;31mNameError\u001b[0m                                 Traceback (most recent call last)",
      "\u001b[0;32m<ipython-input-39-d274df7f6520>\u001b[0m in \u001b[0;36m<module>\u001b[0;34m()\u001b[0m\n\u001b[0;32m----> 1\u001b[0;31m \u001b[0mJ\u001b[0m \u001b[0;34m=\u001b[0m \u001b[0mstate_distribution\u001b[0m\u001b[0;34m.\u001b[0m\u001b[0mcov\u001b[0m \u001b[0;34m@\u001b[0m \u001b[0mZ\u001b[0m \u001b[0;34m@\u001b[0m \u001b[0mnp\u001b[0m\u001b[0;34m.\u001b[0m\u001b[0mlinalg\u001b[0m\u001b[0;34m.\u001b[0m\u001b[0mpinv\u001b[0m\u001b[0;34m(\u001b[0m\u001b[0mx_cov\u001b[0m\u001b[0;34m)\u001b[0m\u001b[0;34m\u001b[0m\u001b[0m\n\u001b[0m\u001b[1;32m      2\u001b[0m \u001b[0mJ\u001b[0m \u001b[0;34m@\u001b[0m \u001b[0;34m(\u001b[0m\u001b[0mstate_distribution\u001b[0m\u001b[0;34m.\u001b[0m\u001b[0mcov\u001b[0m \u001b[0;34m-\u001b[0m \u001b[0mx_cov\u001b[0m\u001b[0;34m)\u001b[0m \u001b[0;34m@\u001b[0m \u001b[0mJ\u001b[0m\u001b[0;34m.\u001b[0m\u001b[0mT\u001b[0m\u001b[0;34m\u001b[0m\u001b[0m\n\u001b[1;32m      3\u001b[0m \u001b[0;31m# state_distribution.mean + np.dot(J, (state_distribution.mean - xx_mean))\u001b[0m\u001b[0;34m\u001b[0m\u001b[0;34m\u001b[0m\u001b[0m\n",
      "\u001b[0;31mNameError\u001b[0m: name 'x_cov' is not defined"
     ]
    }
   ],
   "source": [
    "# J = state_distribution.cov @ Z @ np.linalg.pinv(x_cov)\n",
    "# J @ (state_distribution.cov - x_cov) @ J.T\n",
    "# state_distribution.mean + np.dot(J, (state_distribution.mean - xx_mean))"
   ]
  },
  {
   "cell_type": "code",
   "execution_count": null,
   "metadata": {},
   "outputs": [],
   "source": [
    "xx_mean"
   ]
  },
  {
   "cell_type": "code",
   "execution_count": null,
   "metadata": {
    "collapsed": true
   },
   "outputs": [],
   "source": [
    "jac(sz)"
   ]
  },
  {
   "cell_type": "code",
   "execution_count": null,
   "metadata": {
    "collapsed": true
   },
   "outputs": [],
   "source": [
    "test_cov = np.array(([[1.0, 0.5 ], [0.5, 1.0 ]]), dtype=float)\n",
    "test_mean = np.array([0.0, 0.0], dtype=float)\n",
    "data = test_mean + 0.1\n",
    "A = np.random.randn(2,2)\n",
    "A = A @ A.T"
   ]
  },
  {
   "cell_type": "code",
   "execution_count": null,
   "metadata": {},
   "outputs": [],
   "source": [
    "def dummy_test(test_cov, A=A):    \n",
    "    scaled_test_cov = A @ test_cov @ A.T\n",
    "    return logpdf(data, test_mean, scaled_test_cov)"
   ]
  },
  {
   "cell_type": "code",
   "execution_count": null,
   "metadata": {},
   "outputs": [],
   "source": [
    "jacobian(dummy_test)(test_cov)"
   ]
  },
  {
   "cell_type": "code",
   "execution_count": 42,
   "metadata": {},
   "outputs": [
    {
     "data": {
      "text/plain": [
       "array([[ 0.06141629,  0.00806166],\n",
       "       [ 0.00806166,  0.05842577]])"
      ]
     },
     "execution_count": 42,
     "metadata": {},
     "output_type": "execute_result"
    }
   ],
   "source": [
    "EP_smoother.cov"
   ]
  },
  {
   "cell_type": "code",
   "execution_count": 40,
   "metadata": {},
   "outputs": [
    {
     "data": {
      "text/plain": [
       "True"
      ]
     },
     "execution_count": 40,
     "metadata": {},
     "output_type": "execute_result"
    }
   ],
   "source": [
    "EP_smoother == smoother_ans"
   ]
  },
  {
   "cell_type": "code",
   "execution_count": 41,
   "metadata": {},
   "outputs": [
    {
     "data": {
      "text/plain": [
       "array([[ 0.06141654,  0.00806106],\n",
       "       [ 0.00806106,  0.05842459]])"
      ]
     },
     "execution_count": 41,
     "metadata": {},
     "output_type": "execute_result"
    }
   ],
   "source": [
    "smoother_ans.cov"
   ]
  },
  {
   "cell_type": "code",
   "execution_count": null,
   "metadata": {
    "collapsed": true
   },
   "outputs": [],
   "source": []
  }
 ],
 "metadata": {
  "kernelspec": {
   "display_name": "Python (tensorflow)",
   "language": "python",
   "name": "tensorflow"
  },
  "language_info": {
   "codemirror_mode": {
    "name": "ipython",
    "version": 3
   },
   "file_extension": ".py",
   "mimetype": "text/x-python",
   "name": "python",
   "nbconvert_exporter": "python",
   "pygments_lexer": "ipython3",
   "version": "3.6.1"
  }
 },
 "nbformat": 4,
 "nbformat_minor": 2
}
