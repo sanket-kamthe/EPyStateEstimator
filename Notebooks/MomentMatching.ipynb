{
 "cells": [
  {
   "cell_type": "code",
   "execution_count": 1,
   "metadata": {
    "collapsed": true
   },
   "outputs": [],
   "source": [
    "import os, sys\n",
    "import numpy as np\n",
    "from functools import partial"
   ]
  },
  {
   "cell_type": "markdown",
   "metadata": {},
   "source": [
    "## <center>                                           Add module paths"
   ]
  },
  {
   "cell_type": "code",
   "execution_count": 2,
   "metadata": {},
   "outputs": [],
   "source": [
    "module_path = os.path.abspath(os.path.join('..'))\n",
    "if module_path not in sys.path:\n",
    "    sys.path.append(module_path)\n",
    "    \n",
    "from MomentMatching.StateModels import GaussianState\n",
    "from MomentMatching.baseMomentMatch import UnscentedTransform, TaylorTransform, MonteCarloTransform"
   ]
  },
  {
   "cell_type": "code",
   "execution_count": 3,
   "metadata": {
    "collapsed": true
   },
   "outputs": [],
   "source": [
    "x = np.array([2.0, 0.1])"
   ]
  },
  {
   "cell_type": "markdown",
   "metadata": {},
   "source": [
    "### <center> Define State Distribution"
   ]
  },
  {
   "cell_type": "code",
   "execution_count": 4,
   "metadata": {
    "collapsed": true
   },
   "outputs": [],
   "source": [
    "xx_mean = np.array([1.0, 1.0], dtype=float)\n",
    "xx_sigma = np.array([[1, 0], [0, 1]], dtype=float)\n",
    "state_distribution = GaussianState(xx_mean, xx_sigma)\n"
   ]
  },
  {
   "cell_type": "markdown",
   "metadata": {},
   "source": [
    "### <center>  Define a linear function "
   ]
  },
  {
   "cell_type": "code",
   "execution_count": 5,
   "metadata": {
    "collapsed": true
   },
   "outputs": [],
   "source": [
    "A = np.array([[3, 0],\n",
    "              [0, 1]], dtype=float)\n",
    "B = np.array([0.0, 1.0], dtype=float)"
   ]
  },
  {
   "cell_type": "code",
   "execution_count": 6,
   "metadata": {
    "collapsed": true
   },
   "outputs": [],
   "source": [
    "def measurement_function(x, A=A, B=B):\n",
    "    return np.dot(A, x) + B#[:, np.newaxis]"
   ]
  },
  {
   "cell_type": "markdown",
   "metadata": {},
   "source": [
    "### <center> Define Taylor transform TT"
   ]
  },
  {
   "cell_type": "code",
   "execution_count": 7,
   "metadata": {},
   "outputs": [],
   "source": [
    "TT = TaylorTransform(dimension_of_state=2)"
   ]
  },
  {
   "cell_type": "code",
   "execution_count": 8,
   "metadata": {},
   "outputs": [
    {
     "data": {
      "text/plain": [
       "array([[ 3.,  0.],\n",
       "       [ 0.,  1.]])"
      ]
     },
     "execution_count": 8,
     "metadata": {},
     "output_type": "execute_result"
    }
   ],
   "source": [
    "TT.numerical_jacobian(f=measurement_function, x=xx_mean)"
   ]
  },
  {
   "cell_type": "markdown",
   "metadata": {},
   "source": [
    "### <center> "
   ]
  },
  {
   "cell_type": "markdown",
   "metadata": {},
   "source": [
    "``` python \n",
    "def measurement_update(self, node, measurement):\n",
    "\n",
    "    assert isinstance(node, TimeSeriesNodeForEP)\n",
    "\n",
    "    measurement_cavity_distribution = node.marginal / node.measurement_factor  # q(x_t) / q_up(x_t)\n",
    "\n",
    "    new_node = node\n",
    "\n",
    "    new_node.marginal = self.moment_matching(self.measurement, measurement_cavity_distribution, self.R, measurement)\n",
    "\n",
    "    new_node.measurement_factor = new_node.marginal / measurement_cavity_distribution\n",
    "\n",
    "    return new_node\n",
    "\n",
    "\n",
    "```"
   ]
  },
  {
   "cell_type": "code",
   "execution_count": 9,
   "metadata": {
    "collapsed": true
   },
   "outputs": [],
   "source": [
    "factor_mean = np.array([0.0, 0.0], dtype=float)\n",
    "factor_sigma = 9999 * np.array([[1, 0], [0, 1]], dtype=float)\n",
    "measurement_factor = GaussianState(factor_mean, factor_sigma)\n",
    "measurement = np.array([2.0, 0.0], dtype=float)"
   ]
  },
  {
   "cell_type": "code",
   "execution_count": 10,
   "metadata": {
    "collapsed": true
   },
   "outputs": [],
   "source": [
    "measurement_cavity = state_distribution / measurement_factor"
   ]
  },
  {
   "cell_type": "code",
   "execution_count": 11,
   "metadata": {},
   "outputs": [],
   "source": [
    "mz = measurement_function(measurement_cavity.mean)   # z = f(x)\n",
    "C = TT.numerical_jacobian(measurement_function, measurement_cavity.mean)  # linear factor A \n",
    "sz = C @ measurement_cavity.cov @ C.T #  predictive covariance sz = var(f(x)) = A * Sigma * A^T"
   ]
  },
  {
   "cell_type": "code",
   "execution_count": 35,
   "metadata": {},
   "outputs": [],
   "source": [
    "def log_gaussian(m, S, x, deriv=False):\n",
    "    \n",
    "    D = S.shape[0]   \n",
    "    x_minus_m = x - m\n",
    "    \n",
    "    logexp = -0.5*np.dot(x_minus_m.T, np.linalg.solve(S, x_minus_m))\n",
    "    logz = D/2.0*np.log(2.0*np.pi) + 0.5*np.log(np.linalg.det(S))\n",
    "    logpdf = logexp - logz\n",
    "    \n",
    "#     derivatives\n",
    "    \n",
    "    dlogZdm = x_minus_m.T @ np.linalg.solve(S, np.eye(D, dtype=float))  # (x - m )^T * S^-1\n",
    "    dlogZdS = 0.5 * (dlogZdm.T @ dlogZdm ) - np.linalg.pinv(S)/2.0\n",
    "    dlogZdx = -dlogZdm\n",
    "    if deriv:\n",
    "        return logpdf, dlogZdm, dlogZdS, \n",
    "    else:\n",
    "        return logpdf"
   ]
  },
  {
   "cell_type": "code",
   "execution_count": 36,
   "metadata": {},
   "outputs": [],
   "source": [
    "logZi, dlogZidMz, dlogZidSz = log_gaussian(m=mz, x=measurement,  S=sz, deriv=True)"
   ]
  },
  {
   "cell_type": "code",
   "execution_count": 29,
   "metadata": {
    "collapsed": true
   },
   "outputs": [],
   "source": [
    "dummy = partial(log_gaussian, x=measurement, m=mz)"
   ]
  },
  {
   "cell_type": "code",
   "execution_count": 31,
   "metadata": {},
   "outputs": [
    {
     "data": {
      "text/plain": [
       "array([ 0.06175209,  1.61079171])"
      ]
     },
     "execution_count": 31,
     "metadata": {},
     "output_type": "execute_result"
    }
   ],
   "source": [
    "TT.numerical_jacobian(dummy, sz)"
   ]
  }
 ],
 "metadata": {
  "kernelspec": {
   "display_name": "Python (tensorflow)",
   "language": "python",
   "name": "tensorflow"
  },
  "language_info": {
   "codemirror_mode": {
    "name": "ipython",
    "version": 3
   },
   "file_extension": ".py",
   "mimetype": "text/x-python",
   "name": "python",
   "nbconvert_exporter": "python",
   "pygments_lexer": "ipython3",
   "version": "3.6.1"
  }
 },
 "nbformat": 4,
 "nbformat_minor": 2
}
