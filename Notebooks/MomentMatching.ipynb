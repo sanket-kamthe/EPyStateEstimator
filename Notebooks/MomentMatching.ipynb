{
 "cells": [
  {
   "cell_type": "code",
   "execution_count": 1,
   "metadata": {
    "collapsed": true
   },
   "outputs": [],
   "source": [
    "import os, sys\n",
    "# import numpy as np\n",
    "from functools import partial\n",
    "import autograd.numpy as np\n",
    "from autograd import jacobian, grad\n",
    "from scipy.stats import multivariate_normal"
   ]
  },
  {
   "cell_type": "markdown",
   "metadata": {},
   "source": [
    "## <center>                                           Add module paths"
   ]
  },
  {
   "cell_type": "code",
   "execution_count": 2,
   "metadata": {},
   "outputs": [],
   "source": [
    "module_path = os.path.abspath(os.path.join('..'))\n",
    "if module_path not in sys.path:\n",
    "    sys.path.append(module_path)\n",
    "    \n",
    "from MomentMatching.StateModels import GaussianState\n",
    "from MomentMatching.baseMomentMatch import UnscentedTransform, TaylorTransform, MonteCarloTransform\n",
    "from MomentMatching.auto_grad import logpdf\n",
    "from MomentMatching.KalmanFilter import KalmanFilterSmoother"
   ]
  },
  {
   "cell_type": "code",
   "execution_count": 3,
   "metadata": {
    "collapsed": true
   },
   "outputs": [],
   "source": [
    "x = np.array([2.0, 0.1])"
   ]
  },
  {
   "cell_type": "markdown",
   "metadata": {},
   "source": [
    "### <center> Define State Distribution"
   ]
  },
  {
   "cell_type": "code",
   "execution_count": 31,
   "metadata": {
    "collapsed": true
   },
   "outputs": [],
   "source": [
    "xx_mean = np.array([1.0, 0.0], dtype=float)\n",
    "xx_sigma = np.array([[1, 0], [0, 1]], dtype=float)\n",
    "state_distribution = GaussianState(xx_mean, xx_sigma)\n"
   ]
  },
  {
   "cell_type": "markdown",
   "metadata": {},
   "source": [
    "### <center>  Define a linear function "
   ]
  },
  {
   "cell_type": "code",
   "execution_count": 5,
   "metadata": {
    "collapsed": true
   },
   "outputs": [],
   "source": [
    "A = np.array([[0.3, 0],\n",
    "              [0, 0.1]], dtype=float)\n",
    "B = np.array([0.0, 0.0], dtype=float)"
   ]
  },
  {
   "cell_type": "code",
   "execution_count": 6,
   "metadata": {
    "collapsed": true
   },
   "outputs": [],
   "source": [
    "def measurement_function(x, A=A, B=B):\n",
    "    return np.dot(A, x) + B#[:, np.newaxis]"
   ]
  },
  {
   "cell_type": "markdown",
   "metadata": {},
   "source": [
    "### <center> Define Taylor transform TT"
   ]
  },
  {
   "cell_type": "code",
   "execution_count": 7,
   "metadata": {
    "collapsed": true
   },
   "outputs": [],
   "source": [
    "TT = TaylorTransform(dimension_of_state=2)"
   ]
  },
  {
   "cell_type": "code",
   "execution_count": 8,
   "metadata": {},
   "outputs": [
    {
     "data": {
      "text/plain": [
       "array([[ 0.3,  0. ],\n",
       "       [ 0. ,  0.1]])"
      ]
     },
     "execution_count": 8,
     "metadata": {},
     "output_type": "execute_result"
    }
   ],
   "source": [
    "TT.numerical_jacobian(f=measurement_function, x=xx_mean)"
   ]
  },
  {
   "cell_type": "markdown",
   "metadata": {},
   "source": [
    "### <center> "
   ]
  },
  {
   "cell_type": "markdown",
   "metadata": {},
   "source": [
    "``` python \n",
    "def measurement_update(self, node, measurement):\n",
    "\n",
    "    assert isinstance(node, TimeSeriesNodeForEP)\n",
    "\n",
    "    measurement_cavity_distribution = node.marginal / node.measurement_factor  # q(x_t) / q_up(x_t)\n",
    "\n",
    "    new_node = node\n",
    "\n",
    "    new_node.marginal = self.moment_matching(self.measurement, measurement_cavity_distribution, self.R, measurement)\n",
    "\n",
    "    new_node.measurement_factor = new_node.marginal / measurement_cavity_distribution\n",
    "\n",
    "    return new_node\n",
    "\n",
    "\n",
    "```"
   ]
  },
  {
   "cell_type": "code",
   "execution_count": 9,
   "metadata": {},
   "outputs": [
    {
     "data": {
      "text/plain": [
       "array([[ 0.3,  0. ],\n",
       "       [ 0. ,  0.1]])"
      ]
     },
     "execution_count": 9,
     "metadata": {},
     "output_type": "execute_result"
    }
   ],
   "source": [
    "meas_jac = jacobian(measurement_function)\n",
    "meas_jac(xx_mean)"
   ]
  },
  {
   "cell_type": "code",
   "execution_count": 10,
   "metadata": {
    "collapsed": true
   },
   "outputs": [],
   "source": [
    "factor_mean = np.array([0.0, 0.0], dtype=float)\n",
    "factor_sigma = 9999 * np.array([[1, 0], [0, 1]], dtype=float)\n",
    "measurement_factor = GaussianState(factor_mean, factor_sigma)\n",
    "measurement = np.array([2.0, 0.0], dtype=float)"
   ]
  },
  {
   "cell_type": "code",
   "execution_count": null,
   "metadata": {
    "collapsed": true
   },
   "outputs": [],
   "source": []
  },
  {
   "cell_type": "code",
   "execution_count": null,
   "metadata": {
    "collapsed": true
   },
   "outputs": [],
   "source": []
  },
  {
   "cell_type": "code",
   "execution_count": 11,
   "metadata": {
    "collapsed": true
   },
   "outputs": [],
   "source": [
    "def data_likelihood(f, mean, cov, measurement ):\n",
    "    \n",
    "    meanz = f(mean)   # z = f(x)\n",
    "    linear_C = jacobian(f)(mean)  # linear factor A \n",
    "    covz = linear_C @ cov @ linear_C.T #  predictive covariance sz = var(f(x)) = A * Sigma * A^T\n",
    "    logZi = logpdf(measurement,meanz, covz)\n",
    "    return logZi"
   ]
  },
  {
   "cell_type": "code",
   "execution_count": 12,
   "metadata": {},
   "outputs": [],
   "source": [
    "# logZi_func = logpdf\n",
    "# dlogZidMz_func = jacobian(logpdf, argnum=1)\n",
    "# dlogZidSz_func = jacobian(logpdf, argnum=2)\n",
    "\n",
    "# logZi = logZi_func(x=measurement, mean=mz, cov=sz)\n",
    "# dlogZidMz = dlogZidMz_func(measurement, mz, sz)\n",
    "# dlogZidSz = dlogZidSz_func(measurement, mz, sz) "
   ]
  },
  {
   "cell_type": "code",
   "execution_count": 13,
   "metadata": {
    "collapsed": true
   },
   "outputs": [],
   "source": [
    "def moment_matching_gaussian(mxni, Sxni, dlogZidMz, dlogZidSz):\n",
    "    mx = mxni + np.dot(Sxni, dlogZidMz.T)\n",
    "    return mx"
   ]
  },
  {
   "cell_type": "code",
   "execution_count": 28,
   "metadata": {
    "collapsed": true
   },
   "outputs": [],
   "source": [
    "def ep_measurement_update(self, measurement_function, state_distribution,  z_measurement):\n",
    "    measurement_cavity = state_distribution / measurement_factor\n",
    "    logZi = data_likelihood(measurement_function, measurement_cavity.mean, measurement_cavity.cov, measurement)\n",
    "    dlogZidMz = jacobian(data_likelihood, argnum=1)(measurement_function, measurement_cavity.mean, measurement_cavity.cov, z_measurement)\n",
    "    dlogZidSz = jacobian(data_likelihood, argnum=2)(measurement_function, measurement_cavity.mean, measurement_cavity.cov, z_measurement)\n",
    "    mx = measurement_cavity.mean + np.dot(measurement_cavity.cov, dlogZidMz.T)\n",
    "    print(dlogZidMz)\n",
    "    print(dlogZidSz.shape)\n",
    "    vx = measurement_cavity.cov + measurement_cavity.cov @ (2*dlogZidSz - np.dot(dlogZidMz.T, dlogZidMz) ) @ measurement_cavity.cov\n",
    "    return mx, vx\n",
    "    "
   ]
  },
  {
   "cell_type": "code",
   "execution_count": 29,
   "metadata": {
    "collapsed": true
   },
   "outputs": [],
   "source": [
    "def measurement_update(self, measurement_function, state_distribution, z_measurement):\n",
    "#     pred_mean, pred_cov, _ = self.predict(self.transition, x_distribution, t)\n",
    "\n",
    "#     # Add transition Noise Q_t\n",
    "#     pred_cov = pred_cov + self.system_model.Q.cov\n",
    "#     pred_distribution = GaussianState(pred_mean, pred_cov)\n",
    "\n",
    "    z_mean, z_cov, xz_cross_cov = self.predict(measurement_function, state_distribution)\n",
    "    # Add measurement Noise R_t\n",
    "    z_cov = z_cov #+ self.system_model.R.cov\n",
    "\n",
    "    K = np.matmul(xz_cross_cov, np.linalg.inv(z_cov))\n",
    "    print(f'kalman gain K is {K}')\n",
    "    corrected_mean = state_distribution.mean + np.dot(K, (z_measurement - z_mean))  # equation 15  in Marc's ACC paper\n",
    "    corrected_cov = state_distribution.cov - np.dot(K, np.transpose(xz_cross_cov))\n",
    "    print(f'corrected cov is {corrected_cov}')\n",
    "    filtered_distribution = GaussianState(corrected_mean, corrected_cov)\n",
    "    return filtered_distribution"
   ]
  },
  {
   "cell_type": "code",
   "execution_count": 33,
   "metadata": {},
   "outputs": [
    {
     "name": "stdout",
     "output_type": "stream",
     "text": [
      "kalman gain K is [[  3.33333333   0.        ]\n",
      " [  0.          10.        ]]\n",
      "corrected cov is [[ 0.  0.]\n",
      " [ 0.  0.]]\n"
     ]
    }
   ],
   "source": [
    "corrected_ans = measurement_update(TT, measurement_function, state_distribution, measurement)"
   ]
  },
  {
   "cell_type": "code",
   "execution_count": 34,
   "metadata": {},
   "outputs": [
    {
     "data": {
      "text/plain": [
       "array([ 6.66666667,  0.        ])"
      ]
     },
     "execution_count": 34,
     "metadata": {},
     "output_type": "execute_result"
    }
   ],
   "source": [
    "corrected_ans.mean"
   ]
  },
  {
   "cell_type": "code",
   "execution_count": 18,
   "metadata": {},
   "outputs": [
    {
     "data": {
      "text/plain": [
       "array([[  1.11022302e-16,   0.00000000e+00],\n",
       "       [  0.00000000e+00,   0.00000000e+00]])"
      ]
     },
     "execution_count": 18,
     "metadata": {},
     "output_type": "execute_result"
    }
   ],
   "source": [
    "corrected_ans.cov"
   ]
  },
  {
   "cell_type": "code",
   "execution_count": 32,
   "metadata": {},
   "outputs": [
    {
     "name": "stdout",
     "output_type": "stream",
     "text": [
      "[ 5.66599993  0.        ]\n",
      "(2, 2)\n"
     ]
    },
    {
     "data": {
      "text/plain": [
       "(array([ 6.66666667,  0.        ]),\n",
       " array([[  2.22044605e-15,  -3.21099776e+01],\n",
       "        [ -3.21099776e+01,  -3.21099776e+01]]))"
      ]
     },
     "execution_count": 32,
     "metadata": {},
     "output_type": "execute_result"
    }
   ],
   "source": [
    "ep_measurement_update(0, measurement_function, state_distribution, measurement)"
   ]
  },
  {
   "cell_type": "code",
   "execution_count": 35,
   "metadata": {
    "collapsed": true
   },
   "outputs": [],
   "source": [
    "z_mean, z_cov, xz_cross_cov = TT.predict(measurement_function, state_distribution)"
   ]
  },
  {
   "cell_type": "code",
   "execution_count": 37,
   "metadata": {},
   "outputs": [
    {
     "data": {
      "text/plain": [
       "array([[ 0.3,  0. ],\n",
       "       [ 0. ,  0.1]])"
      ]
     },
     "execution_count": 37,
     "metadata": {},
     "output_type": "execute_result"
    }
   ],
   "source": [
    "state_distribution.cov @ A"
   ]
  },
  {
   "cell_type": "code",
   "execution_count": 40,
   "metadata": {},
   "outputs": [
    {
     "data": {
      "text/plain": [
       "array([[ 1.,  0.],\n",
       "       [ 0.,  1.]])"
      ]
     },
     "execution_count": 40,
     "metadata": {},
     "output_type": "execute_result"
    }
   ],
   "source": [
    "xz_cross_cov @ np.linalg.pinv(z_cov) @ xz_cross_cov.T"
   ]
  },
  {
   "cell_type": "code",
   "execution_count": 20,
   "metadata": {},
   "outputs": [
    {
     "ename": "NameError",
     "evalue": "name 'dummy' is not defined",
     "output_type": "error",
     "traceback": [
      "\u001b[0;31m---------------------------------------------------------------------------\u001b[0m",
      "\u001b[0;31mNameError\u001b[0m                                 Traceback (most recent call last)",
      "\u001b[0;32m<ipython-input-20-0706506e523e>\u001b[0m in \u001b[0;36m<module>\u001b[0;34m()\u001b[0m\n\u001b[0;32m----> 1\u001b[0;31m \u001b[0mTT\u001b[0m\u001b[0;34m.\u001b[0m\u001b[0mnumerical_jacobian\u001b[0m\u001b[0;34m(\u001b[0m\u001b[0mdummy\u001b[0m\u001b[0;34m,\u001b[0m \u001b[0msz\u001b[0m\u001b[0;34m)\u001b[0m\u001b[0;34m\u001b[0m\u001b[0m\n\u001b[0m",
      "\u001b[0;31mNameError\u001b[0m: name 'dummy' is not defined"
     ]
    }
   ],
   "source": [
    "TT.numerical_jacobian(dummy, sz)"
   ]
  },
  {
   "cell_type": "code",
   "execution_count": null,
   "metadata": {},
   "outputs": [],
   "source": [
    "jac = jacobian(dummy)"
   ]
  },
  {
   "cell_type": "code",
   "execution_count": null,
   "metadata": {},
   "outputs": [],
   "source": [
    "jac(sz)"
   ]
  }
 ],
 "metadata": {
  "kernelspec": {
   "display_name": "Python 3",
   "language": "python",
   "name": "python3"
  },
  "language_info": {
   "codemirror_mode": {
    "name": "ipython",
    "version": 3
   },
   "file_extension": ".py",
   "mimetype": "text/x-python",
   "name": "python",
   "nbconvert_exporter": "python",
   "pygments_lexer": "ipython3",
   "version": "3.6.1"
  }
 },
 "nbformat": 4,
 "nbformat_minor": 2
}
