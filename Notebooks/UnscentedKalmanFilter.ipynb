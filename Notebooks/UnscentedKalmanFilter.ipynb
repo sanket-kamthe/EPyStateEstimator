{
 "cells": [
  {
   "cell_type": "code",
   "execution_count": 1,
   "metadata": {
    "collapsed": true
   },
   "outputs": [],
   "source": [
    "\n",
    "import numpy as np\n",
    "from scipy.stats import multivariate_normal\n",
    "import itertools"
   ]
  },
  {
   "cell_type": "code",
   "execution_count": 2,
   "metadata": {
    "collapsed": true
   },
   "outputs": [],
   "source": [
    "%matplotlib inline\n",
    "import matplotlib.pyplot as plt"
   ]
  },
  {
   "cell_type": "code",
   "execution_count": 3,
   "metadata": {
    "collapsed": true
   },
   "outputs": [],
   "source": [
    "import os\n",
    "\n",
    "import sys\n",
    "\n",
    "module_path = os.path.abspath(os.path.join('/home/adaboost/Documents/github/pyStateEstimator'))\n",
    "if module_path not in sys.path:\n",
    "    sys.path.append(module_path)"
   ]
  },
  {
   "cell_type": "code",
   "execution_count": 4,
   "metadata": {
    "collapsed": true
   },
   "outputs": [],
   "source": [
    "from MomentMatching.baseMomentMatch import MomentMatching, UnscentedTransform\n",
    "from MomentMatching.TimeSeriesModel import TimeSeriesModel, UniformNonlinearGrowthModel\n",
    "from MomentMatching.StateModels import GaussianState"
   ]
  },
  {
   "cell_type": "code",
   "execution_count": null,
   "metadata": {
    "collapsed": true
   },
   "outputs": [],
   "source": []
  },
  {
   "cell_type": "code",
   "execution_count": 5,
   "metadata": {
    "collapsed": true
   },
   "outputs": [],
   "source": [
    "class KalmanFilterSmoother:\n",
    "    def __init__(self, moment_matching, system_model):\n",
    "        \"\"\"\n",
    "        moment matching implements the transfer function needed.\n",
    "\n",
    "        \"\"\"\n",
    "        assert isinstance(system_model, TimeSeriesModel)  # make sure we are working with the time series model.\n",
    "        assert isinstance(moment_matching, MomentMatching)\n",
    "\n",
    "        self.transition = system_model.transition_function\n",
    "        self.measurement = system_model.measurement_function\n",
    "        self.init_dist = system_model.init_dist\n",
    "        self.moment_matching = moment_matching\n",
    "        self.predict = moment_matching.predict\n",
    "        self.system_model = system_model\n",
    "\n",
    "    #         self.init_dist = system_model.init_dist\n",
    "\n",
    "    def kalman_filter(self,  prior_distribution, t,  observations):\n",
    "\n",
    "        if prior_distribution is None:\n",
    "            x_distribution = self.init_distribution\n",
    "        else:\n",
    "            x_distribution = prior_distribution\n",
    "\n",
    "        for observation in observations:\n",
    "            x_filtered_distribution = self._filter(x_distribution, t, observation)\n",
    "            yield x_filtered_distribution\n",
    "            x_distribution = x_filtered_distribution\n",
    "            t += 1\n",
    "            \n",
    "    def kalman_smoother(self, reversible_container, t, already_reversed=False):\n",
    "        if already_reversed:\n",
    "            reversed_iterator = reversible_contaianer\n",
    "        else:\n",
    "            reversed_iterator = reversed(reversible_container)\n",
    "            \n",
    "#         x_distribution, x_next_distribution = self._pairwise(reversed_iterator)\n",
    "        \n",
    "        for x_next_distribution, x_distribution in self._pairwise(reversed_iterator):\n",
    "            x_smoothed_dist = self._smoother(x_distribution, x_next_distribution, t)\n",
    "            t-= 1\n",
    "            yield x_smoothed_dist\n",
    "        \n",
    "    \n",
    "    \n",
    "    def _pairwise(self, state_distribution_iterable):\n",
    "        \"\"\"s -> (s0,s1), (s1,s2), (s2, s3), ...\"\"\"\n",
    "        x_distribution, x_next_distribution = itertools.tee(state_distribution_iterable)\n",
    "        next(x_distribution, None)\n",
    "        return zip(x_distribution, x_next_distribution)\n",
    "\n",
    "    def _filter(self, x_distribution, t, z_measurement):\n",
    "        pred_mean, pred_cov, _ = self.predict(self.transition, x_distribution, t)\n",
    "#         print(t)\n",
    "        # Add transition Noise Q_t\n",
    "        pred_cov = pred_cov + self.system_model.Q.cov\n",
    "        pred_distribution = GaussianState(pred_mean, pred_cov)\n",
    "\n",
    "        z_mean, z_cov, xz_cross_cov = self.predict(self.measurement, pred_distribution)\n",
    "        # Add measurement Noise R_t\n",
    "        z_cov = z_cov + self.system_model.R.cov\n",
    "\n",
    "        K = np.matmul(xz_cross_cov, np.linalg.inv(z_cov))\n",
    "        corrected_mean = pred_mean + np.dot(K, (z_measurement - z_mean))  # equation 15  in Marc's ACC paper\n",
    "        corrected_cov = pred_cov - np.dot(K, np.transpose(xz_cross_cov))\n",
    "        filtered_distribution = GaussianState(corrected_mean, corrected_cov)\n",
    "        return filtered_distribution\n",
    "\n",
    "    def _smoother(self, x_distribution, x_next_distribution, t):\n",
    "        xx_mean, xx_cov, xx_cross_cov, = self.predict(self.transition, x_distribution, t)\n",
    "        # Add transition Noise Q_t\n",
    "        xx_cov = xx_cov + self.system_model.Q.cov\n",
    "\n",
    "        # calculate smoother gain J_t\n",
    "        J = np.dot(xx_cross_cov, np.linalg.inv(xx_cov))\n",
    "\n",
    "        smoothed_mean = x_distribution.mean + np.dot(J, (x_next_distribution.mean - xx_mean))\n",
    "        smoothed_cov = x_distribution.cov + np.dot(np.dot(J, x_next_distribution.cov - xx_cov), J.T)\n",
    "        smoothed_distribution = GaussianState(smoothed_mean, smoothed_cov)\n",
    "        return smoothed_distribution\n",
    "\n",
    "    def _step_kalman_filter(self, x_distribution, z_observation):\n",
    "        \"\"\"\n",
    "        This is a single step in kalman filter\n",
    "\n",
    "        1) Given x_mean and x_sigma predict the t+1 value using transistion\n",
    "            function and moment matching method\n",
    "\n",
    "        2) Project latent state through  measurement function to obtain predcitive\n",
    "           observation density\n",
    "\n",
    "        3) correct the density using Kalman gain\n",
    "\n",
    "\n",
    "        We use x as latent state distribution\n",
    "        \"\"\"\n",
    "\n",
    "        x_t_plus_1 = self.moment_matching.predict(self.system_model.transition_function, x_distribution)\n",
    "\n",
    "        pred_mean, pred_cov = self.predict(self.transition, x_distribution)\n",
    "        pred_distribution = GaussianState(pred_mean, pred_cov)\n",
    "\n",
    "        z_mean, xz_sigma, z_sigma = self.predict(self.measurement, pred_distribution)\n",
    "\n",
    "        # calculate Kalman Gain K\n",
    "        K = np.matmul(xz_sigma, np.linalg.inv(z_sigma))\n",
    "        corrected_mean = x_mean + np.dot(K, (z_observation - z_mean))  # equation 15  in Marc's ACC paper\n",
    "        corrected_cov = x_sigma - np.dot(K, np.transpose(xz_sigma))\n",
    "        x_distribution_new = GaussianState(corrected_mean, corrected_cov)\n",
    "        yield x_distribution_new\n",
    "\n",
    "    def _predict(self, x_mean, xx_sigma):\n",
    "        # we don't need cross covariance here, ignore it\n",
    "        pred_mean, _, pred_sigma = self.transition_model.predict_transition(x_mean, xx_sigma)\n",
    "\n",
    "        return pred_mean, pred_sigma\n",
    "\n",
    "    def correct(self, z_observation, x_mean, x_sigma):\n",
    "        # Todo : Check if it is better to pass inverse always or to use Cholesky for stability\n",
    "        # (Numpy lstq or solve may work)\n",
    "        z_mean, xz_sigma, z_sigma = self.observation_model.predict_observation(x_mean, x_sigma)\n",
    "\n",
    "        # calculate Kalman Gain K\n",
    "        K = np.matmul(xz_sigma, np.linalg.inv(z_sigma))\n",
    "        corrected_mean = x_mean + np.dot(K, (z_observation - z_mean))  # equation 15  in Marc's ACC paper\n",
    "        corrected_sigma = x_sigma - np.dot(K, np.transpose(xz_sigma))\n",
    "        return corrected_mean, corrected_sigma\n",
    "\n",
    "    def smooth(self, x_mean, x_sigma, x_next_mean, x_next_sigma):\n",
    "        xx_mean, xx_cross_sigma, xx_sigma = self.transition_model.predict_transition(x_mean, x_sigma)\n",
    "\n",
    "        # calculate smoother gain J_t\n",
    "        J = np.dot(xx_cross_sigma, np.linalg.inv(xx_sigma))\n",
    "\n",
    "        smoothed_mean = x_mean + np.dot(J, (x_next_mean - xx_mean))\n",
    "        smoothed_sigma = x_sigma + np.dot(np.dot(J, x_next_sigma - xx_sigma), np.transpose(J))\n",
    "        return smoothed_mean, smoothed_sigma"
   ]
  },
  {
   "cell_type": "code",
   "execution_count": null,
   "metadata": {
    "collapsed": true
   },
   "outputs": [],
   "source": []
  },
  {
   "cell_type": "code",
   "execution_count": null,
   "metadata": {
    "collapsed": true
   },
   "outputs": [],
   "source": []
  },
  {
   "cell_type": "code",
   "execution_count": null,
   "metadata": {
    "collapsed": true
   },
   "outputs": [],
   "source": []
  },
  {
   "cell_type": "code",
   "execution_count": null,
   "metadata": {
    "collapsed": true
   },
   "outputs": [],
   "source": []
  },
  {
   "cell_type": "code",
   "execution_count": null,
   "metadata": {
    "collapsed": true
   },
   "outputs": [],
   "source": []
  },
  {
   "cell_type": "code",
   "execution_count": 6,
   "metadata": {
    "collapsed": true
   },
   "outputs": [],
   "source": [
    "# reversed_data_dist = reversed (data_dist)"
   ]
  },
  {
   "cell_type": "code",
   "execution_count": 7,
   "metadata": {},
   "outputs": [
    {
     "data": {
      "text/plain": [
       "[<matplotlib.lines.Line2D at 0x7fbe38a16908>]"
      ]
     },
     "execution_count": 7,
     "metadata": {},
     "output_type": "execute_result"
    },
    {
     "data": {
      "image/png": "[encoded data removed]",
      "text/plain": [
       "<matplotlib.figure.Figure at 0x7fbe3bda6f28>"
      ]
     },
     "metadata": {},
     "output_type": "display_data"
    }
   ],
   "source": [
    "N = 20\n",
    "demo = UniformNonlinearGrowthModel()\n",
    "data = demo.system_simulation(N)\n",
    "x_true, x_noisy, y_true, y_noisy = zip(*data)\n",
    "\n",
    "plt.plot(x_true)\n",
    "\n",
    "plt.scatter(list(range(N)), x_noisy)\n",
    "plt.plot(y_noisy)"
   ]
  },
  {
   "cell_type": "code",
   "execution_count": 8,
   "metadata": {},
   "outputs": [],
   "source": [
    "kf = KalmanFilterSmoother(moment_matching=UnscentedTransform(), system_model=demo)\n",
    "data_dist = kf.kalman_filter(demo.init_dist, 0, y_noisy)\n",
    "filtered_data = list(itertools.islice(data_dist, N))\n",
    "data_filter_gen = kf.kalman_smoother(filtered_data, N-2)\n",
    "smthd_data = list(itertools.islice(data_filter_gen, N))"
   ]
  },
  {
   "cell_type": "code",
   "execution_count": 9,
   "metadata": {},
   "outputs": [
    {
     "name": "stdout",
     "output_type": "stream",
     "text": [
      "100 loops, best of 3: 3.49 ms per loop\n"
     ]
    }
   ],
   "source": [
    "%timeit filtered_data = list(itertools.islice(kf.kalman_filter(demo.init_dist, 0, y_noisy), N))"
   ]
  },
  {
   "cell_type": "code",
   "execution_count": null,
   "metadata": {
    "collapsed": true
   },
   "outputs": [],
   "source": []
  },
  {
   "cell_type": "code",
   "execution_count": 10,
   "metadata": {
    "collapsed": true
   },
   "outputs": [],
   "source": [
    "# x_filtered, x_err = (filtered.mean[0, :], np.sqrt(filtered_data.cov[0, 0]) for filtered in filtered_data)\n",
    "# x_smthd = [smthd.mean[0, :] for smthd in smthd_data]"
   ]
  },
  {
   "cell_type": "code",
   "execution_count": 11,
   "metadata": {
    "collapsed": true
   },
   "outputs": [],
   "source": [
    "def get_mean_err(x):\n",
    "    return x.mean, 2* np.sqrt(x.cov[0, 0])"
   ]
  },
  {
   "cell_type": "code",
   "execution_count": 12,
   "metadata": {
    "collapsed": true
   },
   "outputs": [],
   "source": [
    "# x_filtered[0].shape"
   ]
  },
  {
   "cell_type": "code",
   "execution_count": 13,
   "metadata": {
    "collapsed": true
   },
   "outputs": [],
   "source": [
    "# x_distribution = demo.init_dist\n",
    "# "
   ]
  },
  {
   "cell_type": "code",
   "execution_count": 14,
   "metadata": {
    "collapsed": true
   },
   "outputs": [],
   "source": [
    "# x_true[0].shape"
   ]
  },
  {
   "cell_type": "code",
   "execution_count": 15,
   "metadata": {},
   "outputs": [],
   "source": [
    "x_filtered, x_filtered_err = zip(*[get_mean_err(x) for x in filtered_data])\n",
    "x_smthd, x_smthd_err = zip(*[get_mean_err(x) for x in smthd_data])"
   ]
  },
  {
   "cell_type": "code",
   "execution_count": 16,
   "metadata": {},
   "outputs": [
    {
     "data": {
      "text/plain": [
       "<matplotlib.legend.Legend at 0x7fbe3892c908>"
      ]
     },
     "execution_count": 16,
     "metadata": {},
     "output_type": "execute_result"
    },
    {
     "data": {
      "image/png": "[encoded data removed]",
      "text/plain": [
       "<matplotlib.figure.Figure at 0x7fbe3bda6b00>"
      ]
     },
     "metadata": {},
     "output_type": "display_data"
    }
   ],
   "source": [
    "plt.plot(x_true, 'r--', label='x_true')\n",
    "\n",
    "# plt.scatter(list(range(50)), x_noisy)\n",
    "# plt.plot(y_noisy)\n",
    "plt.errorbar(list(range(N)), y=x_filtered, yerr=x_filtered_err, color='g', label='filtered')\n",
    "plt.errorbar(list(range(N-1)), y=x_smthd, yerr=x_smthd_err, color='b', label='smoothed')\n",
    "plt.legend()"
   ]
  },
  {
   "cell_type": "code",
   "execution_count": 17,
   "metadata": {},
   "outputs": [
    {
     "data": {
      "text/plain": [
       "array([[ 1.]])"
      ]
     },
     "execution_count": 17,
     "metadata": {},
     "output_type": "execute_result"
    }
   ],
   "source": [
    "demo.Q.cov"
   ]
  },
  {
   "cell_type": "code",
   "execution_count": 18,
   "metadata": {
    "collapsed": true
   },
   "outputs": [],
   "source": [
    "def _filter(self, x_distribution, t, z_measurement):\n",
    "    pred_mean, pred_cov, _ = self.predict(self.transition, x_distribution , t)\n",
    "    \n",
    "    # Add transition Noise Q_t\n",
    "    pred_cov = pred_cov + self.system_model.Q.cov\n",
    "    pred_distribution = GaussianState(pred_mean, pred_cov)\n",
    "    \n",
    "    z_mean, z_cov, xz_cross_cov = self.predict(self.measurement, pred_distribution)\n",
    "    # Add measurement Noise R_t\n",
    "    z_cov = z_cov + self.system_model.R.cov\n",
    "\n",
    "    K = np.matmul(xz_cross_cov, np.linalg.inv(z_cov))\n",
    "    corrected_mean = pred_mean + np.dot(K, (z_measurement - z_mean))  # equation 15  in Marc's ACC paper\n",
    "    corrected_cov = pred_cov - np.dot(K, np.transpose(xz_cross_cov))\n",
    "    filtered_distribution = GaussianState(corrected_mean, corrected_cov)\n",
    "    return filtered_distribution\n",
    "    "
   ]
  },
  {
   "cell_type": "code",
   "execution_count": 19,
   "metadata": {
    "collapsed": true
   },
   "outputs": [],
   "source": [
    "def _smoother(self, x_distribution, x_next_distribution, t):\n",
    "    xx_mean,  xx_cov, xx_cross_cov, = self.predict(self.transition, x_distribution , t)\n",
    "    # Add transition Noise Q_t\n",
    "    xx_cov = xx_cov + self.system_model.Q.cov\n",
    "    \n",
    "    # calculate smoother gain J_t\n",
    "    J = np.dot(xx_cross_cov, np.linalg.inv(xx_cov))\n",
    "\n",
    "    smoothed_mean = x_distribution.mean + np.dot(J, (x_next_distribution.mean - xx_mean))\n",
    "    smoothed_cov = x_distribution.cov + np.dot(np.dot(J, x_next_distribution.cov - xx_cov), J.T)\n",
    "    smoothed_distribution = GaussianState(smoothed_mean, smoothed_cov)\n",
    "    return smoothed_distribution"
   ]
  },
  {
   "cell_type": "code",
   "execution_count": 20,
   "metadata": {
    "collapsed": true
   },
   "outputs": [],
   "source": [
    "pred_new1 = _filter(kf, demo.init_dist, 0, z_measurement=y_noisy[0])\n",
    "pred_new2 = _filter(kf, pred_new1, 1, z_measurement=y_noisy[1])"
   ]
  },
  {
   "cell_type": "code",
   "execution_count": 21,
   "metadata": {},
   "outputs": [
    {
     "name": "stdout",
     "output_type": "stream",
     "text": [
      "19\n"
     ]
    }
   ],
   "source": [
    "daba = list(range(20))\n",
    "daba = reversed(daba)\n",
    "print(len(list(kf._pairwise(daba))))"
   ]
  },
  {
   "cell_type": "code",
   "execution_count": 22,
   "metadata": {},
   "outputs": [
    {
     "data": {
      "text/plain": [
       "3.0887544677830538"
      ]
     },
     "execution_count": 22,
     "metadata": {},
     "output_type": "execute_result"
    }
   ],
   "source": [
    "pred_new2.nll(x_true[1])"
   ]
  },
  {
   "cell_type": "code",
   "execution_count": 23,
   "metadata": {
    "collapsed": true
   },
   "outputs": [],
   "source": [
    "smthd = _smoother(kf, pred_new1, pred_new2, 1)"
   ]
  },
  {
   "cell_type": "code",
   "execution_count": 24,
   "metadata": {},
   "outputs": [
    {
     "data": {
      "text/plain": [
       "2.4401224571032136"
      ]
     },
     "execution_count": 24,
     "metadata": {},
     "output_type": "execute_result"
    }
   ],
   "source": [
    "smthd.nll(x_true[0])"
   ]
  },
  {
   "cell_type": "code",
   "execution_count": 25,
   "metadata": {},
   "outputs": [
    {
     "data": {
      "text/plain": [
       "1.1023788054018215"
      ]
     },
     "execution_count": 25,
     "metadata": {},
     "output_type": "execute_result"
    }
   ],
   "source": [
    "smthd.rmse(x_true[0])"
   ]
  },
  {
   "cell_type": "code",
   "execution_count": 26,
   "metadata": {},
   "outputs": [
    {
     "data": {
      "text/plain": [
       "0.47690804774534268"
      ]
     },
     "execution_count": 26,
     "metadata": {},
     "output_type": "execute_result"
    }
   ],
   "source": [
    "pred_new1.rmse(x_true[0])"
   ]
  },
  {
   "cell_type": "code",
   "execution_count": 27,
   "metadata": {},
   "outputs": [
    {
     "data": {
      "text/plain": [
       "array([ 8.])"
      ]
     },
     "execution_count": 27,
     "metadata": {},
     "output_type": "execute_result"
    }
   ],
   "source": [
    "x_true[0]"
   ]
  },
  {
   "cell_type": "code",
   "execution_count": 28,
   "metadata": {},
   "outputs": [
    {
     "data": {
      "text/plain": [
       "array([ 6.89762119])"
      ]
     },
     "execution_count": 28,
     "metadata": {},
     "output_type": "execute_result"
    }
   ],
   "source": [
    "smthd.mean"
   ]
  },
  {
   "cell_type": "code",
   "execution_count": 29,
   "metadata": {},
   "outputs": [
    {
     "data": {
      "text/plain": [
       "array([[ 23.98893692]])"
      ]
     },
     "execution_count": 29,
     "metadata": {},
     "output_type": "execute_result"
    }
   ],
   "source": [
    "pred_new1.cov"
   ]
  },
  {
   "cell_type": "code",
   "execution_count": 30,
   "metadata": {},
   "outputs": [
    {
     "data": {
      "text/plain": [
       "array([ 7.52309195])"
      ]
     },
     "execution_count": 30,
     "metadata": {},
     "output_type": "execute_result"
    }
   ],
   "source": [
    "pred_new1.mean "
   ]
  },
  {
   "cell_type": "code",
   "execution_count": 31,
   "metadata": {},
   "outputs": [
    {
     "data": {
      "text/plain": [
       "array([[ 19.70130072]])"
      ]
     },
     "execution_count": 31,
     "metadata": {},
     "output_type": "execute_result"
    }
   ],
   "source": [
    "smthd.cov"
   ]
  },
  {
   "cell_type": "code",
   "execution_count": 32,
   "metadata": {
    "collapsed": true
   },
   "outputs": [],
   "source": [
    "pred_mean, pred_cov, _ = kf.predict(kf.transition, pred_new1 , 1)\n",
    "pred_cov = pred_cov + kf.system_model.Q.cov\n",
    "pred_distribution = GaussianState(pred_mean, pred_cov)  \n",
    "z_mean, z_cov, xz_sigma, = kf.predict(kf.measurement, pred_distribution)\n",
    "z_cov = z_cov + kf.system_model.R.cov\n",
    "K = np.matmul(xz_sigma, np.linalg.inv(z_cov))"
   ]
  },
  {
   "cell_type": "code",
   "execution_count": 33,
   "metadata": {},
   "outputs": [
    {
     "data": {
      "text/plain": [
       "array([[ 54.77309727]])"
      ]
     },
     "execution_count": 33,
     "metadata": {},
     "output_type": "execute_result"
    }
   ],
   "source": [
    "xz_sigma"
   ]
  },
  {
   "cell_type": "code",
   "execution_count": 34,
   "metadata": {
    "collapsed": true
   },
   "outputs": [],
   "source": [
    "# np.linalg.inv(z_sigma)"
   ]
  },
  {
   "cell_type": "code",
   "execution_count": 35,
   "metadata": {
    "collapsed": true
   },
   "outputs": [],
   "source": [
    "nodes = list(range(20))"
   ]
  },
  {
   "cell_type": "code",
   "execution_count": 36,
   "metadata": {
    "collapsed": true
   },
   "outputs": [],
   "source": [
    "nodes_gen = range(24)"
   ]
  },
  {
   "cell_type": "code",
   "execution_count": 37,
   "metadata": {
    "collapsed": true
   },
   "outputs": [],
   "source": [
    "from itertools import tee\n",
    "def pairwise(iterable):\n",
    "    \"s -> (s0,s1), (s1,s2), (s2, s3), ...\"\n",
    "    a, b, c = tee(iterable, 3)\n",
    "    next(b, None)\n",
    "    next(c, None)\n",
    "    next(c, None)\n",
    "    return zip(a, b, c)"
   ]
  },
  {
   "cell_type": "code",
   "execution_count": 38,
   "metadata": {},
   "outputs": [
    {
     "data": {
      "text/plain": [
       "[(0, 1, 2),\n",
       " (1, 2, 3),\n",
       " (2, 3, 4),\n",
       " (3, 4, 5),\n",
       " (4, 5, 6),\n",
       " (5, 6, 7),\n",
       " (6, 7, 8),\n",
       " (7, 8, 9),\n",
       " (8, 9, 10),\n",
       " (9, 10, 11),\n",
       " (10, 11, 12),\n",
       " (11, 12, 13),\n",
       " (12, 13, 14),\n",
       " (13, 14, 15),\n",
       " (14, 15, 16),\n",
       " (15, 16, 17),\n",
       " (16, 17, 18),\n",
       " (17, 18, 19),\n",
       " (18, 19, 20),\n",
       " (19, 20, 21),\n",
       " (20, 21, 22),\n",
       " (21, 22, 23)]"
      ]
     },
     "execution_count": 38,
     "metadata": {},
     "output_type": "execute_result"
    }
   ],
   "source": [
    "list(pairwise(nodes_gen))"
   ]
  },
  {
   "cell_type": "code",
   "execution_count": null,
   "metadata": {
    "collapsed": true
   },
   "outputs": [],
   "source": []
  },
  {
   "cell_type": "code",
   "execution_count": 39,
   "metadata": {
    "collapsed": true
   },
   "outputs": [],
   "source": [
    "# corrected_mean = pred_mean + np.dot(K, (z_measurement - z_mean))"
   ]
  },
  {
   "cell_type": "code",
   "execution_count": 40,
   "metadata": {
    "collapsed": true
   },
   "outputs": [],
   "source": [
    "# corrected_mean"
   ]
  },
  {
   "cell_type": "code",
   "execution_count": 41,
   "metadata": {
    "collapsed": true
   },
   "outputs": [],
   "source": [
    "# z_sigma"
   ]
  },
  {
   "cell_type": "code",
   "execution_count": 42,
   "metadata": {},
   "outputs": [
    {
     "data": {
      "text/plain": [
       "array([ 3.22834938])"
      ]
     },
     "execution_count": 42,
     "metadata": {},
     "output_type": "execute_result"
    }
   ],
   "source": [
    "y_noisy[1]"
   ]
  },
  {
   "cell_type": "code",
   "execution_count": 43,
   "metadata": {},
   "outputs": [
    {
     "data": {
      "text/plain": [
       "array([ 10.04410293])"
      ]
     },
     "execution_count": 43,
     "metadata": {},
     "output_type": "execute_result"
    }
   ],
   "source": [
    "x_true[1]"
   ]
  },
  {
   "cell_type": "code",
   "execution_count": 44,
   "metadata": {},
   "outputs": [
    {
     "data": {
      "text/plain": [
       "array([[ 23.98893692]])"
      ]
     },
     "execution_count": 44,
     "metadata": {},
     "output_type": "execute_result"
    }
   ],
   "source": [
    "pred_new1.cov"
   ]
  },
  {
   "cell_type": "code",
   "execution_count": 45,
   "metadata": {},
   "outputs": [
    {
     "data": {
      "text/plain": [
       "2.5124754597065193"
      ]
     },
     "execution_count": 45,
     "metadata": {},
     "output_type": "execute_result"
    }
   ],
   "source": [
    "pred_new1.nll(x_true[0])"
   ]
  },
  {
   "cell_type": "code",
   "execution_count": 46,
   "metadata": {},
   "outputs": [
    {
     "data": {
      "text/plain": [
       "array([[ 50.17313337]])"
      ]
     },
     "execution_count": 46,
     "metadata": {},
     "output_type": "execute_result"
    }
   ],
   "source": [
    "pred_new2.cov"
   ]
  },
  {
   "cell_type": "code",
   "execution_count": 47,
   "metadata": {},
   "outputs": [
    {
     "data": {
      "text/plain": [
       "3.0887544677830538"
      ]
     },
     "execution_count": 47,
     "metadata": {},
     "output_type": "execute_result"
    }
   ],
   "source": [
    "pred_new2.nll(x_true[1])"
   ]
  },
  {
   "cell_type": "code",
   "execution_count": 48,
   "metadata": {},
   "outputs": [
    {
     "data": {
      "text/plain": [
       "array([ 7.02385551])"
      ]
     },
     "execution_count": 48,
     "metadata": {},
     "output_type": "execute_result"
    }
   ],
   "source": [
    "pred_mean"
   ]
  },
  {
   "cell_type": "code",
   "execution_count": 49,
   "metadata": {},
   "outputs": [
    {
     "data": {
      "text/plain": [
       "array([[ 77.98152625]])"
      ]
     },
     "execution_count": 49,
     "metadata": {},
     "output_type": "execute_result"
    }
   ],
   "source": [
    "pred_cov"
   ]
  },
  {
   "cell_type": "code",
   "execution_count": 50,
   "metadata": {},
   "outputs": [
    {
     "data": {
      "text/plain": [
       "array([ 8.46531267])"
      ]
     },
     "execution_count": 50,
     "metadata": {},
     "output_type": "execute_result"
    }
   ],
   "source": [
    "x_noisy[0]"
   ]
  },
  {
   "cell_type": "code",
   "execution_count": 51,
   "metadata": {},
   "outputs": [
    {
     "ename": "NameError",
     "evalue": "name 'z_measurement' is not defined",
     "output_type": "error",
     "traceback": [
      "\u001b[0;31m---------------------------------------------------------------------------\u001b[0m",
      "\u001b[0;31mNameError\u001b[0m                                 Traceback (most recent call last)",
      "\u001b[0;32m<ipython-input-51-c87a77126db0>\u001b[0m in \u001b[0;36m<module>\u001b[0;34m()\u001b[0m\n\u001b[0;32m----> 1\u001b[0;31m \u001b[0mz_measurement\u001b[0m \u001b[0;34m-\u001b[0m \u001b[0mz_mean\u001b[0m\u001b[0;34m\u001b[0m\u001b[0m\n\u001b[0m",
      "\u001b[0;31mNameError\u001b[0m: name 'z_measurement' is not defined"
     ]
    }
   ],
   "source": [
    "z_measurement - z_mean"
   ]
  },
  {
   "cell_type": "code",
   "execution_count": null,
   "metadata": {
    "collapsed": true
   },
   "outputs": [],
   "source": [
    "y_true[0]"
   ]
  },
  {
   "cell_type": "code",
   "execution_count": null,
   "metadata": {
    "collapsed": true
   },
   "outputs": [],
   "source": [
    "corrected_mean"
   ]
  },
  {
   "cell_type": "code",
   "execution_count": null,
   "metadata": {
    "collapsed": true
   },
   "outputs": [],
   "source": [
    "corrected_sigma"
   ]
  },
  {
   "cell_type": "code",
   "execution_count": null,
   "metadata": {
    "collapsed": true
   },
   "outputs": [],
   "source": [
    "_filter()"
   ]
  },
  {
   "cell_type": "code",
   "execution_count": null,
   "metadata": {
    "collapsed": true
   },
   "outputs": [],
   "source": [
    "corrected_rv = "
   ]
  },
  {
   "cell_type": "code",
   "execution_count": null,
   "metadata": {
    "collapsed": true
   },
   "outputs": [],
   "source": [
    "rv_corrected = multivariate_normal(mean=corrected_mean, cov=corrected_sigma)\n",
    "rv_predicted = multivariate_normal(mean=pred_mean, cov=pred_cov)"
   ]
  },
  {
   "cell_type": "code",
   "execution_count": null,
   "metadata": {
    "collapsed": true
   },
   "outputs": [],
   "source": [
    "rv_corrected.logpdf(x_true[0])\n",
    "\n"
   ]
  },
  {
   "cell_type": "code",
   "execution_count": null,
   "metadata": {
    "collapsed": true
   },
   "outputs": [],
   "source": [
    "rv_predicted.logpdf(x_true[0])"
   ]
  },
  {
   "cell_type": "code",
   "execution_count": null,
   "metadata": {
    "collapsed": true
   },
   "outputs": [],
   "source": [
    "np.testing.assert_allclose(X[:,0:1], np.sin(Xnew))"
   ]
  },
  {
   "cell_type": "code",
   "execution_count": null,
   "metadata": {
    "collapsed": true
   },
   "outputs": [],
   "source": [
    "for i in range(Xnew.shape[1]):\n",
    "    if i in self.params['n_theta']:\n",
    "        X[:, j] = np.sin(Xnew[:, i])\n",
    "        j += 1\n",
    "        X[:, j] = np.cos(Xnew[:, i])\n",
    "    else:\n",
    "        X[:, j] = Xnew[:, i]\n",
    "        j += 1"
   ]
  },
  {
   "cell_type": "code",
   "execution_count": null,
   "metadata": {
    "collapsed": true
   },
   "outputs": [],
   "source": [
    "Xvar = np.tile(np.eye(3), (9, 1) )"
   ]
  },
  {
   "cell_type": "code",
   "execution_count": null,
   "metadata": {
    "collapsed": true
   },
   "outputs": [],
   "source": [
    "Xvar = Xvar.reshape(9,3,3)"
   ]
  },
  {
   "cell_type": "code",
   "execution_count": null,
   "metadata": {
    "collapsed": true
   },
   "outputs": [],
   "source": [
    "Xvar.shape"
   ]
  },
  {
   "cell_type": "code",
   "execution_count": null,
   "metadata": {
    "collapsed": true
   },
   "outputs": [],
   "source": [
    "class KalmanFilterSmootherOLD:\n",
    "    def __init__(self, moment_matching, system_model):\n",
    "        \"\"\"\n",
    "        moment matching implements the transfer function needed.\n",
    "\n",
    "        \"\"\"\n",
    "        assert isinstance(system_model, TimeSeriesModel)  # make sure we are working with the time series model.\n",
    "        assert isinstance(moment_matching, MomentMatching)\n",
    "\n",
    "        self.transition = system_model.transition_function\n",
    "        self.measurement = system_model.measurement_function\n",
    "        self.init_dist = system_model.init_dist\n",
    "        self.moment_matching = moment_matching\n",
    "        self.predict = moment_matching.predict\n",
    "        self.system_model = system_model\n",
    "\n",
    "    #         self.init_dist = system_model.init_dist\n",
    "\n",
    "    def kalman_filter(self, noisy_observations, *args, prior_distribution=None):\n",
    "\n",
    "        if prior_distribution is None:\n",
    "            x_distribution = self.init_distribution\n",
    "        else:\n",
    "            x_distribution = prior_distribution\n",
    "\n",
    "        for observation in noisy_observations:\n",
    "            x_filtered_distribution = self._step_kalman_filter(x_distribution, observation)\n",
    "            yield x_filtered_distribution\n",
    "            x_distribution = x_filtered_distribution\n",
    "\n",
    "    def _step_kalman_filter(self, x_distribution, z_observation):\n",
    "        \"\"\"\n",
    "        This is a single step in kalman filter\n",
    "\n",
    "        1) Given x_mean and x_sigma predict the t+1 value using transistion\n",
    "            function and moment matching method\n",
    "\n",
    "        2) Project latent state through  measurement function to obtain predcitive\n",
    "           observation density\n",
    "\n",
    "        3) correct the density using Kalman gain\n",
    "\n",
    "\n",
    "        We use x as latent state distribution\n",
    "        \"\"\"\n",
    "\n",
    "#         x_t_plus_1 = self.moment_matching.predict(self.system_model.transition_function, x_distribution)\n",
    "\n",
    "        pred_mean, pred_cov = self.predict(self.transition, x_distribution)\n",
    "        pred_distribution = GaussianState(pred_mean, pred_cov)\n",
    "\n",
    "        z_mean, xz_sigma, z_sigma = self.predict(self.measurement, pred_distribution)\n",
    "\n",
    "        # calculate Kalman Gain K\n",
    "        K = np.matmul(xz_sigma, np.linalg.inv(z_sigma))\n",
    "        corrected_mean = x_mean + np.dot(K, (z_observation - z_mean))  # equation 15  in Marc's ACC paper\n",
    "        corrected_cov = x_sigma - np.dot(K, np.transpose(xz_sigma))\n",
    "        x_distribution_new = GaussianState(corrected_mean, corrected_cov)\n",
    "        return x_distribution_new\n",
    "\n",
    "    def _predict(self, x_mean, xx_sigma):\n",
    "        # we don't need cross covariance here, ignore it\n",
    "        pred_mean, _, pred_sigma = self.transition_model.predict_transition(x_mean, xx_sigma)\n",
    "\n",
    "        return pred_mean, pred_sigma\n",
    "\n",
    "    def correct(self, z_observation, x_mean, x_sigma):\n",
    "        # Todo : Check if it is better to pass inverse always or to use Cholesky for stability\n",
    "        # (Numpy lstq or solve may work)\n",
    "        z_mean, xz_sigma, z_sigma = self.observation_model.predict_observation(x_mean, x_sigma)\n",
    "\n",
    "        # calculate Kalman Gain K\n",
    "        K = np.matmul(xz_sigma, np.linalg.inv(z_sigma))\n",
    "        corrected_mean = x_mean + np.dot(K, (z_observation - z_mean))  # equation 15  in Marc's ACC paper\n",
    "        corrected_sigma = x_sigma - np.dot(K, np.transpose(xz_sigma))\n",
    "        return corrected_mean, corrected_sigma\n",
    "\n",
    "    def smooth(self, x_mean, x_sigma, x_next_mean, x_next_sigma):\n",
    "        xx_mean, xx_cross_sigma, xx_sigma = self.transition_model.predict_transition(x_mean, x_sigma)\n",
    "\n",
    "        # calculate smoother gain J_t\n",
    "        J = np.dot(xx_cross_sigma, np.linalg.inv(xx_sigma))\n",
    "\n",
    "        smoothed_mean = x_mean + np.dot(J, (x_next_mean - xx_mean))\n",
    "        smoothed_sigma = x_sigma + np.dot(np.dot(J, x_next_sigma - xx_sigma), np.transpose(J))\n",
    "        return smoothed_mean, smoothed_sigma"
   ]
  },
  {
   "cell_type": "code",
   "execution_count": null,
   "metadata": {
    "collapsed": true
   },
   "outputs": [],
   "source": [
    "from numpy import random\n",
    "np.unique([( random.randint(0, 10)) for k in range(3)])"
   ]
  }
 ],
 "metadata": {
  "anaconda-cloud": {},
  "kernelspec": {
   "display_name": "Python 3",
   "language": "python",
   "name": "python3"
  },
  "language_info": {
   "codemirror_mode": {
    "name": "ipython",
    "version": 3
   },
   "file_extension": ".py",
   "mimetype": "text/x-python",
   "name": "python",
   "nbconvert_exporter": "python",
   "pygments_lexer": "ipython3",
   "version": "3.6.1"
  }
 },
 "nbformat": 4,
 "nbformat_minor": 1
}
