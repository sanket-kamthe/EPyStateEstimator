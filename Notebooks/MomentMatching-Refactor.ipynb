{
 "cells": [
  {
   "cell_type": "markdown",
   "metadata": {
    "collapsed": true
   },
   "source": [
    "# <center>  On Equivalence of Kalman Filtering Smoothing and Expectation Propagation"
   ]
  },
  {
   "cell_type": "code",
   "execution_count": null,
   "metadata": {
    "collapsed": true
   },
   "outputs": [],
   "source": []
  },
  {
   "cell_type": "code",
   "execution_count": 1,
   "metadata": {
    "collapsed": true
   },
   "outputs": [],
   "source": [
    "import os, sys\n",
    "# import numpy as np\n",
    "from functools import partial\n",
    "import autograd.numpy as np\n",
    "from autograd import jacobian, grad, primitive\n",
    "from scipy.stats import multivariate_normal"
   ]
  },
  {
   "cell_type": "markdown",
   "metadata": {},
   "source": [
    "### <center>                                           Add module paths"
   ]
  },
  {
   "cell_type": "code",
   "execution_count": 2,
   "metadata": {},
   "outputs": [],
   "source": [
    "module_path = os.path.abspath(os.path.join('..'))\n",
    "if module_path not in sys.path:\n",
    "    sys.path.append(module_path)\n",
    "    \n",
    "from MomentMatching.StateModels import GaussianState\n",
    "from MomentMatching.baseMomentMatch import UnscentedTransform, TaylorTransform, MonteCarloTransform\n",
    "from MomentMatching.auto_grad import logpdf\n",
    "from MomentMatching.TimeSeriesModel import GaussianNoise\n",
    "# from MomentMatching.KalmanFilter import KalmanFilterSmoother"
   ]
  },
  {
   "cell_type": "code",
   "execution_count": 3,
   "metadata": {},
   "outputs": [],
   "source": [
    "noise = GaussianNoise(2, 0.1 * np.eye(2))"
   ]
  },
  {
   "cell_type": "code",
   "execution_count": 4,
   "metadata": {},
   "outputs": [
    {
     "data": {
      "text/plain": [
       "array([[ 0.1,  0. ],\n",
       "       [ 0. ,  0.1]])"
      ]
     },
     "execution_count": 4,
     "metadata": {},
     "output_type": "execute_result"
    }
   ],
   "source": [
    "noise.params.Q"
   ]
  },
  {
   "cell_type": "code",
   "execution_count": 5,
   "metadata": {
    "collapsed": true
   },
   "outputs": [],
   "source": [
    "x = np.array([2.0, 0.1])"
   ]
  },
  {
   "cell_type": "markdown",
   "metadata": {},
   "source": [
    "### <center> Define State Distributions"
   ]
  },
  {
   "cell_type": "code",
   "execution_count": 6,
   "metadata": {
    "collapsed": true
   },
   "outputs": [],
   "source": [
    "xx_mean = 1e-5 * np.array([-0.7398, -0.6866], dtype=float)\n",
    "xx_sigma = np.array([[0.0757,    0.0095],\n",
    "                     [0.0095,    0.0701]], dtype=float)\n",
    "state_distribution = GaussianState(xx_mean, xx_sigma)"
   ]
  },
  {
   "cell_type": "code",
   "execution_count": 7,
   "metadata": {
    "collapsed": true
   },
   "outputs": [],
   "source": [
    "xx_2_mean = 1e-5 *np.array([-0.3344, 0.1109], dtype=float)\n",
    "xx_2_sigma =  np.array([[0.0757,    0.0095],\n",
    "                        [0.0095,    0.0701]], dtype=float)\n",
    "next_state_distribution = GaussianState(xx_2_mean, xx_2_sigma)"
   ]
  },
  {
   "cell_type": "markdown",
   "metadata": {},
   "source": [
    "### <center>  Define a linear functions "
   ]
  },
  {
   "cell_type": "code",
   "execution_count": 8,
   "metadata": {
    "collapsed": true
   },
   "outputs": [],
   "source": [
    "A = np.array([[0.2, 0.8],\n",
    "              [-0.8, 0.4]], dtype=float)\n",
    "\n",
    "Q = 0.1 * np.eye(2)\n",
    "R = Q\n",
    "B = np.array([0.0, 0.0], dtype=float)\n",
    "Z = A"
   ]
  },
  {
   "cell_type": "code",
   "execution_count": 9,
   "metadata": {
    "collapsed": true
   },
   "outputs": [],
   "source": [
    "def measurement_function(x, A=A, B=B, t=None):\n",
    "    return A @ x + B#[:, np.newaxis]"
   ]
  },
  {
   "cell_type": "code",
   "execution_count": 10,
   "metadata": {
    "collapsed": true
   },
   "outputs": [],
   "source": [
    "def transition_function(x, A=A, B=B, t=None):\n",
    "    return measurement_function(x, A=A, B=B)\n",
    "\n",
    "def identity_function(x, A=np.eye(2)):\n",
    "    return A @ x"
   ]
  },
  {
   "cell_type": "markdown",
   "metadata": {},
   "source": [
    "### <center> Define Taylor transform TT"
   ]
  },
  {
   "cell_type": "code",
   "execution_count": 11,
   "metadata": {
    "collapsed": true
   },
   "outputs": [],
   "source": [
    "TT = TaylorTransform(dimension_of_state=2)"
   ]
  },
  {
   "cell_type": "code",
   "execution_count": 12,
   "metadata": {},
   "outputs": [
    {
     "data": {
      "text/plain": [
       "array([[ 0.2,  0.8],\n",
       "       [-0.8,  0.4]])"
      ]
     },
     "execution_count": 12,
     "metadata": {},
     "output_type": "execute_result"
    }
   ],
   "source": [
    "TT.numerical_jacobian(f=measurement_function, x=xx_mean)  # Should be same as A"
   ]
  },
  {
   "cell_type": "markdown",
   "metadata": {},
   "source": [
    "### <center> "
   ]
  },
  {
   "cell_type": "code",
   "execution_count": 13,
   "metadata": {},
   "outputs": [
    {
     "data": {
      "text/plain": [
       "array([[ 0.2,  0.8],\n",
       "       [-0.8,  0.4]])"
      ]
     },
     "execution_count": 13,
     "metadata": {},
     "output_type": "execute_result"
    }
   ],
   "source": [
    "meas_jac = jacobian(transition_function)\n",
    "meas_jac(xx_mean)  # Should be same as A"
   ]
  },
  {
   "cell_type": "markdown",
   "metadata": {},
   "source": [
    "### <center> Initialise factors"
   ]
  },
  {
   "cell_type": "code",
   "execution_count": 14,
   "metadata": {
    "collapsed": true
   },
   "outputs": [],
   "source": [
    "factor_mean = np.array([0.0, 0.0], dtype=float)\n",
    "factor_sigma = 99999 * np.array([[1, 0], [0, 1]], dtype=float)\n",
    "measurement_factor = GaussianState(factor_mean, factor_sigma)\n",
    "measurement = np.array([2.0, 0.0], dtype=float)"
   ]
  },
  {
   "cell_type": "code",
   "execution_count": 15,
   "metadata": {
    "collapsed": true
   },
   "outputs": [],
   "source": [
    "fwd_factor_mean = 1.0e-05 * np.array([-0.6972, 0.3172], dtype=float)\n",
    "fwd_factor_sigma = np.array([[0.1509,   0.0050],\n",
    "                             [0.0050,   0.1536]], dtype=float)\n",
    "fwd_factor = GaussianState(fwd_factor_mean, fwd_factor_sigma)"
   ]
  },
  {
   "cell_type": "markdown",
   "metadata": {},
   "source": [
    "### <center> Define Likelihood for EP updates"
   ]
  },
  {
   "cell_type": "code",
   "execution_count": 28,
   "metadata": {
    "collapsed": true
   },
   "outputs": [],
   "source": [
    "class MomentMatching2:\n",
    "    def __init__(self, transform):\n",
    "        self.transform = transform\n",
    "        \n",
    "    def data_likelihood2(f, mean1, cov1, mean2, cov2, Q= Q):\n",
    "    \n",
    "        meanx = f(mean1)   # z = f(x))\n",
    "        linear_C = jacobian(f)(mean1)  # linear factor A \n",
    "        covx = linear_C @ cov1 @ linear_C.T + Q #  predictive covariance sz = var(f(x)) = A * Sigma * A^T\n",
    "        logZi = logpdf(mean2, meanx, covx + cov2)\n",
    "        return logZi\n",
    "\n",
    "    def data_likelihood(f, mean, cov, measurement ):\n",
    "    \n",
    "        meanz = f(mean)   # z = f(x)\n",
    "        linear_C = jacobian(f)(mean)  # linear factor A \n",
    "        covz = linear_C @ cov @ linear_C.T #  predictive covariance sz = var(f(x)) = A * Sigma * A^T\n",
    "        logZi = logpdf(measurement, meanz, covz)\n",
    "        return logZi\n",
    "\n",
    "    def _data_lik(self, nonlinear_func, mean1, cov1, mean2,  Q=Q, cov2=None, fargs=None):\n",
    "        mean, cov, _ = self.transform.predict(nonlinear_func=nonlinear_func,\n",
    "                                    distribution=GaussianState(mean_vec=mean1, cov_matrix=cov1), fargs=fargs)\n",
    "        cov = cov + Q\n",
    "        if cov2 is None:\n",
    "            logZi = logpdf(mean2, mean, cov)\n",
    "        else:\n",
    "            logZi = logpdf(mean2, mean, cov + cov2)\n",
    "        return logZi\n",
    "    \n",
    "    @staticmethod\n",
    "    def gaussian_moment_matching(cavity_distribution, dlogZidMz, dlogZidSz):\n",
    "    \n",
    "        mx = cavity_distribution.mean + np.dot(cavity_distribution.cov, dlogZidMz.T)\n",
    "        vx = cavity_distribution.cov - cavity_distribution.cov @  (  np.outer(dlogZidMz, dlogZidMz) - 2*dlogZidSz ) @ cavity_distribution.cov.T  \n",
    "\n",
    "        return GaussianState(mx, vx)\n",
    "\n",
    "    def __call__(self, func, cavity_distribution, Q, match_with, fargs=None):\n",
    "        \n",
    "        if match_with is None:\n",
    "            mean, cov, _ = self.predict(nonlinear_func=func,\n",
    "                                        distribution=GaussianState(mean_vec=cavity_distribution.mean,\n",
    "                                                                   cov_matrix=cavity_distribution.cov),\n",
    "                                        fargs=fargs)\n",
    "            cov = cov + Q\n",
    "            return GaussianState(mean, cov)\n",
    "\n",
    "        if isinstance(match_with, GaussianState):\n",
    "            args_tuple = (func, cavity_distribution.mean, cavity_distribution.cov, match_with.mean, Q, match_with.cov, fargs)\n",
    "        else:\n",
    "            args_tuple = (func, cavity_distribution.mean, cavity_distribution.cov, match_with, Q, fargs)\n",
    "\n",
    "        logZi = self._data_lik(*args_tuple)\n",
    "        dlogZidMz = jacobian(self._data_lik, argnum=1)(*args_tuple)\n",
    "        dlogZidSz = jacobian(self._data_lik, argnum=2)(*args_tuple)\n",
    "\n",
    "        state = self.gaussian_moment_matching(cavity_distribution, dlogZidMz, dlogZidSz)\n",
    "        return state\n",
    "        "
   ]
  },
  {
   "cell_type": "code",
   "execution_count": 29,
   "metadata": {
    "collapsed": true
   },
   "outputs": [],
   "source": [
    "taylor_moment_match = MomentMatching2(TaylorTransform(dimension_of_state=2))"
   ]
  },
  {
   "cell_type": "code",
   "execution_count": 18,
   "metadata": {
    "collapsed": true
   },
   "outputs": [],
   "source": [
    "def data_likelihood(f, mean, cov, measurement ):\n",
    "    \n",
    "    meanz = f(mean)   # z = f(x)\n",
    "    linear_C = jacobian(f)(mean)  # linear factor A \n",
    "    covz = linear_C @ cov @ linear_C.T #  predictive covariance sz = var(f(x)) = A * Sigma * A^T\n",
    "    logZi = logpdf(measurement, meanz, covz)\n",
    "    return logZi"
   ]
  },
  {
   "cell_type": "code",
   "execution_count": 19,
   "metadata": {
    "collapsed": true
   },
   "outputs": [],
   "source": [
    "def data_likelihood2(f, mean1, cov1, mean2, cov2, Q= Q):\n",
    "    \n",
    "    meanx = f(mean1)   # z = f(x))\n",
    "    linear_C = jacobian(f)(mean1)  # linear factor A \n",
    "    covx = linear_C @ cov1 @ linear_C.T + Q #  predictive covariance sz = var(f(x)) = A * Sigma * A^T\n",
    "    logZi = logpdf(mean2, meanx, covx + cov2)\n",
    "    return logZi"
   ]
  },
  {
   "cell_type": "code",
   "execution_count": 20,
   "metadata": {
    "collapsed": true
   },
   "outputs": [],
   "source": [
    "def moment_matching(cavity_distribution, dlogZidMz, dlogZidSz):\n",
    "    \n",
    "    mx = cavity_distribution.mean + np.dot(cavity_distribution.cov, dlogZidMz.T)\n",
    "    vx = cavity_distribution.cov - cavity_distribution.cov @  (  np.outer(dlogZidMz, dlogZidMz) - 2*dlogZidSz ) @ cavity_distribution.cov.T  \n",
    "\n",
    "    return GaussianState(mx, vx)"
   ]
  },
  {
   "cell_type": "markdown",
   "metadata": {},
   "source": [
    "##############################################################################################################"
   ]
  },
  {
   "cell_type": "markdown",
   "metadata": {},
   "source": [
    "# <center>  Measurement Update"
   ]
  },
  {
   "cell_type": "markdown",
   "metadata": {},
   "source": [
    "##############################################################################################################"
   ]
  },
  {
   "cell_type": "code",
   "execution_count": 57,
   "metadata": {
    "collapsed": true
   },
   "outputs": [],
   "source": [
    "def ep_measurement_update( measurement_function, state_distribution,  z_measurement):\n",
    "    \n",
    "    #form cavity\n",
    "    measurement_cavity = state_distribution / measurement_factor\n",
    "    \n",
    "    \n",
    "    filtered_distribution = taylor_moment_match(func=measurement_function,\n",
    "                                    cavity_distribution=measurement_cavity,\n",
    "                                    Q=Q,\n",
    "                                    match_with=z_measurement)\n",
    "#     # logZi and it's derivatives\n",
    "#     logZi = data_likelihood(measurement_function, measurement_cavity.mean, measurement_cavity.cov, measurement)\n",
    "#     dlogZidMz = jacobian(data_likelihood, argnum=1)(measurement_function, measurement_cavity.mean, measurement_cavity.cov, z_measurement)\n",
    "#     dlogZidSz = jacobian(data_likelihood, argnum=2)(measurement_function, measurement_cavity.mean, measurement_cavity.cov, z_measurement)\n",
    "    \n",
    "\n",
    "#     filtered_distribution = moment_matching(measurement_cavity, dlogZidMz, dlogZidSz)\n",
    "    \n",
    "    return filtered_distribution\n",
    "    "
   ]
  },
  {
   "cell_type": "code",
   "execution_count": 31,
   "metadata": {},
   "outputs": [],
   "source": [
    "# dist1, dist2 = ep_measurement_update(measurement_function, state_distribution, measurement)"
   ]
  },
  {
   "cell_type": "code",
   "execution_count": 33,
   "metadata": {},
   "outputs": [
    {
     "data": {
      "text/plain": [
       "GaussianState \n",
       " mean=\n",
       " [ 1.11111111  2.22222222], \n",
       " cov=\n",
       "[[  2.35922393e-16   2.65412692e-16]\n",
       " [  5.60315683e-16   9.43689571e-16]])"
      ]
     },
     "execution_count": 33,
     "metadata": {},
     "output_type": "execute_result"
    }
   ],
   "source": [
    "# dist1"
   ]
  },
  {
   "cell_type": "code",
   "execution_count": 34,
   "metadata": {},
   "outputs": [
    {
     "data": {
      "text/plain": [
       "GaussianState \n",
       " mean=\n",
       " [ 0.32616051  0.76029108], \n",
       " cov=\n",
       "[[ 0.0507134   0.007707  ]\n",
       " [ 0.007707    0.04559173]])"
      ]
     },
     "execution_count": 34,
     "metadata": {},
     "output_type": "execute_result"
    }
   ],
   "source": [
    "# dist2"
   ]
  },
  {
   "cell_type": "code",
   "execution_count": 58,
   "metadata": {},
   "outputs": [],
   "source": [
    "EP_measurement_update = ep_measurement_update(measurement_function, state_distribution, measurement)"
   ]
  },
  {
   "cell_type": "markdown",
   "metadata": {},
   "source": [
    "#### <center> Kalman Filter Measurement update"
   ]
  },
  {
   "cell_type": "code",
   "execution_count": 59,
   "metadata": {
    "collapsed": true
   },
   "outputs": [],
   "source": [
    "def measurement_update(self, measurement_function, state_distribution, z_measurement):\n",
    "\n",
    "    z_mean, z_cov, xz_cross_cov = self.predict(measurement_function, state_distribution)\n",
    "    # Add measurement Noise R_t\n",
    "    z_cov = z_cov + R\n",
    "    \n",
    "\n",
    "    K = np.matmul(xz_cross_cov, np.linalg.inv(z_cov))\n",
    "\n",
    "    corrected_mean = state_distribution.mean + np.dot(K, (z_measurement - z_mean))  # equation 15  in Marc's ACC paper\n",
    "    corrected_cov = state_distribution.cov - np.dot(K, np.transpose(xz_cross_cov))\n",
    "\n",
    "    filtered_distribution = GaussianState(corrected_mean, corrected_cov)\n",
    "    return filtered_distribution"
   ]
  },
  {
   "cell_type": "code",
   "execution_count": 60,
   "metadata": {},
   "outputs": [],
   "source": [
    "Kalman_measurement_update = measurement_update(TT, measurement_function, state_distribution, measurement)"
   ]
  },
  {
   "cell_type": "markdown",
   "metadata": {
    "collapsed": true
   },
   "source": [
    "####  <center>  Check whether EP and Kalman filter are equal"
   ]
  },
  {
   "cell_type": "code",
   "execution_count": 61,
   "metadata": {},
   "outputs": [
    {
     "data": {
      "text/plain": [
       "True"
      ]
     },
     "execution_count": 61,
     "metadata": {},
     "output_type": "execute_result"
    }
   ],
   "source": [
    "EP_measurement_update == Kalman_measurement_update"
   ]
  },
  {
   "cell_type": "code",
   "execution_count": 62,
   "metadata": {},
   "outputs": [
    {
     "data": {
      "text/plain": [
       "GaussianState \n",
       " mean=\n",
       " [ 0.32616051  0.76029108], \n",
       " cov=\n",
       "[[ 0.0507134   0.007707  ]\n",
       " [ 0.007707    0.04559173]])"
      ]
     },
     "execution_count": 62,
     "metadata": {},
     "output_type": "execute_result"
    }
   ],
   "source": [
    "EP_measurement_update "
   ]
  },
  {
   "cell_type": "code",
   "execution_count": 63,
   "metadata": {},
   "outputs": [
    {
     "data": {
      "text/plain": [
       "GaussianState \n",
       " mean=\n",
       " [ 0.32616029  0.76029071], \n",
       " cov=\n",
       "[[ 0.05071337  0.00770699]\n",
       " [ 0.00770699  0.04559171]])"
      ]
     },
     "execution_count": 63,
     "metadata": {},
     "output_type": "execute_result"
    }
   ],
   "source": [
    "Kalman_measurement_update"
   ]
  },
  {
   "cell_type": "code",
   "execution_count": null,
   "metadata": {
    "collapsed": true
   },
   "outputs": [],
   "source": []
  },
  {
   "cell_type": "markdown",
   "metadata": {},
   "source": [
    "##############################################################################################################"
   ]
  },
  {
   "cell_type": "markdown",
   "metadata": {},
   "source": [
    "# <center> Smoothing Update"
   ]
  },
  {
   "cell_type": "markdown",
   "metadata": {},
   "source": [
    "##############################################################################################################"
   ]
  },
  {
   "cell_type": "markdown",
   "metadata": {},
   "source": [
    "#### <center> Kalman smoother the RTS version"
   ]
  },
  {
   "cell_type": "code",
   "execution_count": null,
   "metadata": {
    "collapsed": true
   },
   "outputs": [],
   "source": []
  },
  {
   "cell_type": "code",
   "execution_count": 64,
   "metadata": {
    "collapsed": true
   },
   "outputs": [],
   "source": [
    "def Kalman_smoother(self, transition_function, x_distribution, x_next_distribution, Q=Q):\n",
    "    # Forward pre1diction\n",
    "    xx_mean, xx_cov, xx_cross_cov, = self.predict(transition_function, x_distribution)\n",
    "    \n",
    "    # Add transition Noise Q_t\n",
    "    xx_cov = xx_cov + Q\n",
    "\n",
    "    # calculate smoother gain J_t\n",
    "    J = np.matmul(xx_cross_cov, np.linalg.inv(xx_cov))\n",
    "\n",
    "    smoothed_mean = x_distribution.mean + np.dot(J, (x_next_distribution.mean - xx_mean))\n",
    "    smoothed_cov = x_distribution.cov + J @ (x_next_distribution.cov - xx_cov) @ J.T\n",
    "    smoothed_distribution = GaussianState(smoothed_mean, smoothed_cov)\n",
    "    return smoothed_distribution"
   ]
  },
  {
   "cell_type": "code",
   "execution_count": 65,
   "metadata": {},
   "outputs": [],
   "source": [
    "Kalman_smoother_update = Kalman_smoother(TT, transition_function, state_distribution, next_state_distribution)"
   ]
  },
  {
   "cell_type": "markdown",
   "metadata": {},
   "source": [
    "#### <center> EP update with derivatives"
   ]
  },
  {
   "cell_type": "code",
   "execution_count": 72,
   "metadata": {
    "collapsed": true
   },
   "outputs": [],
   "source": [
    "def ep_back_update( transition_function, state_distribution,  next_state_distribution, back_factor, fwd_factor, Q=Q ):    \n",
    "    \n",
    "    # Form cavity distribution\n",
    "    back_cavity = state_distribution / back_factor\n",
    "    fwd_cavity = next_state_distribution / fwd_factor\n",
    "    \n",
    "    # Moment matching \n",
    "    EP_smoothed_distribution = taylor_moment_match(func=transition_function,\n",
    "                                    cavity_distribution=back_cavity,\n",
    "                                    Q=Q,\n",
    "                                    match_with=fwd_cavity)\n",
    "    \n",
    "#     arg_tuple = (transition_function, back_cavity.mean, back_cavity.cov, fwd_cavity.mean, fwd_cavity.cov, Q)\n",
    "#     logZi = data_likelihood2 (*arg_tuple)  \n",
    "#     dlogZidMz = jacobian(data_likelihood2, argnum=1)(*arg_tuple)  \n",
    "#     dlogZidSz = jacobian(data_likelihood2, argnum=2)(*arg_tuple)\n",
    "\n",
    "#     EP_smoother = moment_matching(back_cavity, dlogZidMz, dlogZidSz)\n",
    "    \n",
    "    return EP_smoothed_distribution"
   ]
  },
  {
   "cell_type": "code",
   "execution_count": 73,
   "metadata": {
    "collapsed": true
   },
   "outputs": [],
   "source": [
    "EP_smoothed_distribution = ep_back_update(transition_function, state_distribution, next_state_distribution, measurement_factor, fwd_factor)"
   ]
  },
  {
   "cell_type": "code",
   "execution_count": null,
   "metadata": {},
   "outputs": [],
   "source": []
  },
  {
   "cell_type": "markdown",
   "metadata": {},
   "source": [
    " ####  <center>  Check if EP and Kalman smoother are equal "
   ]
  },
  {
   "cell_type": "code",
   "execution_count": 74,
   "metadata": {},
   "outputs": [
    {
     "data": {
      "text/plain": [
       "True"
      ]
     },
     "execution_count": 74,
     "metadata": {},
     "output_type": "execute_result"
    }
   ],
   "source": [
    "Kalman_smoother_update == EP_back_update  "
   ]
  },
  {
   "cell_type": "code",
   "execution_count": 75,
   "metadata": {},
   "outputs": [
    {
     "data": {
      "text/plain": [
       "GaussianState \n",
       " mean=\n",
       " [ -6.03291231e-06  -5.73561091e-06], \n",
       " cov=\n",
       "[[ 0.06141629  0.00806166]\n",
       " [ 0.00806166  0.05842577]])"
      ]
     },
     "execution_count": 75,
     "metadata": {},
     "output_type": "execute_result"
    }
   ],
   "source": [
    "EP_back_update"
   ]
  },
  {
   "cell_type": "code",
   "execution_count": 76,
   "metadata": {},
   "outputs": [
    {
     "data": {
      "text/plain": [
       "GaussianState \n",
       " mean=\n",
       " [ -6.03289547e-06  -5.73569883e-06], \n",
       " cov=\n",
       "[[ 0.06141654  0.00806106]\n",
       " [ 0.00806106  0.05842459]])"
      ]
     },
     "execution_count": 76,
     "metadata": {},
     "output_type": "execute_result"
    }
   ],
   "source": [
    "Kalman_smoother_update"
   ]
  },
  {
   "cell_type": "code",
   "execution_count": null,
   "metadata": {
    "collapsed": true
   },
   "outputs": [],
   "source": [
    "%matplotlib inline"
   ]
  },
  {
   "cell_type": "code",
   "execution_count": null,
   "metadata": {
    "collapsed": true
   },
   "outputs": [],
   "source": [
    "import matplotlib.pyplot as plt\n",
    "import numpy as np"
   ]
  },
  {
   "cell_type": "code",
   "execution_count": null,
   "metadata": {
    "collapsed": true
   },
   "outputs": [],
   "source": [
    "x = np.sin(range(15))"
   ]
  },
  {
   "cell_type": "code",
   "execution_count": null,
   "metadata": {},
   "outputs": [],
   "source": [
    "plt.plot(x)"
   ]
  },
  {
   "cell_type": "code",
   "execution_count": null,
   "metadata": {
    "collapsed": true
   },
   "outputs": [],
   "source": []
  }
 ],
 "metadata": {
  "kernelspec": {
   "display_name": "Python 3",
   "language": "python",
   "name": "python3"
  },
  "language_info": {
   "codemirror_mode": {
    "name": "ipython",
    "version": 3
   },
   "file_extension": ".py",
   "mimetype": "text/x-python",
   "name": "python",
   "nbconvert_exporter": "python",
   "pygments_lexer": "ipython3",
   "version": "3.6.1"
  }
 },
 "nbformat": 4,
 "nbformat_minor": 2
}
