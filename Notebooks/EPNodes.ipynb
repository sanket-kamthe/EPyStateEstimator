{
 "cells": [
  {
   "cell_type": "code",
   "execution_count": 11,
   "metadata": {
    "collapsed": true
   },
   "outputs": [],
   "source": [
    "import os, sys\n",
    "# import numpy as np\n",
    "from functools import partial\n",
    "import autograd.numpy as np\n",
    "from autograd import jacobian, grad, primitive\n",
    "from scipy.stats import multivariate_normal\n",
    "from itertools import tee\n",
    "import copy"
   ]
  },
  {
   "cell_type": "code",
   "execution_count": 3,
   "metadata": {},
   "outputs": [],
   "source": [
    "module_path = os.path.abspath(os.path.join('..'))\n",
    "if module_path not in sys.path:\n",
    "    sys.path.append(module_path)\n",
    "    \n",
    "from MomentMatching.StateModels import GaussianState\n",
    "from MomentMatching.baseMomentMatch import UnscentedTransform, TaylorTransform, MonteCarloTransform\n",
    "from MomentMatching.auto_grad import logpdf\n",
    "from MomentMatching.ExpectationPropagation import TimeSeriesNodeForEP, EPbase, EPNodes"
   ]
  },
  {
   "cell_type": "code",
   "execution_count": 4,
   "metadata": {
    "collapsed": true
   },
   "outputs": [],
   "source": [
    "TT = TaylorTransform(dimension_of_state=1)"
   ]
  },
  {
   "cell_type": "code",
   "execution_count": 5,
   "metadata": {},
   "outputs": [],
   "source": [
    "All_nodes = EPNodes(dimension_of_state=1, N=15)"
   ]
  },
  {
   "cell_type": "code",
   "execution_count": null,
   "metadata": {},
   "outputs": [],
   "source": [
    "nodes = All_nodes.filter_iter()"
   ]
  },
  {
   "cell_type": "code",
   "execution_count": null,
   "metadata": {
    "collapsed": true
   },
   "outputs": [],
   "source": [
    "def pairwise(iterable):\n",
    "    \"s -> (s0,s1), (s1,s2), (s2, s3), ...\"\n",
    "    a, b = tee(iterable)\n",
    "    next(b, None)\n",
    "    return zip(a, b)"
   ]
  },
  {
   "cell_type": "code",
   "execution_count": null,
   "metadata": {},
   "outputs": [],
   "source": [
    "pairs = pairwise(All_nodes)"
   ]
  },
  {
   "cell_type": "code",
   "execution_count": null,
   "metadata": {},
   "outputs": [],
   "source": [
    "next(pairs)"
   ]
  },
  {
   "cell_type": "code",
   "execution_count": 7,
   "metadata": {
    "collapsed": true
   },
   "outputs": [],
   "source": [
    "def f(x):\n",
    "    return 2*x + 1"
   ]
  },
  {
   "cell_type": "code",
   "execution_count": 23,
   "metadata": {},
   "outputs": [],
   "source": [
    "def fwd_update(transform, transition_function, prev_node, node ):\n",
    "    assert isinstance(node, TimeSeriesNodeForEP)\n",
    "    assert isinstance(node.marginal, GaussianState)\n",
    "    print(node.forward_factor)\n",
    "    assert isinstance(node.forward_factor, GaussianState)\n",
    "    forward_cavity = node.marginal / node.forward_factor\n",
    "    back_cavity = prev_node.marginal / prev_node.back_factor\n",
    "    pred_mean, pred_cov, pred_cross_cov = transform.predict(nonlinear_func=transition_function,\n",
    "                                   distribution=back_cavity)\n",
    "    \n",
    "#     logZi, dlogZidMz, dlogZidSz =transform.project(nonlinear_func=transition_function,\n",
    "#                                                    distribution=back_cavity,\n",
    "#                                                    data=None)\n",
    "    pred_state = GaussianState(mean_vec=pred_mean, cov_matrix=pred_cov)\n",
    "    \n",
    "    result_node = node\n",
    "    forward_factor = GaussianState(mean_vec=pred_mean, cov_matrix=pred_cov)\n",
    "    result_node.forward_factor = forward_factor\n",
    "#     assert isinstance(other, GaussianState)\n",
    "    result_node.marginal = forward_cavity * result_node.forward_factor\n",
    "    \n",
    "    return result_node\n",
    "    "
   ]
  },
  {
   "cell_type": "code",
   "execution_count": 26,
   "metadata": {},
   "outputs": [
    {
     "name": "stdout",
     "output_type": "stream",
     "text": [
      "GaussianState \n",
      " mean=\n",
      " [ 1.], \n",
      " cov=\n",
      "[[-44439.5062277]])\n"
     ]
    }
   ],
   "source": [
    "ep_node = fwd_update(transform=TT, transition_function=f, prev_node=All_nodes[2], node=All_nodes[3])"
   ]
  },
  {
   "cell_type": "code",
   "execution_count": 30,
   "metadata": {},
   "outputs": [
    {
     "name": "stdout",
     "output_type": "stream",
     "text": [
      "GaussianState \n",
      " mean=\n",
      " [ 1.], \n",
      " cov=\n",
      "[[-44439.5062277]])\n"
     ]
    }
   ],
   "source": [
    "print(ep_node.forward_factor)"
   ]
  },
  {
   "cell_type": "code",
   "execution_count": null,
   "metadata": {},
   "outputs": [],
   "source": [
    "for node1, node2 in nodes:\n",
    "    print(f'node {node1.t}, node {node2.t}')"
   ]
  },
  {
   "cell_type": "code",
   "execution_count": null,
   "metadata": {
    "collapsed": true
   },
   "outputs": [],
   "source": []
  }
 ],
 "metadata": {
  "kernelspec": {
   "display_name": "Python 3",
   "language": "python",
   "name": "python3"
  },
  "language_info": {
   "codemirror_mode": {
    "name": "ipython",
    "version": 3
   },
   "file_extension": ".py",
   "mimetype": "text/x-python",
   "name": "python",
   "nbconvert_exporter": "python",
   "pygments_lexer": "ipython3",
   "version": "3.6.1"
  }
 },
 "nbformat": 4,
 "nbformat_minor": 2
}
