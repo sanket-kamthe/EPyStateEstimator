{
 "cells": [
  {
   "cell_type": "code",
   "execution_count": null,
   "metadata": {
    "collapsed": true
   },
   "outputs": [],
   "source": [
    "import numpy as np\n",
    "from collections import  namedtuple\n",
    "import itertools\n",
    "from collections.abc import MutableSequence"
   ]
  },
  {
   "cell_type": "code",
   "execution_count": 2,
   "metadata": {
    "collapsed": true
   },
   "outputs": [],
   "source": [
    "Factor = namedtuple('Factors',['fwd', 'up', 'back'] )\n",
    "Gaussian = namedtuple('State', ['mean', 'cov'])\n"
   ]
  },
  {
   "cell_type": "code",
   "execution_count": 3,
   "metadata": {
    "collapsed": true
   },
   "outputs": [],
   "source": [
    "factors = namedtuple('Factor',['mean', 'cov', 's'])"
   ]
  },
  {
   "cell_type": "code",
   "execution_count": 5,
   "metadata": {},
   "outputs": [],
   "source": [
    "upward = factors(0, 1000, 1)"
   ]
  },
  {
   "cell_type": "code",
   "execution_count": 7,
   "metadata": {},
   "outputs": [
    {
     "data": {
      "text/plain": [
       "0"
      ]
     },
     "execution_count": 7,
     "metadata": {},
     "output_type": "execute_result"
    }
   ],
   "source": [
    "class DoEP(object):\n",
    "    "
   ]
  },
  {
   "cell_type": "code",
   "execution_count": null,
   "metadata": {
    "collapsed": true
   },
   "outputs": [],
   "source": [
    "class EPNodes(MutableSequence):\n",
    "    def __init__(self, N, marginal_init=None, factors_init=None):\n",
    "        self._Node = []\n",
    "        for i in range(N):\n",
    "            self._Node.append(TimeSeriesNodeForEP(i, marginal=marginal_init,\n",
    "                                                  factors=factors_init)\n",
    "                              )\n",
    "        # self._Node = list(itertools.repeat(init_node, N))\n",
    "        self.mode_select = [1, 1, 1]\n",
    "\n",
    "    def validate_input(self, value):\n",
    "        pass\n",
    "\n",
    "    def __len__(self):\n",
    "        return len(self._Node)\n",
    "\n",
    "    def __getitem__(self, key):\n",
    "        return self._Node[key]\n",
    "\n",
    "    def __delitem__(self, key):\n",
    "        del self._Node[key]\n",
    "\n",
    "    def __setitem__(self, key, value):\n",
    "        self.validate_input(value)\n",
    "        self._Node[key] = value\n",
    "\n",
    "    def insert(self, index, value):\n",
    "\n",
    "        self.validate_input(value)\n",
    "        self._Node.insert(index, value)\n",
    "\n",
    "    def __str__(self):\n",
    "        return f'EP Nodes with {len(self._Node)} items in list ' + str(self._Node[0])\n",
    "\n",
    "    def filter_mode(self):\n",
    "        mode_select = [1, 1, 0]\n",
    "        for node in self._Node:\n",
    "            mode = itertools.compress(node.factors, mode_select)\n",
    "            for factor in mode:\n",
    "                print(f'In Node{node.t} {factor} factor')\n",
    "\n",
    "    def smoother_mode(self):\n",
    "        self.filter_mode()\n",
    "        mode_select = [0, 0, 1]\n",
    "        for node in reversed(self._Node):\n",
    "            mode = itertools.compress(node.factors, mode_select)\n",
    "            for factor in mode:\n",
    "                print(f'In Node{node.t} {factor} factor')"
   ]
  },
  {
   "cell_type": "markdown",
   "metadata": {},
   "source": [
    "## In the following we consider derivateive based updates only"
   ]
  },
  {
   "cell_type": "code",
   "execution_count": null,
   "metadata": {
    "collapsed": true
   },
   "outputs": [],
   "source": [
    "def forward_update(momentmatching, tranisition_function, node, previous_node):\n",
    "    \"\"\"\n",
    "    forward_cavity_distribution = node_marginal / forward_factor  # q(x_t) / q_fwd(x_t)\n",
    "    back_cavity_distribution = previous_node_marginal / previous_back_factor # q(x_t-1) / q_back(x_t-1)\n",
    "    \n",
    "    new_fwd_factor = moment matching with back_cavity_distribution, transition function and noise Q  #proj op\n",
    "    \n",
    "    new_node_marginal = forward_cavity_distribution * new_fwd_factor\n",
    "    \n",
    "    return new_fwd_factor\n",
    "    \"\"\"\n",
    "    "
   ]
  },
  {
   "cell_type": "code",
   "execution_count": null,
   "metadata": {
    "collapsed": true
   },
   "outputs": [],
   "source": [
    "def measurement_update(momentmatching, measurement_function, node, measurement):\n",
    "    \"\"\"\n",
    "    measurement cavity distribution = node_marginal / measurement_factor  # q(x_t) / q_up(x_t)\n",
    "    \n",
    "    new marginal = moment matching with measurement cavity distribution \n",
    "    \n",
    "    new_measurment factor = new_marginal / measurement cavity distribution\n",
    "    \n",
    "    return new_measurement_factor\n",
    "    \"\"\""
   ]
  },
  {
   "cell_type": "code",
   "execution_count": 155,
   "metadata": {
    "collapsed": true
   },
   "outputs": [],
   "source": [
    "def backward_update(momentmatching, transition_function ):\n",
    "    \"\"\"\n",
    "    back_cavity_distribution = node_marginal / back_factor # q(x_t) / q_back(x_t)\n",
    "    forward_cavity_distribution = next_node_marginal / next_forward_factor  # q(x_t) / q_fwd(x_t)\n",
    "    \n",
    "    new_marginal = moment matching with back cavity distribution \n",
    "    \n",
    "    return new_back_factor\n",
    "    \"\"\""
   ]
  },
  {
   "cell_type": "code",
   "execution_count": 152,
   "metadata": {
    "collapsed": true
   },
   "outputs": [],
   "source": [
    "Node = TimeSeriesNodeForEP(Gaussian(0, 1), Factor(1, 1, 1))\n",
    "test_nodes = EPNodes(10, Gaussian(0, 1), ['fwd', 'up', 'back'] )"
   ]
  },
  {
   "cell_type": "code",
   "execution_count": 148,
   "metadata": {
    "collapsed": true
   },
   "outputs": [],
   "source": [
    "# test_nodes[3] = TimeSeriesNodeForEP(Gaussian(1, 0), ['fwd', 'up', 'back'])"
   ]
  },
  {
   "cell_type": "code",
   "execution_count": 143,
   "metadata": {},
   "outputs": [
    {
     "data": {
      "text/plain": [
       "['fwd', 'up', 'back']"
      ]
     },
     "execution_count": 143,
     "metadata": {},
     "output_type": "execute_result"
    }
   ],
   "source": [
    "test_nodes[2].factors"
   ]
  },
  {
   "cell_type": "code",
   "execution_count": 149,
   "metadata": {},
   "outputs": [
    {
     "name": "stdout",
     "output_type": "stream",
     "text": [
      "EP Nodes with 10 items in list <__main__.TimeSeriesNodeForEP object at 0x7f31c21209e8>\n"
     ]
    }
   ],
   "source": [
    "print(test_nodes)"
   ]
  },
  {
   "cell_type": "code",
   "execution_count": 154,
   "metadata": {},
   "outputs": [
    {
     "name": "stdout",
     "output_type": "stream",
     "text": [
      "In Node0 fwd factor\n",
      "In Node0 up factor\n",
      "In Node1 fwd factor\n",
      "In Node1 up factor\n",
      "In Node2 fwd factor\n",
      "In Node2 up factor\n",
      "In Node3 fwd factor\n",
      "In Node3 up factor\n",
      "In Node4 fwd factor\n",
      "In Node4 up factor\n",
      "In Node5 fwd factor\n",
      "In Node5 up factor\n",
      "In Node6 fwd factor\n",
      "In Node6 up factor\n",
      "In Node7 fwd factor\n",
      "In Node7 up factor\n",
      "In Node8 fwd factor\n",
      "In Node8 up factor\n",
      "In Node9 fwd factor\n",
      "In Node9 up factor\n",
      "In Node9 back factor\n",
      "In Node8 back factor\n",
      "In Node7 back factor\n",
      "In Node6 back factor\n",
      "In Node5 back factor\n",
      "In Node4 back factor\n",
      "In Node3 back factor\n",
      "In Node2 back factor\n",
      "In Node1 back factor\n",
      "In Node0 back factor\n"
     ]
    }
   ],
   "source": [
    "test_nodes.smoother_mode()"
   ]
  },
  {
   "cell_type": "code",
   "execution_count": 162,
   "metadata": {},
   "outputs": [
    {
     "data": {
      "text/plain": [
       "array([ 1.35355388])"
      ]
     },
     "execution_count": 162,
     "metadata": {},
     "output_type": "execute_result"
    }
   ],
   "source": [
    "np.random.multivariate_normal(mean = np.array([0.0]), cov = np.array([[1]]) )"
   ]
  },
  {
   "cell_type": "code",
   "execution_count": 81,
   "metadata": {},
   "outputs": [
    {
     "name": "stdout",
     "output_type": "stream",
     "text": [
      "State(mean=0, cov=1)\n",
      "State(mean=0, cov=1)\n",
      "State(mean=0, cov=1)\n",
      "State(mean=1, cov=0)\n",
      "State(mean=0, cov=1)\n",
      "State(mean=0, cov=1)\n",
      "State(mean=0, cov=1)\n",
      "State(mean=0, cov=1)\n",
      "State(mean=0, cov=1)\n",
      "State(mean=0, cov=1)\n"
     ]
    },
    {
     "ename": "TypeError",
     "evalue": "'NoneType' object is not iterable",
     "traceback": [
      "\u001b[0;31m---------------------------------------------------------------------------\u001b[0m",
      "\u001b[0;31mTypeError\u001b[0m                                 Traceback (most recent call last)",
      "\u001b[0;32m<ipython-input-81-9f3f0eb27ec0>\u001b[0m in \u001b[0;36m<module>\u001b[0;34m()\u001b[0m\n\u001b[0;32m----> 1\u001b[0;31m \u001b[0mprint\u001b[0m\u001b[0;34m(\u001b[0m\u001b[0mlist\u001b[0m\u001b[0;34m(\u001b[0m\u001b[0mtest_nodes\u001b[0m\u001b[0;34m.\u001b[0m\u001b[0mfilter_mode\u001b[0m\u001b[0;34m(\u001b[0m\u001b[0;34m)\u001b[0m\u001b[0;34m)\u001b[0m\u001b[0;34m)\u001b[0m\u001b[0;34m\u001b[0m\u001b[0m\n\u001b[0m",
      "\u001b[0;31mTypeError\u001b[0m: 'NoneType' object is not iterable"
     ],
     "output_type": "error"
    }
   ],
   "source": []
  },
  {
   "cell_type": "code",
   "execution_count": 8,
   "metadata": {
    "collapsed": true
   },
   "outputs": [],
   "source": [
    "# class TimeSeriesFactors:\n",
    "#     def __init__(self, )\n",
    "\n",
    "        \n",
    "\n",
    "\n",
    "class AllNode:\n",
    "    def __init__(self, N, marginal=None, factors=None):\n",
    "        \n",
    "    \n",
    "        "
   ]
  },
  {
   "cell_type": "code",
   "execution_count": 20,
   "metadata": {
    "collapsed": true
   },
   "outputs": [],
   "source": [
    "AllNodes = list(itertools.repeat(Node, 50))"
   ]
  },
  {
   "cell_type": "code",
   "execution_count": 13,
   "metadata": {
    "collapsed": true
   },
   "outputs": [],
   "source": []
  },
  {
   "cell_type": "code",
   "execution_count": 22,
   "metadata": {},
   "outputs": [
    {
     "data": {
      "text/plain": [
       "<__main__.TimeSeriesNodeForEP at 0x7f31c8028630>"
      ]
     },
     "execution_count": 22,
     "metadata": {},
     "output_type": "execute_result"
    }
   ],
   "source": [
    "AllNodes[0]."
   ]
  },
  {
   "cell_type": "code",
   "execution_count": 25,
   "metadata": {},
   "outputs": [
    {
     "data": {
      "text/plain": [
       "list"
      ]
     },
     "execution_count": 25,
     "metadata": {},
     "output_type": "execute_result"
    }
   ],
   "source": [
    "d = []\n",
    "type(d)"
   ]
  }
 ],
 "metadata": {
  "kernelspec": {
   "display_name": "Python 3",
   "language": "python",
   "name": "python3"
  },
  "language_info": {
   "codemirror_mode": {
    "name": "ipython",
    "version": 3
   },
   "file_extension": ".py",
   "mimetype": "text/x-python",
   "name": "python",
   "nbconvert_exporter": "python",
   "pygments_lexer": "ipython3",
   "version": "3.6.1"
  }
 },
 "nbformat": 4,
 "nbformat_minor": 2
}
