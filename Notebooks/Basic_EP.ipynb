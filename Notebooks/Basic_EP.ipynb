{
 "cells": [
  {
   "cell_type": "code",
   "execution_count": 23,
   "metadata": {
    "collapsed": true
   },
   "outputs": [],
   "source": [
    "import numpy as np\n",
    "from collections import  namedtuple\n",
    "import itertools\n",
    "from collections.abc import MutableSequence"
   ]
  },
  {
   "cell_type": "code",
   "execution_count": 7,
   "metadata": {
    "collapsed": true
   },
   "outputs": [],
   "source": [
    "Factor = namedtuple('Factors',['fwd', 'up', 'back'] )\n",
    "Gaussian = namedtuple('State', ['mean', 'cov'])\n"
   ]
  },
  {
   "cell_type": "code",
   "execution_count": null,
   "metadata": {
    "collapsed": true
   },
   "outputs": [],
   "source": [
    "class MyNodes(MutableSequence):\n",
    "    def __init__(self, N, marginal_init=None, factors_init=None):\n",
    "        self._EPnodes = []\n",
    "    \n",
    "    def validate_input(self, value):\n",
    "        pass\n",
    "    \n",
    "    def __len__(self): return len(self._EPnodes)\n",
    "    \n",
    "    def __getitem__(self):\n",
    "    "
   ]
  },
  {
   "cell_type": "code",
   "execution_count": 155,
   "metadata": {
    "collapsed": true
   },
   "outputs": [],
   "source": [
    "-"
   ]
  },
  {
   "cell_type": "code",
   "execution_count": 152,
   "metadata": {
    "collapsed": true
   },
   "outputs": [],
   "source": [
    "Node = TimeSeriesNodeForEP(Gaussian(0, 1), Factor(1, 1, 1))\n",
    "test_nodes = EPNodes(10, Gaussian(0, 1), ['fwd', 'up', 'back'] )"
   ]
  },
  {
   "cell_type": "code",
   "execution_count": 148,
   "metadata": {
    "collapsed": true
   },
   "outputs": [],
   "source": [
    "# test_nodes[3] = TimeSeriesNodeForEP(Gaussian(1, 0), ['fwd', 'up', 'back'])"
   ]
  },
  {
   "cell_type": "code",
   "execution_count": 143,
   "metadata": {},
   "outputs": [
    {
     "data": {
      "text/plain": [
       "['fwd', 'up', 'back']"
      ]
     },
     "execution_count": 143,
     "metadata": {},
     "output_type": "execute_result"
    }
   ],
   "source": [
    "test_nodes[2].factors"
   ]
  },
  {
   "cell_type": "code",
   "execution_count": 149,
   "metadata": {},
   "outputs": [
    {
     "name": "stdout",
     "output_type": "stream",
     "text": [
      "EP Nodes with 10 items in list <__main__.TimeSeriesNodeForEP object at 0x7f31c21209e8>\n"
     ]
    }
   ],
   "source": [
    "print(test_nodes)"
   ]
  },
  {
   "cell_type": "code",
   "execution_count": 154,
   "metadata": {},
   "outputs": [
    {
     "name": "stdout",
     "output_type": "stream",
     "text": [
      "In Node0 fwd factor\n",
      "In Node0 up factor\n",
      "In Node1 fwd factor\n",
      "In Node1 up factor\n",
      "In Node2 fwd factor\n",
      "In Node2 up factor\n",
      "In Node3 fwd factor\n",
      "In Node3 up factor\n",
      "In Node4 fwd factor\n",
      "In Node4 up factor\n",
      "In Node5 fwd factor\n",
      "In Node5 up factor\n",
      "In Node6 fwd factor\n",
      "In Node6 up factor\n",
      "In Node7 fwd factor\n",
      "In Node7 up factor\n",
      "In Node8 fwd factor\n",
      "In Node8 up factor\n",
      "In Node9 fwd factor\n",
      "In Node9 up factor\n",
      "In Node9 back factor\n",
      "In Node8 back factor\n",
      "In Node7 back factor\n",
      "In Node6 back factor\n",
      "In Node5 back factor\n",
      "In Node4 back factor\n",
      "In Node3 back factor\n",
      "In Node2 back factor\n",
      "In Node1 back factor\n",
      "In Node0 back factor\n"
     ]
    }
   ],
   "source": [
    "test_nodes.smoother_mode()"
   ]
  },
  {
   "cell_type": "code",
   "execution_count": 162,
   "metadata": {},
   "outputs": [
    {
     "data": {
      "text/plain": [
       "array([ 1.35355388])"
      ]
     },
     "execution_count": 162,
     "metadata": {},
     "output_type": "execute_result"
    }
   ],
   "source": [
    "np.random.multivariate_normal(mean = np.array([0.0]), cov = np.array([[1]]) )"
   ]
  },
  {
   "cell_type": "code",
   "execution_count": 81,
   "metadata": {},
   "outputs": [
    {
     "name": "stdout",
     "output_type": "stream",
     "text": [
      "State(mean=0, cov=1)\n",
      "State(mean=0, cov=1)\n",
      "State(mean=0, cov=1)\n",
      "State(mean=1, cov=0)\n",
      "State(mean=0, cov=1)\n",
      "State(mean=0, cov=1)\n",
      "State(mean=0, cov=1)\n",
      "State(mean=0, cov=1)\n",
      "State(mean=0, cov=1)\n",
      "State(mean=0, cov=1)\n"
     ]
    },
    {
     "ename": "TypeError",
     "evalue": "'NoneType' object is not iterable",
     "output_type": "error",
     "traceback": [
      "\u001b[0;31m---------------------------------------------------------------------------\u001b[0m",
      "\u001b[0;31mTypeError\u001b[0m                                 Traceback (most recent call last)",
      "\u001b[0;32m<ipython-input-81-9f3f0eb27ec0>\u001b[0m in \u001b[0;36m<module>\u001b[0;34m()\u001b[0m\n\u001b[0;32m----> 1\u001b[0;31m \u001b[0mprint\u001b[0m\u001b[0;34m(\u001b[0m\u001b[0mlist\u001b[0m\u001b[0;34m(\u001b[0m\u001b[0mtest_nodes\u001b[0m\u001b[0;34m.\u001b[0m\u001b[0mfilter_mode\u001b[0m\u001b[0;34m(\u001b[0m\u001b[0;34m)\u001b[0m\u001b[0;34m)\u001b[0m\u001b[0;34m)\u001b[0m\u001b[0;34m\u001b[0m\u001b[0m\n\u001b[0m",
      "\u001b[0;31mTypeError\u001b[0m: 'NoneType' object is not iterable"
     ]
    }
   ],
   "source": []
  },
  {
   "cell_type": "code",
   "execution_count": 8,
   "metadata": {
    "collapsed": true
   },
   "outputs": [],
   "source": [
    "# class TimeSeriesFactors:\n",
    "#     def __init__(self, )\n",
    "\n",
    "        \n",
    "\n",
    "\n",
    "class AllNode:\n",
    "    def __init__(self, N, marginal=None, factors=None):\n",
    "        \n",
    "    \n",
    "        "
   ]
  },
  {
   "cell_type": "code",
   "execution_count": 20,
   "metadata": {
    "collapsed": true
   },
   "outputs": [],
   "source": [
    "AllNodes = list(itertools.repeat(Node, 50))"
   ]
  },
  {
   "cell_type": "code",
   "execution_count": 13,
   "metadata": {
    "collapsed": true
   },
   "outputs": [],
   "source": []
  },
  {
   "cell_type": "code",
   "execution_count": 22,
   "metadata": {},
   "outputs": [
    {
     "data": {
      "text/plain": [
       "<__main__.TimeSeriesNodeForEP at 0x7f31c8028630>"
      ]
     },
     "execution_count": 22,
     "metadata": {},
     "output_type": "execute_result"
    }
   ],
   "source": [
    "AllNodes[0]."
   ]
  },
  {
   "cell_type": "code",
   "execution_count": 25,
   "metadata": {},
   "outputs": [
    {
     "data": {
      "text/plain": [
       "list"
      ]
     },
     "execution_count": 25,
     "metadata": {},
     "output_type": "execute_result"
    }
   ],
   "source": [
    "d = []\n",
    "type(d)"
   ]
  }
 ],
 "metadata": {
  "kernelspec": {
   "display_name": "Python 3",
   "language": "python",
   "name": "python3"
  },
  "language_info": {
   "codemirror_mode": {
    "name": "ipython",
    "version": 3
   },
   "file_extension": ".py",
   "mimetype": "text/x-python",
   "name": "python",
   "nbconvert_exporter": "python",
   "pygments_lexer": "ipython3",
   "version": "3.6.1"
  }
 },
 "nbformat": 4,
 "nbformat_minor": 2
}
