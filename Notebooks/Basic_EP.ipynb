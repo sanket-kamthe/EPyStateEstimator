{
 "cells": [
  {
   "cell_type": "code",
   "execution_count": 1,
   "metadata": {
    "collapsed": true
   },
   "outputs": [],
   "source": [
    "import numpy as np\n",
    "from collections import  namedtuple\n",
    "import itertools\n",
    "from collections.abc import MutableSequence\n",
    "import os, sys"
   ]
  },
  {
   "cell_type": "code",
   "execution_count": 2,
   "metadata": {},
   "outputs": [],
   "source": [
    "module_path = os.path.abspath(os.path.join('..'))\n",
    "if module_path not in sys.path:\n",
    "    sys.path.append(module_path)\n"
   ]
  },
  {
   "cell_type": "code",
   "execution_count": 3,
   "metadata": {
    "collapsed": true
   },
   "outputs": [],
   "source": [
    "from MomentMatching.ExpectationPropagation import TimeSeriesNodeForEP, EPNodes"
   ]
  },
  {
   "cell_type": "code",
   "execution_count": 4,
   "metadata": {
    "collapsed": true
   },
   "outputs": [],
   "source": [
    "Factor = namedtuple('Factors',['fwd', 'up', 'back'] )\n",
    "Gaussian = namedtuple('State', ['mean', 'cov'])\n"
   ]
  },
  {
   "cell_type": "code",
   "execution_count": 5,
   "metadata": {
    "collapsed": true
   },
   "outputs": [],
   "source": [
    "factors = namedtuple('Factor',['mean', 'cov', 's'])"
   ]
  },
  {
   "cell_type": "code",
   "execution_count": 6,
   "metadata": {
    "collapsed": true
   },
   "outputs": [],
   "source": [
    "upward = factors(0, 1000, 1)"
   ]
  },
  {
   "cell_type": "code",
   "execution_count": null,
   "metadata": {},
   "outputs": [],
   "source": [
    "\n",
    "    "
   ]
  },
  {
   "cell_type": "code",
   "execution_count": 18,
   "metadata": {},
   "outputs": [],
   "source": [
    "class EPNodes1(MutableSequence):\n",
    "    def __init__(self, dimension_of_state=1, N=1, marginal_init=None, factors_init=None):\n",
    "        self._Node = []\n",
    "        for i in range(N):\n",
    "            self._Node.append(TimeSeriesNodeForEP(i, marginal=marginal_init,\n",
    "                                                  factors=factors_init)\n",
    "                              )\n",
    "        # self._Node = list(itertools.repeat(init_node, N))\n",
    "        self.mode_select = [1, 1, 1]\n",
    "\n",
    "    def validate_input(self, value):\n",
    "        pass\n",
    "\n",
    "    def __len__(self):\n",
    "        return len(self._Node)\n",
    "\n",
    "    def __getitem__(self, key):\n",
    "        return self._Node[key]\n",
    "\n",
    "    def __delitem__(self, key):\n",
    "        del self._Node[key]\n",
    "\n",
    "    def __setitem__(self, key, value):\n",
    "        self.validate_input(value)\n",
    "        self._Node[key] = value\n",
    "\n",
    "    def insert(self, index, value):\n",
    "\n",
    "        self.validate_input(value)\n",
    "        self._Node.insert(index, value)\n",
    "\n",
    "    def __str__(self):\n",
    "        return f'EP Nodes with {len(self._Node)} items in list ' + str(self._Node[0])\n",
    "\n",
    "    def filter_mode(self):\n",
    "        mode_select = [1, 1, 0]\n",
    "        for node in self._Node:\n",
    "            mode = itertools.compress(node.factors, mode_select)\n",
    "            for factor in mode:\n",
    "                print(f'In Node{node.t} {factor} factor')\n",
    "\n",
    "    def smoother_mode(self):\n",
    "        self.filter_mode()\n",
    "        mode_select = [0, 0, 1]\n",
    "        for node in reversed(self._Node):\n",
    "            mode = itertools.compress(node.factors, mode_select)\n",
    "            for factor in mode:\n",
    "                print(f'In Node{node.t} {factor} factor')"
   ]
  },
  {
   "cell_type": "markdown",
   "metadata": {},
   "source": [
    "## In the following we consider derivateive based updates only"
   ]
  },
  {
   "cell_type": "code",
   "execution_count": 19,
   "metadata": {
    "collapsed": true
   },
   "outputs": [],
   "source": [
    "def forward_update(momentmatching, tranisition_function, node, previous_node):\n",
    "    \"\"\"\n",
    "    forward_cavity_distribution = node_marginal / forward_factor  # q(x_t) / q_fwd(x_t)\n",
    "    back_cavity_distribution = previous_node_marginal / previous_back_factor # q(x_t-1) / q_back(x_t-1)\n",
    "    \n",
    "    new_fwd_factor = moment matching with back_cavity_distribution, transition function and noise Q  #proj op\n",
    "    \n",
    "    new_node_marginal = forward_cavity_distribution * new_fwd_factor\n",
    "    \n",
    "    return new_fwd_factor\n",
    "    \"\"\"\n",
    "    "
   ]
  },
  {
   "cell_type": "code",
   "execution_count": 20,
   "metadata": {
    "collapsed": true
   },
   "outputs": [],
   "source": [
    "def measurement_update(momentmatching, measurement_function, node, measurement):\n",
    "    \"\"\"\n",
    "    measurement cavity distribution = node_marginal / measurement_factor  # q(x_t) / q_up(x_t)\n",
    "    \n",
    "    new marginal = moment matching with measurement cavity distribution \n",
    "    \n",
    "    new_measurment factor = new_marginal / measurement cavity distribution\n",
    "    \n",
    "    return new_measurement_factor\n",
    "    \"\"\""
   ]
  },
  {
   "cell_type": "code",
   "execution_count": 21,
   "metadata": {
    "collapsed": true
   },
   "outputs": [],
   "source": [
    "def backward_update(momentmatching, transition_function ):\n",
    "    \"\"\"\n",
    "    back_cavity_distribution = node_marginal / back_factor # q(x_t) / q_back(x_t)\n",
    "    forward_cavity_distribution = next_node_marginal / next_forward_factor  # q(x_t) / q_fwd(x_t)\n",
    "    \n",
    "    new_marginal = moment matching with back cavity distribution \n",
    "    \n",
    "    return new_back_factor\n",
    "    \"\"\""
   ]
  },
  {
   "cell_type": "code",
   "execution_count": 22,
   "metadata": {},
   "outputs": [
    {
     "ename": "TypeError",
     "evalue": "__init__() got an unexpected keyword argument 'marginal'",
     "output_type": "error",
     "traceback": [
      "\u001b[0;31m---------------------------------------------------------------------------\u001b[0m",
      "\u001b[0;31mTypeError\u001b[0m                                 Traceback (most recent call last)",
      "\u001b[0;32m<ipython-input-22-678d17ab258f>\u001b[0m in \u001b[0;36m<module>\u001b[0;34m()\u001b[0m\n\u001b[1;32m      1\u001b[0m \u001b[0;31m# Node = TimeSeriesNodeForEP(Gaussian(0, 1), Factor(1, 1, 1))\u001b[0m\u001b[0;34m\u001b[0m\u001b[0;34m\u001b[0m\u001b[0m\n\u001b[1;32m      2\u001b[0m \u001b[0;31m# test_nodes = EPNodes(10, Gaussian(0, 1), ['fwd', 'up', 'back'] )\u001b[0m\u001b[0;34m\u001b[0m\u001b[0;34m\u001b[0m\u001b[0m\n\u001b[0;32m----> 3\u001b[0;31m \u001b[0mNodes\u001b[0m \u001b[0;34m=\u001b[0m \u001b[0mEPNodes1\u001b[0m\u001b[0;34m(\u001b[0m\u001b[0mdimension_of_state\u001b[0m\u001b[0;34m=\u001b[0m\u001b[0;36m1\u001b[0m\u001b[0;34m,\u001b[0m \u001b[0mN\u001b[0m\u001b[0;34m=\u001b[0m\u001b[0;36m10\u001b[0m\u001b[0;34m)\u001b[0m\u001b[0;34m\u001b[0m\u001b[0m\n\u001b[0m",
      "\u001b[0;32m<ipython-input-18-102ff6bace65>\u001b[0m in \u001b[0;36m__init__\u001b[0;34m(self, dimension_of_state, N, marginal_init, factors_init)\u001b[0m\n\u001b[1;32m      4\u001b[0m         \u001b[0;32mfor\u001b[0m \u001b[0mi\u001b[0m \u001b[0;32min\u001b[0m \u001b[0mrange\u001b[0m\u001b[0;34m(\u001b[0m\u001b[0mN\u001b[0m\u001b[0;34m)\u001b[0m\u001b[0;34m:\u001b[0m\u001b[0;34m\u001b[0m\u001b[0m\n\u001b[1;32m      5\u001b[0m             self._Node.append(TimeSeriesNodeForEP(i, marginal=marginal_init,\n\u001b[0;32m----> 6\u001b[0;31m                                                   factors=factors_init)\n\u001b[0m\u001b[1;32m      7\u001b[0m                               )\n\u001b[1;32m      8\u001b[0m         \u001b[0;31m# self._Node = list(itertools.repeat(init_node, N))\u001b[0m\u001b[0;34m\u001b[0m\u001b[0;34m\u001b[0m\u001b[0m\n",
      "\u001b[0;31mTypeError\u001b[0m: __init__() got an unexpected keyword argument 'marginal'"
     ]
    }
   ],
   "source": [
    "# Node = TimeSeriesNodeForEP(Gaussian(0, 1), Factor(1, 1, 1))\n",
    "# test_nodes = EPNodes(10, Gaussian(0, 1), ['fwd', 'up', 'back'] )\n",
    "Nodes = EPNodes1(dimension_of_state=1, N=10)"
   ]
  },
  {
   "cell_type": "code",
   "execution_count": 12,
   "metadata": {
    "collapsed": true
   },
   "outputs": [],
   "source": [
    "# test_nodes[3] = TimeSeriesNodeForEP(Gaussian(1, 0), ['fwd', 'up', 'back'])"
   ]
  },
  {
   "cell_type": "code",
   "execution_count": 13,
   "metadata": {},
   "outputs": [
    {
     "data": {
      "text/plain": [
       "['forward_update', 'measurement_update', 'backward_update']"
      ]
     },
     "execution_count": 13,
     "metadata": {},
     "output_type": "execute_result"
    }
   ],
   "source": [
    "Nodes[2].factors"
   ]
  },
  {
   "cell_type": "code",
   "execution_count": 14,
   "metadata": {},
   "outputs": [
    {
     "ename": "NameError",
     "evalue": "name 'test_nodes' is not defined",
     "output_type": "error",
     "traceback": [
      "\u001b[0;31m---------------------------------------------------------------------------\u001b[0m",
      "\u001b[0;31mNameError\u001b[0m                                 Traceback (most recent call last)",
      "\u001b[0;32m<ipython-input-14-8559933157e9>\u001b[0m in \u001b[0;36m<module>\u001b[0;34m()\u001b[0m\n\u001b[0;32m----> 1\u001b[0;31m \u001b[0mprint\u001b[0m\u001b[0;34m(\u001b[0m\u001b[0mtest_nodes\u001b[0m\u001b[0;34m)\u001b[0m\u001b[0;34m\u001b[0m\u001b[0m\n\u001b[0m",
      "\u001b[0;31mNameError\u001b[0m: name 'test_nodes' is not defined"
     ]
    }
   ],
   "source": []
  },
  {
   "cell_type": "code",
   "execution_count": 15,
   "metadata": {},
   "outputs": [
    {
     "name": "stdout",
     "output_type": "stream",
     "text": [
      "In Node0 forward_update\n",
      "In Node0 measurement_update\n",
      "In Node1 forward_update\n",
      "In Node1 measurement_update\n",
      "In Node2 forward_update\n",
      "In Node2 measurement_update\n",
      "In Node3 forward_update\n",
      "In Node3 measurement_update\n",
      "In Node4 forward_update\n",
      "In Node4 measurement_update\n",
      "In Node5 forward_update\n",
      "In Node5 measurement_update\n",
      "In Node6 forward_update\n",
      "In Node6 measurement_update\n",
      "In Node7 forward_update\n",
      "In Node7 measurement_update\n",
      "In Node8 forward_update\n",
      "In Node8 measurement_update\n",
      "In Node9 forward_update\n",
      "In Node9 measurement_update\n",
      "In Node9 backward_update\n",
      "In Node8 backward_update\n",
      "In Node7 backward_update\n",
      "In Node6 backward_update\n",
      "In Node5 backward_update\n",
      "In Node4 backward_update\n",
      "In Node3 backward_update\n",
      "In Node2 backward_update\n",
      "In Node1 backward_update\n",
      "In Node0 backward_update\n"
     ]
    }
   ],
   "source": [
    "Nodes.smoother_mode()"
   ]
  },
  {
   "cell_type": "code",
   "execution_count": null,
   "metadata": {},
   "outputs": [],
   "source": [
    "np.random.multivariate_normal(mean = np.array([0.0]), cov = np.array([[1]]) )"
   ]
  },
  {
   "cell_type": "code",
   "execution_count": null,
   "metadata": {},
   "outputs": [],
   "source": []
  },
  {
   "cell_type": "code",
   "execution_count": null,
   "metadata": {
    "collapsed": true
   },
   "outputs": [],
   "source": [
    "# class TimeSeriesFactors:\n",
    "#     def __init__(self, )\n",
    "\n",
    "        \n",
    "\n",
    "\n",
    "class AllNode:\n",
    "    def __init__(self, N, marginal=None, factors=None):\n",
    "        \n",
    "    \n",
    "        "
   ]
  },
  {
   "cell_type": "code",
   "execution_count": null,
   "metadata": {
    "collapsed": true
   },
   "outputs": [],
   "source": [
    "AllNodes = list(itertools.repeat(Node, 50))"
   ]
  },
  {
   "cell_type": "code",
   "execution_count": null,
   "metadata": {
    "collapsed": true
   },
   "outputs": [],
   "source": []
  },
  {
   "cell_type": "code",
   "execution_count": null,
   "metadata": {},
   "outputs": [],
   "source": [
    "AllNodes[0]."
   ]
  },
  {
   "cell_type": "code",
   "execution_count": null,
   "metadata": {},
   "outputs": [],
   "source": [
    "d = []\n",
    "type(d)"
   ]
  }
 ],
 "metadata": {
  "kernelspec": {
   "display_name": "Python 3",
   "language": "python",
   "name": "python3"
  },
  "language_info": {
   "codemirror_mode": {
    "name": "ipython",
    "version": 3
   },
   "file_extension": ".py",
   "mimetype": "text/x-python",
   "name": "python",
   "nbconvert_exporter": "python",
   "pygments_lexer": "ipython3",
   "version": "3.6.1"
  }
 },
 "nbformat": 4,
 "nbformat_minor": 2
}
