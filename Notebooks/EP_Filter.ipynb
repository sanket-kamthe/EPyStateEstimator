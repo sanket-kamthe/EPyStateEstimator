{
 "cells": [
  {
   "cell_type": "code",
   "execution_count": null,
   "metadata": {
    "collapsed": true
   },
   "outputs": [],
   "source": [
    "import numpy as np\n",
    "import itertools"
   ]
  },
  {
   "cell_type": "code",
   "execution_count": null,
   "metadata": {
    "collapsed": true
   },
   "outputs": [],
   "source": [
    "%matplotlib inline\n",
    "import matplotlib.pyplot as plt\n",
    "import seaborn as sns\n",
    "plt.style.use('seaborn-poster')"
   ]
  },
  {
   "cell_type": "code",
   "execution_count": null,
   "metadata": {
    "collapsed": true
   },
   "outputs": [],
   "source": [
    "import os\n",
    "import sys\n",
    "module_path = os.path.abspath(os.path.join('..'))\n",
    "if module_path not in sys.path:\n",
    "    sys.path.append(module_path)"
   ]
  },
  {
   "cell_type": "code",
   "execution_count": null,
   "metadata": {
    "collapsed": true
   },
   "outputs": [],
   "source": [
    "\n",
    "from MomentMatching.baseMomentMatch import MomentMatching, UnscentedTransform, TaylorTransform\n",
    "from MomentMatching.TimeSeriesModel import TimeSeriesModel, UniformNonlinearGrowthModel\n",
    "from MomentMatching.StateModels import GaussianState\n",
    "from MomentMatching.ExpectationPropagation import EPNodes, TopEP"
   ]
  },
  {
   "cell_type": "code",
   "execution_count": null,
   "metadata": {
    "collapsed": true
   },
   "outputs": [],
   "source": [
    "np.random.seed(seed=102)"
   ]
  },
  {
   "cell_type": "code",
   "execution_count": null,
   "metadata": {
    "collapsed": true
   },
   "outputs": [],
   "source": [
    "N = 100\n",
    "system = UniformNonlinearGrowthModel()\n",
    "data = system.system_simulation(N)\n",
    "x_true, x_noisy, y_true, y_noisy = zip(*data)"
   ]
  },
  {
   "cell_type": "code",
   "execution_count": null,
   "metadata": {},
   "outputs": [],
   "source": [
    "plt.plot(x_true)\n",
    "plt.scatter(list(range(N)), x_noisy)\n",
    "plt.plot(y_noisy)\n",
    "plt.plot(y_true, 'g--')\n",
    "plt.show()"
   ]
  },
  {
   "cell_type": "code",
   "execution_count": null,
   "metadata": {
    "collapsed": true
   },
   "outputs": [],
   "source": [
    "# transform = TaylorTransform(dimension_of_state=1)\n",
    "transform = UnscentedTransform(n=1)\n",
    "Nodes = EPNodes(dimension_of_state=1, N=N)\n",
    "EP = TopEP(system_model=system, moment_matching=transform.moment_matching_KF)\n"
   ]
  },
  {
   "cell_type": "code",
   "execution_count": null,
   "metadata": {
    "collapsed": true
   },
   "outputs": [],
   "source": [
    "prior = Nodes[0].copy()\n",
    "prior.marginal = system.init_dist"
   ]
  },
  {
   "cell_type": "code",
   "execution_count": null,
   "metadata": {},
   "outputs": [],
   "source": [
    "system.init_dist"
   ]
  },
  {
   "cell_type": "code",
   "execution_count": null,
   "metadata": {
    "collapsed": true
   },
   "outputs": [],
   "source": [
    "# EP.forward_update(Nodes[0], prior, 0.0)"
   ]
  },
  {
   "cell_type": "code",
   "execution_count": null,
   "metadata": {
    "collapsed": true
   },
   "outputs": [],
   "source": [
    "def EP_update(self, Nodes, observations, fargs_list):\n",
    "    prior = Nodes[0].copy()\n",
    "    prior.marginal = self.system_model.init_dist\n",
    "        # GaussianState(mean_vec=np.array([0.1]),\n",
    "        #                            cov_matrix=0.1 * np.eye(1, dtype=float))\n",
    "    node_iter, next_node_iter = itertools.tee(Nodes)\n",
    "    next(next_node_iter, None)\n",
    "    for node, next_node, obs, fargs in itertools.zip_longest(node_iter, next_node_iter, observations, fargs_list):\n",
    "        pred_state = self.forward_update(node=node, prev_node=prior, fargs=fargs)\n",
    "        corrected_state = self.measurement_update(pred_state, obs, fargs)\n",
    "        \n",
    "        if next_node is not None:\n",
    "            smoothed_state = self.backward_update(corrected_state, next_node=next_node, fargs=fargs )\n",
    "        else:\n",
    "            smoothed_state = corrected_state\n",
    "            \n",
    "        yield smoothed_state\n",
    "        prior = smoothed_state"
   ]
  },
  {
   "cell_type": "code",
   "execution_count": null,
   "metadata": {
    "collapsed": true
   },
   "outputs": [],
   "source": [
    "def kalman_filter(self, Nodes, observations, fargs_list):\n",
    "    prior = Nodes[0].copy()\n",
    "    prior.marginal = self.system_model.init_dist\n",
    "        # GaussianState(mean_vec=np.array([0.1]),\n",
    "        #                            cov_matrix=0.1 * np.eye(1, dtype=float))\n",
    "\n",
    "    for node, obs, fargs in zip(Nodes, observations, fargs_list):\n",
    "        pred_state = self.forward_update(node=node, prev_node=prior, fargs=fargs)\n",
    "        corrected_state = self.measurement_update(pred_state, obs, fargs)\n",
    "        yield corrected_state\n",
    "        prior = corrected_state\n",
    "\n",
    "        \n"
   ]
  },
  {
   "cell_type": "code",
   "execution_count": null,
   "metadata": {},
   "outputs": [],
   "source": [
    "system.Q.cov"
   ]
  },
  {
   "cell_type": "code",
   "execution_count": null,
   "metadata": {
    "collapsed": true
   },
   "outputs": [],
   "source": [
    "ans = EP.kalman_filter( Nodes, y_noisy, range(0, N))"
   ]
  },
  {
   "cell_type": "code",
   "execution_count": null,
   "metadata": {
    "collapsed": true
   },
   "outputs": [],
   "source": [
    "# ans2 = EP_update(EP, Nodes, y_noisy, range(0, N))\n",
    "# ep_data = list(ans2)"
   ]
  },
  {
   "cell_type": "code",
   "execution_count": null,
   "metadata": {},
   "outputs": [],
   "source": [
    "x_filtered = list(ans)\n",
    "x_filt_mean = [x.marginal.mean for x in x_filtered]"
   ]
  },
  {
   "cell_type": "code",
   "execution_count": null,
   "metadata": {},
   "outputs": [],
   "source": [
    "plt.plot(x_filt_mean)\n",
    "plt.plot(x_true, 'r--', label='x_true')"
   ]
  },
  {
   "cell_type": "code",
   "execution_count": null,
   "metadata": {
    "collapsed": true
   },
   "outputs": [],
   "source": [
    "def plot_gaussian(data):\n",
    "    x_mean = np.array([x.marginal.mean for x in data])\n",
    "    x_sigma = np.array([np.sqrt(x.marginal.cov[0, :]) for x in data])\n",
    "    \n",
    "    upr = x_mean + 2 * x_sigma\n",
    "    lwr = x_mean - 2 * x_sigma\n",
    "#     print(x_mean.shape)\n",
    "#     print(upr.shape)\n",
    "#     plt.plot(x_mean)\n",
    "#     plt.plot(lwr)\n",
    "#     plt.plot(upr)\n",
    "#     ax.plt.figure()\n",
    "    time = np.arange(len(data))\n",
    "#     time = time[:, np.newaxis]\n",
    "#     print(time.shape)\n",
    "    plt.fill_between(time, lwr[:,0], upr[:,0], alpha=0.5)\n",
    "    \n",
    "#     print (x1)\n",
    "#     print(x2)\n",
    "#     print(x1 + 2 * x2)\n",
    "#     print(x1 - 2 * x2)"
   ]
  },
  {
   "cell_type": "code",
   "execution_count": null,
   "metadata": {},
   "outputs": [],
   "source": [
    "plot_gaussian(x_filtered)\n",
    "plt.plot(x_true, 'r--', label='x_true')"
   ]
  },
  {
   "cell_type": "code",
   "execution_count": null,
   "metadata": {
    "collapsed": true
   },
   "outputs": [],
   "source": [
    "def kalman_smoother(self, Nodes, fargs_list):\n",
    "    \n",
    "    reversedNodes = reversed(Nodes)\n",
    "    reveresedFargs = reversed(fargs_list)\n",
    "    \n",
    "    # Last filtered value is same as first smoothed\n",
    "    next(reveresedFargs)\n",
    "    next_node = next(reversedNodes)\n",
    "    yield next_node\n",
    "    \n",
    "    for node, fargs in zip(reversedNodes, reveresedFargs):\n",
    "\n",
    "        smoothed_node = self.backward_update(node=node, next_node=next_node, fargs=fargs)\n",
    "#         print(f'node {node.t},  next_node {next_node.t}' )\n",
    "        yield smoothed_node\n",
    "        next_node = smoothed_node.copy()\n",
    "        "
   ]
  },
  {
   "cell_type": "code",
   "execution_count": null,
   "metadata": {},
   "outputs": [],
   "source": [
    "sms = kalman_smoother(EP, x_filtered, list(range(0, N)))\n",
    "x_smoothed = (list(sms))"
   ]
  },
  {
   "cell_type": "code",
   "execution_count": null,
   "metadata": {
    "collapsed": true
   },
   "outputs": [],
   "source": [
    "\n",
    "x_smoothed_mean = [x.marginal.mean for x in reversed(x_smoothed)]"
   ]
  },
  {
   "cell_type": "code",
   "execution_count": null,
   "metadata": {},
   "outputs": [],
   "source": [
    "[x.marginal.cov for x in reversed(x_smoothed)]"
   ]
  },
  {
   "cell_type": "code",
   "execution_count": null,
   "metadata": {},
   "outputs": [],
   "source": [
    "plt.plot(x_true, 'r--', label='x_true')\n",
    "plt.plot(x_filt_mean, 'b', label='x_filtered')\n",
    "plt.plot(x_smoothed_mean, 'g', label='x_smoothed')\n"
   ]
  },
  {
   "cell_type": "code",
   "execution_count": null,
   "metadata": {},
   "outputs": [],
   "source": [
    "plot_gaussian(x_filtered)\n",
    "plot_gaussian(x_smoothed)\n",
    "plt.plot(x_true, 'r--', label='x_true')"
   ]
  },
  {
   "cell_type": "code",
   "execution_count": null,
   "metadata": {},
   "outputs": [],
   "source": [
    "data_list = list(reversed(x_smoothed))\n",
    "for data in data_list:\n",
    "    print(data.marginal.cov)"
   ]
  },
  {
   "cell_type": "code",
   "execution_count": null,
   "metadata": {},
   "outputs": [],
   "source": [
    "ans = kalman_filter(EP, list(reversed(x_smoothed)), y_noisy, range(0, N))\n",
    "x_filtered2 = list(ans)"
   ]
  },
  {
   "cell_type": "code",
   "execution_count": null,
   "metadata": {
    "collapsed": true
   },
   "outputs": [],
   "source": [
    "x_filt_mean2 = [x.marginal.mean for x in x_filtered2]"
   ]
  },
  {
   "cell_type": "code",
   "execution_count": null,
   "metadata": {
    "collapsed": true
   },
   "outputs": [],
   "source": [
    "plt.plot(x_true, 'r--', label='x_true')\n",
    "plt.plot(x_filt_mean, 'b', label='x_filtered')\n",
    "plt.plot(x_smoothed_mean, 'g', label='x_smoothed')\n",
    "plt.plot(x_filt_mean2, 'b--', label='x_smthd_filt')"
   ]
  },
  {
   "cell_type": "code",
   "execution_count": null,
   "metadata": {
    "collapsed": true
   },
   "outputs": [],
   "source": []
  }
 ],
 "metadata": {
  "kernelspec": {
   "display_name": "Python 3",
   "language": "python",
   "name": "python3"
  },
  "language_info": {
   "codemirror_mode": {
    "name": "ipython",
    "version": 3
   },
   "file_extension": ".py",
   "mimetype": "text/x-python",
   "name": "python",
   "nbconvert_exporter": "python",
   "pygments_lexer": "ipython3",
   "version": "3.6.1"
  }
 },
 "nbformat": 4,
 "nbformat_minor": 2
}
