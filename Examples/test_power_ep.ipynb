{
 "cells": [
  {
   "cell_type": "code",
   "execution_count": 1,
   "metadata": {},
   "outputs": [],
   "source": [
    "from Systems import DynamicSystemModel, GaussianNoise\n",
    "from MomentMatching import TaylorTransform\n",
    "from MomentMatching.Estimator import Estimator\n",
    "from ExpectationPropagation.Nodes import build_nodes, node_estimator, node_system\n",
    "from StateModel import Gaussian\n",
    "import numpy as np"
   ]
  },
  {
   "cell_type": "code",
   "execution_count": 2,
   "metadata": {},
   "outputs": [],
   "source": [
    "F = np.array([[1.5]])\n",
    "H = np.array([[1.2]])\n",
    "\n",
    "def f(x, t, u=None):\n",
    "    return F@x\n",
    "\n",
    "def h(x, t=None, u=None):\n",
    "    return H@x\n",
    "\n",
    "class LinearSystem(DynamicSystemModel):\n",
    "    def __init__(self):\n",
    "        init_dist = Gaussian(mean_vec=np.array([0.0]), cov_mat=np.eye(1) * 1)\n",
    "        super().__init__(system_dim=1,\n",
    "                         measurement_dim=1,\n",
    "                         transition=f,\n",
    "                         measurement=h,\n",
    "                         system_noise=GaussianNoise(dimension=1,\n",
    "                                                    cov=np.eye(1) * 10),\n",
    "                         measurement_noise=GaussianNoise(dimension=1,\n",
    "                                                         cov=np.eye(1) * 10),\n",
    "                         init_distribution=init_dist\n",
    "                         )"
   ]
  },
  {
   "cell_type": "code",
   "execution_count": 3,
   "metadata": {},
   "outputs": [],
   "source": [
    "SEED = 12345\n",
    "timesteps = 2\n",
    "\n",
    "power = 0.8\n",
    "damping = 1.0\n",
    "\n",
    "system = LinearSystem()\n",
    "transition_transform = TaylorTransform(dim=1)\n",
    "measurement_transform = TaylorTransform(dim=1)\n",
    "\n",
    "\n",
    "np.random.seed(seed=SEED)\n",
    "data = system.simulate(timesteps)\n",
    "x_true, x_noisy, y_true, y_noisy = zip(*data)"
   ]
  },
  {
   "cell_type": "code",
   "execution_count": 4,
   "metadata": {},
   "outputs": [],
   "source": [
    "# Compute factors explicitly\n",
    "class ManualFactorUpdate:\n",
    "    def __init__(self):\n",
    "        self.F = F\n",
    "        self.H = H\n",
    "        self.Q = system.measurement_noise.cov\n",
    "        self.R = system.measurement_noise.cov\n",
    "        \n",
    "    def measurement_update(self, node):\n",
    "        y = np.atleast_1d(node.meas)\n",
    "        H, R = self.H, self.R\n",
    "        old_cavity = node.marginal / node.measurement_factor\n",
    "        mean = np.linalg.solve(H, y)\n",
    "        cov = np.linalg.inv(H.T@np.linalg.solve(R, H))\n",
    "        node.measurement_factor = Gaussian(mean, cov)\n",
    "        node.marginal = old_cavity * node.measurement_factor\n",
    "\n",
    "    def forward_update(self, node):\n",
    "        F, Q = self.F, self.Q\n",
    "        old_cavity = node.marginal / node.forward_factor\n",
    "        try:\n",
    "            prev_node = node.prev_node.copy()\n",
    "            back_cavity = prev_node.marginal / (prev_node.back_factor)\n",
    "        except AttributeError:\n",
    "            back_cavity = node.prior\n",
    "        meanxback = back_cavity.mean\n",
    "        covxback = back_cavity.cov\n",
    "        mean = F@meanxback\n",
    "        cov = F@covxback@F.T + Q\n",
    "        node.forward_factor = Gaussian(mean, cov)\n",
    "        node.marginal = old_cavity * node.forward_factor\n",
    "\n",
    "    def backward_update(self, node):\n",
    "        F, Q = self.F, self.Q\n",
    "        old_cavity = node.marginal / node.back_factor\n",
    "        try:\n",
    "            next_node = node.next_node.copy()\n",
    "            fwd_cavity = next_node.marginal / (next_node.forward_factor)\n",
    "            meanxfwd = fwd_cavity.mean\n",
    "            covxfwd = fwd_cavity.cov\n",
    "            mean = np.linalg.solve(F, meanxfwd)\n",
    "            cov = np.linalg.inv(F.T@np.linalg.solve(Q+covxfwd, F))\n",
    "            node.back_factor = Gaussian(mean, cov)\n",
    "            node.marginal = old_cavity * node.back_factor\n",
    "        except AttributeError:\n",
    "            return\n",
    "\n",
    "    def __call__(self, nodes):\n",
    "        for node in nodes:\n",
    "            self.forward_update(node)\n",
    "            self.measurement_update(node)\n",
    "        for node in nodes:\n",
    "            self.backward_update(node)\n",
    "\n",
    "\n",
    "def compare_factors(nodes_baseline, nodes_power_ep, power):\n",
    "    i = 0\n",
    "    for node_1, node_2 in zip(nodes_baseline, nodes_power_ep):\n",
    "        print(\"-------------------\")\n",
    "        print(f\"Node {i}\")\n",
    "        print(\"-------------------\")\n",
    "        fwd_1 = node_1.forward_factor\n",
    "        fwd_2 = node_2.forward_factor ** (1 / power)\n",
    "        fwd_mean_diff = np.abs(fwd_1.mean[0] - fwd_2.mean[0])\n",
    "        fwd_cov_diff = np.abs(fwd_1.cov[0][0] - fwd_2.cov[0][0])\n",
    "        print(f\"Forward factor: Mean difference = {fwd_mean_diff:.4f}, Cov difference = {fwd_cov_diff:.4f}\")\n",
    "        meas_1 = node_1.measurement_factor\n",
    "        meas_2 = node_2.measurement_factor ** (1 / power)\n",
    "        meas_mean_diff = np.abs(meas_1.mean[0] - meas_2.mean[0])\n",
    "        meas_cov_diff = np.abs(meas_1.cov[0][0] - meas_2.cov[0][0])\n",
    "        print(f\"Measurement factor: Mean difference = {meas_mean_diff:.4f}, Cov difference = {meas_cov_diff:.4f}\")\n",
    "        back_1 = node_1.back_factor\n",
    "        back_2 = node_2.back_factor ** (1 / power)\n",
    "        back_mean_diff = np.abs(back_1.mean[0] - back_2.mean[0])\n",
    "        back_cov_diff = np.abs(back_1.cov[0][0] - back_2.cov[0][0])\n",
    "        print(f\"Backward factor: Mean difference = {back_mean_diff:.4f}, Cov difference = {back_cov_diff:.4f}\")\n",
    "        i += 1\n"
   ]
  },
  {
   "cell_type": "code",
   "execution_count": 5,
   "metadata": {},
   "outputs": [],
   "source": [
    "estim = Estimator(trans_map=transition_transform,\n",
    "                meas_map=measurement_transform,\n",
    "                trans_noise=system.transition_noise.cov,\n",
    "                meas_noise=system.measurement_noise.cov,\n",
    "                power=power,\n",
    "                damping=damping)\n",
    "\n",
    "nodes_baseline = build_nodes(N=timesteps, dim=1)\n",
    "nodes_baseline = node_estimator(nodes=nodes_baseline, estimator=estim)\n",
    "nodes_baseline = node_system(nodes=nodes_baseline, system_model=system, measurements=y_noisy)\n",
    "\n",
    "kalman = ManualFactorUpdate()\n",
    "kalman(nodes_baseline)"
   ]
  },
  {
   "cell_type": "code",
   "execution_count": 6,
   "metadata": {},
   "outputs": [],
   "source": [
    "# Results from EP\n",
    "nodes = build_nodes(N=timesteps, dim=1)\n",
    "nodes = node_estimator(nodes=nodes, estimator=estim)\n",
    "nodes = node_system(nodes=nodes, system_model=system, measurements=y_noisy)\n",
    "\n",
    "for node in nodes:\n",
    "    node.fwd_update()\n",
    "    node.meas_update()\n",
    "for node in reversed(nodes):\n",
    "    node.back_update()"
   ]
  },
  {
   "cell_type": "code",
   "execution_count": 7,
   "metadata": {},
   "outputs": [
    {
     "name": "stdout",
     "output_type": "stream",
     "text": [
      "-------------------\n",
      "Node 0\n",
      "-------------------\n",
      "Forward factor: Mean difference = 0.0000, Cov difference = 0.0001\n",
      "Measurement factor: Mean difference = 0.0000, Cov difference = 0.0001\n",
      "Backward factor: Mean difference = 0.0001, Cov difference = 0.0002\n",
      "-------------------\n",
      "Node 1\n",
      "-------------------\n",
      "Forward factor: Mean difference = 0.0000, Cov difference = 0.0005\n",
      "Measurement factor: Mean difference = 0.0001, Cov difference = 0.0001\n",
      "Backward factor: Mean difference = 0.0000, Cov difference = 0.0000\n"
     ]
    }
   ],
   "source": [
    "compare_factors(nodes_baseline, nodes, power)"
   ]
  },
  {
   "cell_type": "code",
   "execution_count": null,
   "metadata": {},
   "outputs": [],
   "source": []
  }
 ],
 "metadata": {
  "interpreter": {
   "hash": "366b69a78fc6e98d99f860da1f78aa36c9280117e31ebf38ab68f7e74197a268"
  },
  "kernelspec": {
   "display_name": "Python 3.8.10 ('.venv': venv)",
   "language": "python",
   "name": "python3"
  },
  "language_info": {
   "codemirror_mode": {
    "name": "ipython",
    "version": 3
   },
   "file_extension": ".py",
   "mimetype": "text/x-python",
   "name": "python",
   "nbconvert_exporter": "python",
   "pygments_lexer": "ipython3",
   "version": "3.8.10"
  },
  "orig_nbformat": 4
 },
 "nbformat": 4,
 "nbformat_minor": 2
}
