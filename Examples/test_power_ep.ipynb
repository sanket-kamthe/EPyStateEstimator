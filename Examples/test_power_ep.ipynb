{
 "cells": [
  {
   "cell_type": "code",
   "execution_count": 1,
   "metadata": {},
   "outputs": [],
   "source": [
    "from Systems import DynamicSystemModel, GaussianNoise\n",
    "from MomentMatching import TaylorTransform\n",
    "from MomentMatching.Estimator import Estimator\n",
    "from ExpectationPropagation.Nodes import build_nodes, node_estimator, node_system\n",
    "from StateModel import Gaussian\n",
    "import numpy as np"
   ]
  },
  {
   "cell_type": "code",
   "execution_count": 2,
   "metadata": {},
   "outputs": [],
   "source": [
    "F = np.array([[3.5]])\n",
    "H = np.array([[2.2]])\n",
    "\n",
    "def f(x, t, u=None):\n",
    "    return F@x\n",
    "\n",
    "def h(x, t=None, u=None):\n",
    "    return H@x\n",
    "\n",
    "class LinearSystem(DynamicSystemModel):\n",
    "    def __init__(self):\n",
    "        init_dist = Gaussian(mean_vec=np.array([0.34]), cov_mat=np.eye(1) * 10)\n",
    "        super().__init__(system_dim=1,\n",
    "                         measurement_dim=1,\n",
    "                         transition=f,\n",
    "                         measurement=h,\n",
    "                         system_noise=GaussianNoise(dimension=1,\n",
    "                                                    cov=np.eye(1) * 2),\n",
    "                         measurement_noise=GaussianNoise(dimension=1,\n",
    "                                                         cov=np.eye(1) * 3),\n",
    "                         init_distribution=init_dist\n",
    "                         )"
   ]
  },
  {
   "cell_type": "code",
   "execution_count": 21,
   "metadata": {},
   "outputs": [],
   "source": [
    "SEED = 12345\n",
    "timesteps = 5\n",
    "\n",
    "power = 0.1\n",
    "\n",
    "system = LinearSystem()\n",
    "transition_transform = TaylorTransform(dim=1)\n",
    "measurement_transform = TaylorTransform(dim=1)\n",
    "\n",
    "\n",
    "np.random.seed(seed=SEED)\n",
    "data = system.simulate(timesteps)\n",
    "x_true, x_noisy, y_true, y_noisy = zip(*data)"
   ]
  },
  {
   "cell_type": "code",
   "execution_count": 22,
   "metadata": {},
   "outputs": [],
   "source": [
    "def compare_factors(nodes_baseline, nodes_power_ep, power):\n",
    "    i = 0\n",
    "    for node_1, node_2 in zip(nodes_baseline, nodes_power_ep):\n",
    "        print(\"-------------------\")\n",
    "        print(f\"Node {i}\")\n",
    "        print(\"-------------------\")\n",
    "        fwd_1 = node_1.forward_factor\n",
    "        fwd_2 = node_2.forward_factor ** (1 / power)\n",
    "        fwd_mean_diff = np.abs(fwd_1.mean[0] - fwd_2.mean[0])\n",
    "        fwd_cov_diff = np.abs(fwd_1.cov[0][0] - fwd_2.cov[0][0])\n",
    "        print(f\"Forward factor: Mean difference = {fwd_mean_diff:.4e}, Cov difference = {fwd_cov_diff:.4e}\")\n",
    "        meas_1 = node_1.measurement_factor\n",
    "        meas_2 = node_2.measurement_factor ** (1 / power)\n",
    "        meas_mean_diff = np.abs(meas_1.mean[0] - meas_2.mean[0])\n",
    "        meas_cov_diff = np.abs(meas_1.cov[0][0] - meas_2.cov[0][0])\n",
    "        print(f\"Measurement factor: Mean difference = {meas_mean_diff:.4e}, Cov difference = {meas_cov_diff:.4e}\")\n",
    "        back_1 = node_1.back_factor\n",
    "        back_2 = node_2.back_factor ** (1 / power)\n",
    "        back_mean_diff = np.abs(back_1.mean[0] - back_2.mean[0])\n",
    "        back_cov_diff = np.abs(back_1.cov[0][0] - back_2.cov[0][0])\n",
    "        print(f\"Backward factor: Mean difference = {back_mean_diff:.4e}, Cov difference = {back_cov_diff:.4e}\")\n",
    "        i += 1\n"
   ]
  },
  {
   "cell_type": "code",
   "execution_count": 23,
   "metadata": {},
   "outputs": [],
   "source": [
    "estim_1 = Estimator(trans_map=transition_transform,\n",
    "                meas_map=measurement_transform,\n",
    "                trans_noise=system.transition_noise.cov,\n",
    "                meas_noise=system.measurement_noise.cov,\n",
    "                power=1.,\n",
    "                damping=1.)\n",
    "\n",
    "nodes_baseline = build_nodes(N=timesteps, dim=1)\n",
    "nodes_baseline = node_estimator(nodes=nodes_baseline, estimator=estim_1)\n",
    "nodes_baseline = node_system(nodes=nodes_baseline, system_model=system, measurements=y_noisy)\n",
    "\n",
    "for node in nodes_baseline:\n",
    "    node.fwd_update()\n",
    "    node.meas_update()\n",
    "for node in reversed(nodes_baseline):\n",
    "    node.back_update()"
   ]
  },
  {
   "cell_type": "code",
   "execution_count": 24,
   "metadata": {},
   "outputs": [],
   "source": [
    "# Results from EP\n",
    "estim_2 = Estimator(trans_map=transition_transform,\n",
    "                meas_map=measurement_transform,\n",
    "                trans_noise=system.transition_noise.cov,\n",
    "                meas_noise=system.measurement_noise.cov,\n",
    "                power=power,\n",
    "                damping=1.)\n",
    "\n",
    "nodes = build_nodes(N=timesteps, dim=1)\n",
    "nodes = node_estimator(nodes=nodes, estimator=estim_2)\n",
    "nodes = node_system(nodes=nodes, system_model=system, measurements=y_noisy)\n",
    "\n",
    "for node in nodes:\n",
    "    node.fwd_update()\n",
    "    node.meas_update()\n",
    "for node in reversed(nodes):\n",
    "    node.back_update()"
   ]
  },
  {
   "cell_type": "code",
   "execution_count": 25,
   "metadata": {},
   "outputs": [
    {
     "name": "stdout",
     "output_type": "stream",
     "text": [
      "-------------------\n",
      "Node 0\n",
      "-------------------\n",
      "Forward factor: Mean difference = 1.0707e-12, Cov difference = 8.9978e-07\n",
      "Measurement factor: Mean difference = 4.5029e-06, Cov difference = 4.3575e-06\n",
      "Backward factor: Mean difference = 7.5742e-06, Cov difference = 5.0559e-07\n",
      "-------------------\n",
      "Node 1\n",
      "-------------------\n",
      "Forward factor: Mean difference = 1.5440e-05, Cov difference = 5.3750e-05\n",
      "Measurement factor: Mean difference = 3.6606e-06, Cov difference = 4.3198e-06\n",
      "Backward factor: Mean difference = 1.9560e-05, Cov difference = 4.1746e-07\n",
      "-------------------\n",
      "Node 2\n",
      "-------------------\n",
      "Forward factor: Mean difference = 1.5904e-05, Cov difference = 5.0009e-05\n",
      "Measurement factor: Mean difference = 3.0972e-05, Cov difference = 4.3162e-06\n",
      "Backward factor: Mean difference = 7.6132e-05, Cov difference = 4.2415e-07\n",
      "-------------------\n",
      "Node 3\n",
      "-------------------\n",
      "Forward factor: Mean difference = 1.0414e-04, Cov difference = 4.9739e-05\n",
      "Measurement factor: Mean difference = 1.0492e-04, Cov difference = 4.3161e-06\n",
      "Backward factor: Mean difference = 2.4515e-04, Cov difference = 7.2394e-07\n",
      "-------------------\n",
      "Node 4\n",
      "-------------------\n",
      "Forward factor: Mean difference = 3.6707e-04, Cov difference = 4.9722e-05\n",
      "Measurement factor: Mean difference = 3.6479e-04, Cov difference = 4.3160e-06\n",
      "Backward factor: Mean difference = 0.0000e+00, Cov difference = 0.0000e+00\n"
     ]
    }
   ],
   "source": [
    "compare_factors(nodes_baseline, nodes, power)"
   ]
  },
  {
   "cell_type": "code",
   "execution_count": null,
   "metadata": {},
   "outputs": [],
   "source": []
  }
 ],
 "metadata": {
  "interpreter": {
   "hash": "366b69a78fc6e98d99f860da1f78aa36c9280117e31ebf38ab68f7e74197a268"
  },
  "kernelspec": {
   "display_name": "Python 3.8.10 ('.venv': venv)",
   "language": "python",
   "name": "python3"
  },
  "language_info": {
   "codemirror_mode": {
    "name": "ipython",
    "version": 3
   },
   "file_extension": ".py",
   "mimetype": "text/x-python",
   "name": "python",
   "nbconvert_exporter": "python",
   "pygments_lexer": "ipython3",
   "version": "3.8.10"
  },
  "orig_nbformat": 4
 },
 "nbformat": 4,
 "nbformat_minor": 2
}
