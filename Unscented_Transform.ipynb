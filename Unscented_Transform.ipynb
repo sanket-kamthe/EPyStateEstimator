{
 "cells": [
  {
   "cell_type": "code",
   "execution_count": 1,
   "metadata": {
    "collapsed": true
   },
   "outputs": [],
   "source": [
    "import numpy as np\n"
   ]
  },
  {
   "cell_type": "code",
   "execution_count": 49,
   "metadata": {
    "collapsed": false
   },
   "outputs": [],
   "source": [
    "x_mean = np.array([[0.0], [0]])\n",
    "x_sigma =np.array([[1, 0],[ 0, 1]])"
   ]
  },
  {
   "cell_type": "code",
   "execution_count": 50,
   "metadata": {
    "collapsed": false
   },
   "outputs": [
    {
     "data": {
      "text/plain": [
       "array([[ 1.,  0.],\n",
       "       [ 0.,  1.]])"
      ]
     },
     "execution_count": 50,
     "metadata": {},
     "output_type": "execute_result"
    }
   ],
   "source": [
    "np.linalg.cholesky(x_sigma)"
   ]
  },
  {
   "cell_type": "code",
   "execution_count": 126,
   "metadata": {
    "collapsed": false
   },
   "outputs": [],
   "source": [
    "def get_sigma_points(x_mean, x_sigma, n = 2, alpha= 0.5, beta = 2, kappa = 10):\n",
    "    sigma_points = np.zeros([n, 2 * n + 1], dtype=np.float)\n",
    "    \n",
    "    # Use Cholesky as proxy for square root of the matrix\n",
    "    L = np.linalg.cholesky(x_sigma)\n",
    "    \n",
    "    par_lambda = alpha * alpha * (n + kappa) - n\n",
    "    sqrt_n_plus_lambda = np.sqrt(n + par_lambda)\n",
    "    \n",
    "    sigma_points[:, 0:1] = x_mean\n",
    "    sigma_points[:, 1:n+1] = x_mean + sqrt_n_plus_lambda * L \n",
    "    sigma_points[:, n+1:2*n+1] = x_mean - sqrt_n_plus_lambda * L \n",
    "    \n",
    "    w_m = np.zeros([1, 2 * n + 1 ], dtype=np.float)\n",
    "    w_c = np.zeros([1, 2 * n + 1 ], dtype=np.float)\n",
    "    \n",
    "    print(par_lambda)\n",
    "    \n",
    "    # weights w_m are for computing mean and weights w_c are\n",
    "    # used for covarince calculation\n",
    "    \n",
    "    w_m = w_m + 1 / (2* (n + par_lambda))\n",
    "    w_c = w_c + w_m\n",
    "    w_m [0, 0] = par_lambda / (n + par_lambda) \n",
    "    w_c [0, 0] = w_m[0,0] + (1 - alpha * alpha + beta)\n",
    "    \n",
    "    return sigma_points, w_m, w_c\n",
    "    \n",
    "    "
   ]
  },
  {
   "cell_type": "code",
   "execution_count": 127,
   "metadata": {
    "collapsed": false
   },
   "outputs": [],
   "source": [
    "def f(x):\n",
    "    return 2 * x + 1"
   ]
  },
  {
   "cell_type": "code",
   "execution_count": 166,
   "metadata": {
    "collapsed": false
   },
   "outputs": [],
   "source": [
    "def unscented_transform(f, x_mean, x_sigma):\n",
    "    n = 2\n",
    "    sigma_points, w_m, w_c = get_sigma_points(x_mean, x_sigma, n=n)\n",
    "    \n",
    "    transformed_points = f(sigma_points)\n",
    "    pred_mean = np.sum (np.multiply( transformed_points , w_m ) , axis=1)\n",
    "    pred_mean = pred_mean.reshape([n, 1])\n",
    "    gofx_minus_mean = f(sigma_points) - pred_mean\n",
    "    p_s = np.matmul( gofx_minus_mean, np.transpose(gofx_minus_mean))\n",
    "    #pred_sigma = np.sum(np.multiply( np.matmul( gofx_minus_mean, gofx_minus_mean.transpose()) , w_m ))\n",
    "    return pred_mean, p_s"
   ]
  },
  {
   "cell_type": "code",
   "execution_count": 167,
   "metadata": {
    "collapsed": false
   },
   "outputs": [
    {
     "name": "stdout",
     "output_type": "stream",
     "text": [
      "1.0\n"
     ]
    },
    {
     "data": {
      "text/plain": [
       "(array([[ 0.        ,  1.73205081,  0.        , -1.73205081,  0.        ],\n",
       "        [ 0.        ,  0.        ,  1.73205081,  0.        , -1.73205081]]),\n",
       " array([[ 0.33333333,  0.16666667,  0.16666667,  0.16666667,  0.16666667]]),\n",
       " array([[ 3.08333333,  0.16666667,  0.16666667,  0.16666667,  0.16666667]]))"
      ]
     },
     "execution_count": 167,
     "metadata": {},
     "output_type": "execute_result"
    }
   ],
   "source": [
    "get_sigma_points(x_mean, x_sigma)"
   ]
  },
  {
   "cell_type": "code",
   "execution_count": 168,
   "metadata": {
    "collapsed": false
   },
   "outputs": [
    {
     "name": "stdout",
     "output_type": "stream",
     "text": [
      "1.0\n"
     ]
    },
    {
     "data": {
      "text/plain": [
       "(array([[ 1.],\n",
       "        [ 1.]]), array([[ 24.,   0.],\n",
       "        [  0.,  24.]]))"
      ]
     },
     "execution_count": 168,
     "metadata": {},
     "output_type": "execute_result"
    }
   ],
   "source": [
    "unscented_transform(f, x_mean, x_sigma)"
   ]
  },
  {
   "cell_type": "code",
   "execution_count": 154,
   "metadata": {
    "collapsed": false
   },
   "outputs": [
    {
     "data": {
      "text/plain": [
       "array([[ 1.],\n",
       "       [ 1.]])"
      ]
     },
     "execution_count": 154,
     "metadata": {},
     "output_type": "execute_result"
    }
   ],
   "source": [
    "f(x_mean)"
   ]
  },
  {
   "cell_type": "code",
   "execution_count": 21,
   "metadata": {
    "collapsed": false
   },
   "outputs": [
    {
     "data": {
      "text/plain": [
       "array([[0],\n",
       "       [0]])"
      ]
     },
     "execution_count": 21,
     "metadata": {},
     "output_type": "execute_result"
    }
   ],
   "source": [
    "x_mean"
   ]
  },
  {
   "cell_type": "code",
   "execution_count": null,
   "metadata": {
    "collapsed": true
   },
   "outputs": [],
   "source": []
  }
 ],
 "metadata": {
  "kernelspec": {
   "display_name": "Python 3",
   "language": "python",
   "name": "python3"
  },
  "language_info": {
   "codemirror_mode": {
    "name": "ipython",
    "version": 3
   },
   "file_extension": ".py",
   "mimetype": "text/x-python",
   "name": "python",
   "nbconvert_exporter": "python",
   "pygments_lexer": "ipython3",
   "version": "3.6.0"
  }
 },
 "nbformat": 4,
 "nbformat_minor": 2
}
